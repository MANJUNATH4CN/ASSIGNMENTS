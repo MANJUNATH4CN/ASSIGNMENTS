{
  "nbformat": 4,
  "nbformat_minor": 0,
  "metadata": {
    "colab": {
      "name": "naive bayes test.ipynb",
      "provenance": [],
      "collapsed_sections": []
    },
    "kernelspec": {
      "name": "python3",
      "display_name": "Python 3"
    },
    "language_info": {
      "name": "python"
    }
  },
  "cells": [
    {
      "cell_type": "code",
      "metadata": {
        "id": "81EPvD1brY00"
      },
      "source": [
        "import pandas as pd\n",
        "import numpy as np\n",
        "import seaborn as sns\n",
        "import matplotlib.pyplot as plt\n",
        "%matplotlib inline\n",
        "import re\n",
        "import string\n",
        "from time import time\n",
        "from IPython.display import display"
      ],
      "execution_count": 8,
      "outputs": []
    },
    {
      "cell_type": "code",
      "metadata": {
        "id": "N2PVFR2urqu7"
      },
      "source": [
        "# Suppress matplotlib user warnings\n",
        "# Necessary for newer version of matplotlib\n",
        "import warnings\n",
        "warnings.filterwarnings(\"ignore\", category = UserWarning, module = \"matplotlib\")\n",
        "\n",
        "# Display inline matplotlib plots with IPython\n",
        "from IPython import get_ipython\n",
        "get_ipython().run_line_magic('matplotlib', 'inline')"
      ],
      "execution_count": 9,
      "outputs": []
    },
    {
      "cell_type": "code",
      "metadata": {
        "id": "YTGigNtqrqwn"
      },
      "source": [
        "data=pd.read_csv('SalaryData_Test.csv',encoding = \"ISO-8859-1\")"
      ],
      "execution_count": 10,
      "outputs": []
    },
    {
      "cell_type": "code",
      "metadata": {
        "colab": {
          "base_uri": "https://localhost:8080/",
          "height": 309
        },
        "id": "geX0xq0Jrq0S",
        "outputId": "92b078d6-b26f-41fb-a35a-3161b83e9a17"
      },
      "source": [
        "data.head()"
      ],
      "execution_count": 11,
      "outputs": [
        {
          "output_type": "execute_result",
          "data": {
            "text/html": [
              "<div>\n",
              "<style scoped>\n",
              "    .dataframe tbody tr th:only-of-type {\n",
              "        vertical-align: middle;\n",
              "    }\n",
              "\n",
              "    .dataframe tbody tr th {\n",
              "        vertical-align: top;\n",
              "    }\n",
              "\n",
              "    .dataframe thead th {\n",
              "        text-align: right;\n",
              "    }\n",
              "</style>\n",
              "<table border=\"1\" class=\"dataframe\">\n",
              "  <thead>\n",
              "    <tr style=\"text-align: right;\">\n",
              "      <th></th>\n",
              "      <th>age</th>\n",
              "      <th>workclass</th>\n",
              "      <th>education</th>\n",
              "      <th>educationno</th>\n",
              "      <th>maritalstatus</th>\n",
              "      <th>occupation</th>\n",
              "      <th>relationship</th>\n",
              "      <th>race</th>\n",
              "      <th>sex</th>\n",
              "      <th>capitalgain</th>\n",
              "      <th>capitalloss</th>\n",
              "      <th>hoursperweek</th>\n",
              "      <th>native</th>\n",
              "      <th>Salary</th>\n",
              "    </tr>\n",
              "  </thead>\n",
              "  <tbody>\n",
              "    <tr>\n",
              "      <th>0</th>\n",
              "      <td>25</td>\n",
              "      <td>Private</td>\n",
              "      <td>11th</td>\n",
              "      <td>7</td>\n",
              "      <td>Never-married</td>\n",
              "      <td>Machine-op-inspct</td>\n",
              "      <td>Own-child</td>\n",
              "      <td>Black</td>\n",
              "      <td>Male</td>\n",
              "      <td>0</td>\n",
              "      <td>0</td>\n",
              "      <td>40</td>\n",
              "      <td>United-States</td>\n",
              "      <td>&lt;=50K</td>\n",
              "    </tr>\n",
              "    <tr>\n",
              "      <th>1</th>\n",
              "      <td>38</td>\n",
              "      <td>Private</td>\n",
              "      <td>HS-grad</td>\n",
              "      <td>9</td>\n",
              "      <td>Married-civ-spouse</td>\n",
              "      <td>Farming-fishing</td>\n",
              "      <td>Husband</td>\n",
              "      <td>White</td>\n",
              "      <td>Male</td>\n",
              "      <td>0</td>\n",
              "      <td>0</td>\n",
              "      <td>50</td>\n",
              "      <td>United-States</td>\n",
              "      <td>&lt;=50K</td>\n",
              "    </tr>\n",
              "    <tr>\n",
              "      <th>2</th>\n",
              "      <td>28</td>\n",
              "      <td>Local-gov</td>\n",
              "      <td>Assoc-acdm</td>\n",
              "      <td>12</td>\n",
              "      <td>Married-civ-spouse</td>\n",
              "      <td>Protective-serv</td>\n",
              "      <td>Husband</td>\n",
              "      <td>White</td>\n",
              "      <td>Male</td>\n",
              "      <td>0</td>\n",
              "      <td>0</td>\n",
              "      <td>40</td>\n",
              "      <td>United-States</td>\n",
              "      <td>&gt;50K</td>\n",
              "    </tr>\n",
              "    <tr>\n",
              "      <th>3</th>\n",
              "      <td>44</td>\n",
              "      <td>Private</td>\n",
              "      <td>Some-college</td>\n",
              "      <td>10</td>\n",
              "      <td>Married-civ-spouse</td>\n",
              "      <td>Machine-op-inspct</td>\n",
              "      <td>Husband</td>\n",
              "      <td>Black</td>\n",
              "      <td>Male</td>\n",
              "      <td>7688</td>\n",
              "      <td>0</td>\n",
              "      <td>40</td>\n",
              "      <td>United-States</td>\n",
              "      <td>&gt;50K</td>\n",
              "    </tr>\n",
              "    <tr>\n",
              "      <th>4</th>\n",
              "      <td>34</td>\n",
              "      <td>Private</td>\n",
              "      <td>10th</td>\n",
              "      <td>6</td>\n",
              "      <td>Never-married</td>\n",
              "      <td>Other-service</td>\n",
              "      <td>Not-in-family</td>\n",
              "      <td>White</td>\n",
              "      <td>Male</td>\n",
              "      <td>0</td>\n",
              "      <td>0</td>\n",
              "      <td>30</td>\n",
              "      <td>United-States</td>\n",
              "      <td>&lt;=50K</td>\n",
              "    </tr>\n",
              "  </tbody>\n",
              "</table>\n",
              "</div>"
            ],
            "text/plain": [
              "   age   workclass      education  ...  hoursperweek          native  Salary\n",
              "0   25     Private           11th  ...            40   United-States   <=50K\n",
              "1   38     Private        HS-grad  ...            50   United-States   <=50K\n",
              "2   28   Local-gov     Assoc-acdm  ...            40   United-States    >50K\n",
              "3   44     Private   Some-college  ...            40   United-States    >50K\n",
              "4   34     Private           10th  ...            30   United-States   <=50K\n",
              "\n",
              "[5 rows x 14 columns]"
            ]
          },
          "metadata": {
            "tags": []
          },
          "execution_count": 11
        }
      ]
    },
    {
      "cell_type": "code",
      "metadata": {
        "colab": {
          "base_uri": "https://localhost:8080/"
        },
        "id": "FUJKY3Norq2p",
        "outputId": "d9b25b57-a87a-4702-cd7a-7ee25beec24f"
      },
      "source": [
        "data.columns"
      ],
      "execution_count": 12,
      "outputs": [
        {
          "output_type": "execute_result",
          "data": {
            "text/plain": [
              "Index(['age', 'workclass', 'education', 'educationno', 'maritalstatus',\n",
              "       'occupation', 'relationship', 'race', 'sex', 'capitalgain',\n",
              "       'capitalloss', 'hoursperweek', 'native', 'Salary'],\n",
              "      dtype='object')"
            ]
          },
          "metadata": {
            "tags": []
          },
          "execution_count": 12
        }
      ]
    },
    {
      "cell_type": "code",
      "metadata": {
        "colab": {
          "base_uri": "https://localhost:8080/"
        },
        "id": "MAHr-C07rq5D",
        "outputId": "6dd42586-ed98-4250-969d-35bf13b10977"
      },
      "source": [
        "data.info()"
      ],
      "execution_count": 13,
      "outputs": [
        {
          "output_type": "stream",
          "text": [
            "<class 'pandas.core.frame.DataFrame'>\n",
            "RangeIndex: 15060 entries, 0 to 15059\n",
            "Data columns (total 14 columns):\n",
            " #   Column         Non-Null Count  Dtype \n",
            "---  ------         --------------  ----- \n",
            " 0   age            15060 non-null  int64 \n",
            " 1   workclass      15060 non-null  object\n",
            " 2   education      15060 non-null  object\n",
            " 3   educationno    15060 non-null  int64 \n",
            " 4   maritalstatus  15060 non-null  object\n",
            " 5   occupation     15060 non-null  object\n",
            " 6   relationship   15060 non-null  object\n",
            " 7   race           15060 non-null  object\n",
            " 8   sex            15060 non-null  object\n",
            " 9   capitalgain    15060 non-null  int64 \n",
            " 10  capitalloss    15060 non-null  int64 \n",
            " 11  hoursperweek   15060 non-null  int64 \n",
            " 12  native         15060 non-null  object\n",
            " 13  Salary         15060 non-null  object\n",
            "dtypes: int64(5), object(9)\n",
            "memory usage: 1.6+ MB\n"
          ],
          "name": "stdout"
        }
      ]
    },
    {
      "cell_type": "code",
      "metadata": {
        "colab": {
          "base_uri": "https://localhost:8080/",
          "height": 297
        },
        "id": "RdfZdF0Zrq7h",
        "outputId": "d4bd7ae7-cbfc-4fc3-8f97-75553b76fbcd"
      },
      "source": [
        "data.describe()"
      ],
      "execution_count": 14,
      "outputs": [
        {
          "output_type": "execute_result",
          "data": {
            "text/html": [
              "<div>\n",
              "<style scoped>\n",
              "    .dataframe tbody tr th:only-of-type {\n",
              "        vertical-align: middle;\n",
              "    }\n",
              "\n",
              "    .dataframe tbody tr th {\n",
              "        vertical-align: top;\n",
              "    }\n",
              "\n",
              "    .dataframe thead th {\n",
              "        text-align: right;\n",
              "    }\n",
              "</style>\n",
              "<table border=\"1\" class=\"dataframe\">\n",
              "  <thead>\n",
              "    <tr style=\"text-align: right;\">\n",
              "      <th></th>\n",
              "      <th>age</th>\n",
              "      <th>educationno</th>\n",
              "      <th>capitalgain</th>\n",
              "      <th>capitalloss</th>\n",
              "      <th>hoursperweek</th>\n",
              "    </tr>\n",
              "  </thead>\n",
              "  <tbody>\n",
              "    <tr>\n",
              "      <th>count</th>\n",
              "      <td>15060.000000</td>\n",
              "      <td>15060.000000</td>\n",
              "      <td>15060.000000</td>\n",
              "      <td>15060.000000</td>\n",
              "      <td>15060.000000</td>\n",
              "    </tr>\n",
              "    <tr>\n",
              "      <th>mean</th>\n",
              "      <td>38.768327</td>\n",
              "      <td>10.112749</td>\n",
              "      <td>1120.301594</td>\n",
              "      <td>89.041899</td>\n",
              "      <td>40.951594</td>\n",
              "    </tr>\n",
              "    <tr>\n",
              "      <th>std</th>\n",
              "      <td>13.380676</td>\n",
              "      <td>2.558727</td>\n",
              "      <td>7703.181842</td>\n",
              "      <td>406.283245</td>\n",
              "      <td>12.062831</td>\n",
              "    </tr>\n",
              "    <tr>\n",
              "      <th>min</th>\n",
              "      <td>17.000000</td>\n",
              "      <td>1.000000</td>\n",
              "      <td>0.000000</td>\n",
              "      <td>0.000000</td>\n",
              "      <td>1.000000</td>\n",
              "    </tr>\n",
              "    <tr>\n",
              "      <th>25%</th>\n",
              "      <td>28.000000</td>\n",
              "      <td>9.000000</td>\n",
              "      <td>0.000000</td>\n",
              "      <td>0.000000</td>\n",
              "      <td>40.000000</td>\n",
              "    </tr>\n",
              "    <tr>\n",
              "      <th>50%</th>\n",
              "      <td>37.000000</td>\n",
              "      <td>10.000000</td>\n",
              "      <td>0.000000</td>\n",
              "      <td>0.000000</td>\n",
              "      <td>40.000000</td>\n",
              "    </tr>\n",
              "    <tr>\n",
              "      <th>75%</th>\n",
              "      <td>48.000000</td>\n",
              "      <td>13.000000</td>\n",
              "      <td>0.000000</td>\n",
              "      <td>0.000000</td>\n",
              "      <td>45.000000</td>\n",
              "    </tr>\n",
              "    <tr>\n",
              "      <th>max</th>\n",
              "      <td>90.000000</td>\n",
              "      <td>16.000000</td>\n",
              "      <td>99999.000000</td>\n",
              "      <td>3770.000000</td>\n",
              "      <td>99.000000</td>\n",
              "    </tr>\n",
              "  </tbody>\n",
              "</table>\n",
              "</div>"
            ],
            "text/plain": [
              "                age   educationno   capitalgain   capitalloss  hoursperweek\n",
              "count  15060.000000  15060.000000  15060.000000  15060.000000  15060.000000\n",
              "mean      38.768327     10.112749   1120.301594     89.041899     40.951594\n",
              "std       13.380676      2.558727   7703.181842    406.283245     12.062831\n",
              "min       17.000000      1.000000      0.000000      0.000000      1.000000\n",
              "25%       28.000000      9.000000      0.000000      0.000000     40.000000\n",
              "50%       37.000000     10.000000      0.000000      0.000000     40.000000\n",
              "75%       48.000000     13.000000      0.000000      0.000000     45.000000\n",
              "max       90.000000     16.000000  99999.000000   3770.000000     99.000000"
            ]
          },
          "metadata": {
            "tags": []
          },
          "execution_count": 14
        }
      ]
    },
    {
      "cell_type": "code",
      "metadata": {
        "id": "C-stHvnErq_q"
      },
      "source": [
        "df=data.copy()"
      ],
      "execution_count": 15,
      "outputs": []
    },
    {
      "cell_type": "code",
      "metadata": {
        "colab": {
          "base_uri": "https://localhost:8080/"
        },
        "id": "FQ3N214HrrBO",
        "outputId": "248c255c-0eaf-412b-8c79-f4b300c38290"
      },
      "source": [
        "# find categorical variables\n",
        "\n",
        "categorical = [var for var in df.columns if df[var].dtype=='O']\n",
        "\n",
        "print('There are {} categorical variables\\n'.format(len(categorical)))\n",
        "\n",
        "print('The categorical variables are :\\n\\n', categorical)"
      ],
      "execution_count": 16,
      "outputs": [
        {
          "output_type": "stream",
          "text": [
            "There are 9 categorical variables\n",
            "\n",
            "The categorical variables are :\n",
            "\n",
            " ['workclass', 'education', 'maritalstatus', 'occupation', 'relationship', 'race', 'sex', 'native', 'Salary']\n"
          ],
          "name": "stdout"
        }
      ]
    },
    {
      "cell_type": "code",
      "metadata": {
        "colab": {
          "base_uri": "https://localhost:8080/",
          "height": 204
        },
        "id": "omxTuEHYrrDz",
        "outputId": "aaf4d6dd-3b46-458a-c255-b4868c1aa68a"
      },
      "source": [
        "# view the categorical variables\n",
        "\n",
        "df[categorical].head()"
      ],
      "execution_count": 17,
      "outputs": [
        {
          "output_type": "execute_result",
          "data": {
            "text/html": [
              "<div>\n",
              "<style scoped>\n",
              "    .dataframe tbody tr th:only-of-type {\n",
              "        vertical-align: middle;\n",
              "    }\n",
              "\n",
              "    .dataframe tbody tr th {\n",
              "        vertical-align: top;\n",
              "    }\n",
              "\n",
              "    .dataframe thead th {\n",
              "        text-align: right;\n",
              "    }\n",
              "</style>\n",
              "<table border=\"1\" class=\"dataframe\">\n",
              "  <thead>\n",
              "    <tr style=\"text-align: right;\">\n",
              "      <th></th>\n",
              "      <th>workclass</th>\n",
              "      <th>education</th>\n",
              "      <th>maritalstatus</th>\n",
              "      <th>occupation</th>\n",
              "      <th>relationship</th>\n",
              "      <th>race</th>\n",
              "      <th>sex</th>\n",
              "      <th>native</th>\n",
              "      <th>Salary</th>\n",
              "    </tr>\n",
              "  </thead>\n",
              "  <tbody>\n",
              "    <tr>\n",
              "      <th>0</th>\n",
              "      <td>Private</td>\n",
              "      <td>11th</td>\n",
              "      <td>Never-married</td>\n",
              "      <td>Machine-op-inspct</td>\n",
              "      <td>Own-child</td>\n",
              "      <td>Black</td>\n",
              "      <td>Male</td>\n",
              "      <td>United-States</td>\n",
              "      <td>&lt;=50K</td>\n",
              "    </tr>\n",
              "    <tr>\n",
              "      <th>1</th>\n",
              "      <td>Private</td>\n",
              "      <td>HS-grad</td>\n",
              "      <td>Married-civ-spouse</td>\n",
              "      <td>Farming-fishing</td>\n",
              "      <td>Husband</td>\n",
              "      <td>White</td>\n",
              "      <td>Male</td>\n",
              "      <td>United-States</td>\n",
              "      <td>&lt;=50K</td>\n",
              "    </tr>\n",
              "    <tr>\n",
              "      <th>2</th>\n",
              "      <td>Local-gov</td>\n",
              "      <td>Assoc-acdm</td>\n",
              "      <td>Married-civ-spouse</td>\n",
              "      <td>Protective-serv</td>\n",
              "      <td>Husband</td>\n",
              "      <td>White</td>\n",
              "      <td>Male</td>\n",
              "      <td>United-States</td>\n",
              "      <td>&gt;50K</td>\n",
              "    </tr>\n",
              "    <tr>\n",
              "      <th>3</th>\n",
              "      <td>Private</td>\n",
              "      <td>Some-college</td>\n",
              "      <td>Married-civ-spouse</td>\n",
              "      <td>Machine-op-inspct</td>\n",
              "      <td>Husband</td>\n",
              "      <td>Black</td>\n",
              "      <td>Male</td>\n",
              "      <td>United-States</td>\n",
              "      <td>&gt;50K</td>\n",
              "    </tr>\n",
              "    <tr>\n",
              "      <th>4</th>\n",
              "      <td>Private</td>\n",
              "      <td>10th</td>\n",
              "      <td>Never-married</td>\n",
              "      <td>Other-service</td>\n",
              "      <td>Not-in-family</td>\n",
              "      <td>White</td>\n",
              "      <td>Male</td>\n",
              "      <td>United-States</td>\n",
              "      <td>&lt;=50K</td>\n",
              "    </tr>\n",
              "  </tbody>\n",
              "</table>\n",
              "</div>"
            ],
            "text/plain": [
              "    workclass      education  ...          native  Salary\n",
              "0     Private           11th  ...   United-States   <=50K\n",
              "1     Private        HS-grad  ...   United-States   <=50K\n",
              "2   Local-gov     Assoc-acdm  ...   United-States    >50K\n",
              "3     Private   Some-college  ...   United-States    >50K\n",
              "4     Private           10th  ...   United-States   <=50K\n",
              "\n",
              "[5 rows x 9 columns]"
            ]
          },
          "metadata": {
            "tags": []
          },
          "execution_count": 17
        }
      ]
    },
    {
      "cell_type": "code",
      "metadata": {
        "colab": {
          "base_uri": "https://localhost:8080/"
        },
        "id": "tAT7NulSrrFb",
        "outputId": "89e7d75a-3991-40e9-fe80-ec95f45ab884"
      },
      "source": [
        "# check missing values in categorical variables\n",
        "\n",
        "df[categorical].isnull().sum()"
      ],
      "execution_count": 18,
      "outputs": [
        {
          "output_type": "execute_result",
          "data": {
            "text/plain": [
              "workclass        0\n",
              "education        0\n",
              "maritalstatus    0\n",
              "occupation       0\n",
              "relationship     0\n",
              "race             0\n",
              "sex              0\n",
              "native           0\n",
              "Salary           0\n",
              "dtype: int64"
            ]
          },
          "metadata": {
            "tags": []
          },
          "execution_count": 18
        }
      ]
    },
    {
      "cell_type": "code",
      "metadata": {
        "colab": {
          "base_uri": "https://localhost:8080/"
        },
        "id": "vpqiXfCQrrIv",
        "outputId": "399f5c6e-c464-45dc-c938-2a44301342c6"
      },
      "source": [
        "# view frequency counts of values in categorical variables\n",
        "\n",
        "for var in categorical: \n",
        "    \n",
        "    print(df[var].value_counts())"
      ],
      "execution_count": 19,
      "outputs": [
        {
          "output_type": "stream",
          "text": [
            " Private             11021\n",
            " Self-emp-not-inc     1297\n",
            " Local-gov            1033\n",
            " State-gov             667\n",
            " Self-emp-inc          572\n",
            " Federal-gov           463\n",
            " Without-pay             7\n",
            "Name: workclass, dtype: int64\n",
            " HS-grad         4943\n",
            " Some-college    3221\n",
            " Bachelors       2526\n",
            " Masters          887\n",
            " Assoc-voc        652\n",
            " 11th             571\n",
            " Assoc-acdm       499\n",
            " 10th             403\n",
            " 7th-8th          266\n",
            " Prof-school      243\n",
            " 9th              221\n",
            " 12th             200\n",
            " Doctorate        169\n",
            " 5th-6th          161\n",
            " 1st-4th           71\n",
            " Preschool         27\n",
            "Name: education, dtype: int64\n",
            " Married-civ-spouse       6990\n",
            " Never-married            4872\n",
            " Divorced                 2083\n",
            " Separated                 472\n",
            " Widowed                   450\n",
            " Married-spouse-absent     182\n",
            " Married-AF-spouse          11\n",
            "Name: maritalstatus, dtype: int64\n",
            " Exec-managerial      1992\n",
            " Craft-repair         1990\n",
            " Prof-specialty       1970\n",
            " Sales                1824\n",
            " Adm-clerical         1819\n",
            " Other-service        1596\n",
            " Machine-op-inspct    1004\n",
            " Transport-moving      744\n",
            " Handlers-cleaners     696\n",
            " Tech-support          508\n",
            " Farming-fishing       491\n",
            " Protective-serv       332\n",
            " Priv-house-serv        89\n",
            " Armed-Forces            5\n",
            "Name: occupation, dtype: int64\n",
            " Husband           6203\n",
            " Not-in-family     3976\n",
            " Own-child         2160\n",
            " Unmarried         1576\n",
            " Wife               685\n",
            " Other-relative     460\n",
            "Name: relationship, dtype: int64\n",
            " White                 12970\n",
            " Black                  1411\n",
            " Asian-Pac-Islander      408\n",
            " Amer-Indian-Eskimo      149\n",
            " Other                   122\n",
            "Name: race, dtype: int64\n",
            " Male      10147\n",
            " Female     4913\n",
            "Name: sex, dtype: int64\n",
            " United-States                 13788\n",
            " Mexico                          293\n",
            " Philippines                      95\n",
            " Puerto-Rico                      66\n",
            " Germany                          65\n",
            " Canada                           56\n",
            " El-Salvador                      47\n",
            " India                            47\n",
            " China                            45\n",
            " Cuba                             41\n",
            " England                          33\n",
            " Italy                            32\n",
            " Japan                            30\n",
            " Dominican-Republic               30\n",
            " South                            30\n",
            " Portugal                         28\n",
            " Haiti                            27\n",
            " Columbia                         26\n",
            " Poland                           25\n",
            " Jamaica                          23\n",
            " Guatemala                        23\n",
            " Greece                           20\n",
            " Vietnam                          19\n",
            " Ecuador                          16\n",
            " Peru                             15\n",
            " Nicaragua                        15\n",
            " Iran                             14\n",
            " Taiwan                           13\n",
            " Ireland                          12\n",
            " Thailand                         12\n",
            " Hong                              9\n",
            " Scotland                          9\n",
            " France                            9\n",
            " Outlying-US(Guam-USVI-etc)        8\n",
            " Cambodia                          8\n",
            " Trinadad&Tobago                   8\n",
            " Honduras                          7\n",
            " Yugoslavia                        7\n",
            " Hungary                           5\n",
            " Laos                              4\n",
            "Name: native, dtype: int64\n",
            " <=50K    11360\n",
            " >50K      3700\n",
            "Name: Salary, dtype: int64\n"
          ],
          "name": "stdout"
        }
      ]
    },
    {
      "cell_type": "code",
      "metadata": {
        "colab": {
          "base_uri": "https://localhost:8080/"
        },
        "id": "XN2cKSsTrrKY",
        "outputId": "ad0c94cd-4743-400c-96bf-44fa03e2d2d4"
      },
      "source": [
        "len(df)"
      ],
      "execution_count": 20,
      "outputs": [
        {
          "output_type": "execute_result",
          "data": {
            "text/plain": [
              "15060"
            ]
          },
          "metadata": {
            "tags": []
          },
          "execution_count": 20
        }
      ]
    },
    {
      "cell_type": "code",
      "metadata": {
        "colab": {
          "base_uri": "https://localhost:8080/"
        },
        "id": "2OxpulX_rrNw",
        "outputId": "ebe7bd71-8b5a-4d0a-de16-7668226666b8"
      },
      "source": [
        "# view frequency distribution of categorical variables\n",
        "\n",
        "for var in categorical: \n",
        "    \n",
        "    print(df[var].value_counts()/np.float(len(df)))"
      ],
      "execution_count": 21,
      "outputs": [
        {
          "output_type": "stream",
          "text": [
            " Private             0.731806\n",
            " Self-emp-not-inc    0.086122\n",
            " Local-gov           0.068592\n",
            " State-gov           0.044290\n",
            " Self-emp-inc        0.037981\n",
            " Federal-gov         0.030744\n",
            " Without-pay         0.000465\n",
            "Name: workclass, dtype: float64\n",
            " HS-grad         0.328220\n",
            " Some-college    0.213878\n",
            " Bachelors       0.167729\n",
            " Masters         0.058898\n",
            " Assoc-voc       0.043293\n",
            " 11th            0.037915\n",
            " Assoc-acdm      0.033134\n",
            " 10th            0.026760\n",
            " 7th-8th         0.017663\n",
            " Prof-school     0.016135\n",
            " 9th             0.014675\n",
            " 12th            0.013280\n",
            " Doctorate       0.011222\n",
            " 5th-6th         0.010691\n",
            " 1st-4th         0.004714\n",
            " Preschool       0.001793\n",
            "Name: education, dtype: float64\n",
            " Married-civ-spouse       0.464143\n",
            " Never-married            0.323506\n",
            " Divorced                 0.138313\n",
            " Separated                0.031341\n",
            " Widowed                  0.029880\n",
            " Married-spouse-absent    0.012085\n",
            " Married-AF-spouse        0.000730\n",
            "Name: maritalstatus, dtype: float64\n",
            " Exec-managerial      0.132271\n",
            " Craft-repair         0.132138\n",
            " Prof-specialty       0.130810\n",
            " Sales                0.121116\n",
            " Adm-clerical         0.120784\n",
            " Other-service        0.105976\n",
            " Machine-op-inspct    0.066667\n",
            " Transport-moving     0.049402\n",
            " Handlers-cleaners    0.046215\n",
            " Tech-support         0.033732\n",
            " Farming-fishing      0.032603\n",
            " Protective-serv      0.022045\n",
            " Priv-house-serv      0.005910\n",
            " Armed-Forces         0.000332\n",
            "Name: occupation, dtype: float64\n",
            " Husband           0.411886\n",
            " Not-in-family     0.264011\n",
            " Own-child         0.143426\n",
            " Unmarried         0.104648\n",
            " Wife              0.045485\n",
            " Other-relative    0.030544\n",
            "Name: relationship, dtype: float64\n",
            " White                 0.861222\n",
            " Black                 0.093692\n",
            " Asian-Pac-Islander    0.027092\n",
            " Amer-Indian-Eskimo    0.009894\n",
            " Other                 0.008101\n",
            "Name: race, dtype: float64\n",
            " Male      0.673772\n",
            " Female    0.326228\n",
            "Name: sex, dtype: float64\n",
            " United-States                 0.915538\n",
            " Mexico                        0.019456\n",
            " Philippines                   0.006308\n",
            " Puerto-Rico                   0.004382\n",
            " Germany                       0.004316\n",
            " Canada                        0.003718\n",
            " El-Salvador                   0.003121\n",
            " India                         0.003121\n",
            " China                         0.002988\n",
            " Cuba                          0.002722\n",
            " England                       0.002191\n",
            " Italy                         0.002125\n",
            " Japan                         0.001992\n",
            " Dominican-Republic            0.001992\n",
            " South                         0.001992\n",
            " Portugal                      0.001859\n",
            " Haiti                         0.001793\n",
            " Columbia                      0.001726\n",
            " Poland                        0.001660\n",
            " Jamaica                       0.001527\n",
            " Guatemala                     0.001527\n",
            " Greece                        0.001328\n",
            " Vietnam                       0.001262\n",
            " Ecuador                       0.001062\n",
            " Peru                          0.000996\n",
            " Nicaragua                     0.000996\n",
            " Iran                          0.000930\n",
            " Taiwan                        0.000863\n",
            " Ireland                       0.000797\n",
            " Thailand                      0.000797\n",
            " Hong                          0.000598\n",
            " Scotland                      0.000598\n",
            " France                        0.000598\n",
            " Outlying-US(Guam-USVI-etc)    0.000531\n",
            " Cambodia                      0.000531\n",
            " Trinadad&Tobago               0.000531\n",
            " Honduras                      0.000465\n",
            " Yugoslavia                    0.000465\n",
            " Hungary                       0.000332\n",
            " Laos                          0.000266\n",
            "Name: native, dtype: float64\n",
            " <=50K    0.754316\n",
            " >50K     0.245684\n",
            "Name: Salary, dtype: float64\n"
          ],
          "name": "stdout"
        }
      ]
    },
    {
      "cell_type": "code",
      "metadata": {
        "colab": {
          "base_uri": "https://localhost:8080/"
        },
        "id": "AHvn9t12rrPN",
        "outputId": "d05357c7-9c47-4ea5-9740-9145c871492c"
      },
      "source": [
        "# check for cardinality in categorical variables\n",
        "\n",
        "for var in categorical:\n",
        "    \n",
        "    print(var, ' contains ', len(df[var].unique()), ' labels')"
      ],
      "execution_count": 22,
      "outputs": [
        {
          "output_type": "stream",
          "text": [
            "workclass  contains  7  labels\n",
            "education  contains  16  labels\n",
            "maritalstatus  contains  7  labels\n",
            "occupation  contains  14  labels\n",
            "relationship  contains  6  labels\n",
            "race  contains  5  labels\n",
            "sex  contains  2  labels\n",
            "native  contains  40  labels\n",
            "Salary  contains  2  labels\n"
          ],
          "name": "stdout"
        }
      ]
    },
    {
      "cell_type": "code",
      "metadata": {
        "colab": {
          "base_uri": "https://localhost:8080/"
        },
        "id": "Er2uVQQxrrUQ",
        "outputId": "9df55abb-166c-4033-f856-9db62c91f017"
      },
      "source": [
        "numerical = [var for var in df.columns if df[var].dtype!='O']\n",
        "\n",
        "print('There are {} numerical variables\\n'.format(len(numerical)))\n",
        "\n",
        "print('The numerical variables are :', numerical)"
      ],
      "execution_count": 23,
      "outputs": [
        {
          "output_type": "stream",
          "text": [
            "There are 5 numerical variables\n",
            "\n",
            "The numerical variables are : ['age', 'educationno', 'capitalgain', 'capitalloss', 'hoursperweek']\n"
          ],
          "name": "stdout"
        }
      ]
    },
    {
      "cell_type": "code",
      "metadata": {
        "colab": {
          "base_uri": "https://localhost:8080/",
          "height": 204
        },
        "id": "ER5I06rjrrVy",
        "outputId": "dd476493-9399-446a-849b-ceca0fadce5d"
      },
      "source": [
        "# view the numerical variables\n",
        "\n",
        "df[numerical].head()"
      ],
      "execution_count": 24,
      "outputs": [
        {
          "output_type": "execute_result",
          "data": {
            "text/html": [
              "<div>\n",
              "<style scoped>\n",
              "    .dataframe tbody tr th:only-of-type {\n",
              "        vertical-align: middle;\n",
              "    }\n",
              "\n",
              "    .dataframe tbody tr th {\n",
              "        vertical-align: top;\n",
              "    }\n",
              "\n",
              "    .dataframe thead th {\n",
              "        text-align: right;\n",
              "    }\n",
              "</style>\n",
              "<table border=\"1\" class=\"dataframe\">\n",
              "  <thead>\n",
              "    <tr style=\"text-align: right;\">\n",
              "      <th></th>\n",
              "      <th>age</th>\n",
              "      <th>educationno</th>\n",
              "      <th>capitalgain</th>\n",
              "      <th>capitalloss</th>\n",
              "      <th>hoursperweek</th>\n",
              "    </tr>\n",
              "  </thead>\n",
              "  <tbody>\n",
              "    <tr>\n",
              "      <th>0</th>\n",
              "      <td>25</td>\n",
              "      <td>7</td>\n",
              "      <td>0</td>\n",
              "      <td>0</td>\n",
              "      <td>40</td>\n",
              "    </tr>\n",
              "    <tr>\n",
              "      <th>1</th>\n",
              "      <td>38</td>\n",
              "      <td>9</td>\n",
              "      <td>0</td>\n",
              "      <td>0</td>\n",
              "      <td>50</td>\n",
              "    </tr>\n",
              "    <tr>\n",
              "      <th>2</th>\n",
              "      <td>28</td>\n",
              "      <td>12</td>\n",
              "      <td>0</td>\n",
              "      <td>0</td>\n",
              "      <td>40</td>\n",
              "    </tr>\n",
              "    <tr>\n",
              "      <th>3</th>\n",
              "      <td>44</td>\n",
              "      <td>10</td>\n",
              "      <td>7688</td>\n",
              "      <td>0</td>\n",
              "      <td>40</td>\n",
              "    </tr>\n",
              "    <tr>\n",
              "      <th>4</th>\n",
              "      <td>34</td>\n",
              "      <td>6</td>\n",
              "      <td>0</td>\n",
              "      <td>0</td>\n",
              "      <td>30</td>\n",
              "    </tr>\n",
              "  </tbody>\n",
              "</table>\n",
              "</div>"
            ],
            "text/plain": [
              "   age  educationno  capitalgain  capitalloss  hoursperweek\n",
              "0   25            7            0            0            40\n",
              "1   38            9            0            0            50\n",
              "2   28           12            0            0            40\n",
              "3   44           10         7688            0            40\n",
              "4   34            6            0            0            30"
            ]
          },
          "metadata": {
            "tags": []
          },
          "execution_count": 24
        }
      ]
    },
    {
      "cell_type": "code",
      "metadata": {
        "colab": {
          "base_uri": "https://localhost:8080/"
        },
        "id": "sHkBKMK8rrYm",
        "outputId": "4545d16a-20ac-42e4-a385-454941b92990"
      },
      "source": [
        "# check missing values in numerical variables\n",
        "\n",
        "df[numerical].isnull().sum()"
      ],
      "execution_count": 25,
      "outputs": [
        {
          "output_type": "execute_result",
          "data": {
            "text/plain": [
              "age             0\n",
              "educationno     0\n",
              "capitalgain     0\n",
              "capitalloss     0\n",
              "hoursperweek    0\n",
              "dtype: int64"
            ]
          },
          "metadata": {
            "tags": []
          },
          "execution_count": 25
        }
      ]
    },
    {
      "cell_type": "code",
      "metadata": {
        "id": "j8jaHtaMrrbc"
      },
      "source": [
        "X = df.drop(['Salary'], axis=1)\n",
        "\n",
        "y = df['Salary']"
      ],
      "execution_count": 26,
      "outputs": []
    },
    {
      "cell_type": "code",
      "metadata": {
        "colab": {
          "base_uri": "https://localhost:8080/",
          "height": 596
        },
        "id": "PMTBHg53rre_",
        "outputId": "5000a427-7a6f-4a96-b9f6-27917a293564"
      },
      "source": [
        "fig = plt.figure(figsize=(20,3))\n",
        "plt.style.use('seaborn-ticks')\n",
        "sns.countplot(y=\"maritalstatus\", data=df)\n",
        "plt.style.use('seaborn-ticks')\n",
        "plt.figure(figsize=(20,4)) \n",
        "sns.countplot(y=\"occupation\", data=df)\n",
        "plt.style.use('seaborn-ticks')\n",
        "plt.figure(figsize=(20,4)) \n",
        "sns.countplot(y=\"workclass\", data=df)"
      ],
      "execution_count": 27,
      "outputs": [
        {
          "output_type": "execute_result",
          "data": {
            "text/plain": [
              "<matplotlib.axes._subplots.AxesSubplot at 0x7f70ae95c8d0>"
            ]
          },
          "metadata": {
            "tags": []
          },
          "execution_count": 27
        },
        {
          "output_type": "display_data",
          "data": {
            "image/png": "[encoded data removed]",
            "text/plain": [
              "<Figure size 1440x216 with 1 Axes>"
            ]
          },
          "metadata": {
            "tags": [],
            "needs_background": "light"
          }
        },
        {
          "output_type": "display_data",
          "data": {
            "image/png": "[encoded data removed]",
            "text/plain": [
              "<Figure size 1440x288 with 1 Axes>"
            ]
          },
          "metadata": {
            "tags": []
          }
        },
        {
          "output_type": "display_data",
          "data": {
            "image/png": "[encoded data removed]",
            "text/plain": [
              "<Figure size 1440x288 with 1 Axes>"
            ]
          },
          "metadata": {
            "tags": []
          }
        }
      ]
    },
    {
      "cell_type": "code",
      "metadata": {
        "colab": {
          "base_uri": "https://localhost:8080/",
          "height": 1000
        },
        "id": "zsOVZhwMrrhA",
        "outputId": "759455e0-2bd0-4fb0-99ad-55e92d0d1fb4"
      },
      "source": [
        "plt.style.use('dark_background')\n",
        "fig = plt.figure(figsize=(20,15)) \n",
        "sns.distplot(df[df['Salary'] == '>50K']['age'], kde_kws={\"label\": \">$50K\"})\n",
        "plt.subplot(1, 2, 2)\n",
        "sns.countplot(y=\"age\",data=df)\n",
        "sns.distplot(df[df['Salary'] == '<=50K']['age'], kde_kws={\"label\": \"<=$50K\"})"
      ],
      "execution_count": 28,
      "outputs": [
        {
          "output_type": "stream",
          "text": [
            "/usr/local/lib/python3.7/dist-packages/seaborn/distributions.py:2557: FutureWarning: `distplot` is a deprecated function and will be removed in a future version. Please adapt your code to use either `displot` (a figure-level function with similar flexibility) or `histplot` (an axes-level function for histograms).\n",
            "  warnings.warn(msg, FutureWarning)\n",
            "/usr/local/lib/python3.7/dist-packages/seaborn/distributions.py:2595: RuntimeWarning: Mean of empty slice.\n",
            "  line, = ax.plot(a.mean(), 0)\n",
            "/usr/local/lib/python3.7/dist-packages/numpy/core/_methods.py:170: RuntimeWarning: invalid value encountered in double_scalars\n",
            "  ret = ret.dtype.type(ret / rcount)\n",
            "/usr/local/lib/python3.7/dist-packages/numpy/lib/histograms.py:905: RuntimeWarning: invalid value encountered in true_divide\n",
            "  return n/db/n.sum(), bin_edges\n",
            "/usr/local/lib/python3.7/dist-packages/seaborn/distributions.py:2557: FutureWarning: `distplot` is a deprecated function and will be removed in a future version. Please adapt your code to use either `displot` (a figure-level function with similar flexibility) or `histplot` (an axes-level function for histograms).\n",
            "  warnings.warn(msg, FutureWarning)\n",
            "/usr/local/lib/python3.7/dist-packages/seaborn/distributions.py:2595: RuntimeWarning: Mean of empty slice.\n",
            "  line, = ax.plot(a.mean(), 0)\n",
            "/usr/local/lib/python3.7/dist-packages/numpy/core/_methods.py:170: RuntimeWarning: invalid value encountered in double_scalars\n",
            "  ret = ret.dtype.type(ret / rcount)\n",
            "/usr/local/lib/python3.7/dist-packages/numpy/lib/histograms.py:905: RuntimeWarning: invalid value encountered in true_divide\n",
            "  return n/db/n.sum(), bin_edges\n"
          ],
          "name": "stderr"
        },
        {
          "output_type": "execute_result",
          "data": {
            "text/plain": [
              "<matplotlib.axes._subplots.AxesSubplot at 0x7f70ae7dae10>"
            ]
          },
          "metadata": {
            "tags": []
          },
          "execution_count": 28
        },
        {
          "output_type": "display_data",
          "data": {
            "image/png": "[encoded data removed]",
            "text/plain": [
              "<Figure size 1440x1080 with 1 Axes>"
            ]
          },
          "metadata": {
            "tags": []
          }
        }
      ]
    },
    {
      "cell_type": "code",
      "metadata": {
        "colab": {
          "base_uri": "https://localhost:8080/",
          "height": 690
        },
        "id": "JNKf0UkVrrlX",
        "outputId": "5e27e313-11c1-4b45-f9d0-622bbe8c7c4f"
      },
      "source": [
        "g=sns.jointplot(x = 'age', \n",
        "              y = 'hoursperweek',\n",
        "              data = df, \n",
        "              kind = 'kde', \n",
        "              cmap= 'hot', \n",
        "              size=8)\n",
        "sns.regplot(df.age, df['hoursperweek'], ax=g.ax_joint, scatter=False, color='green')"
      ],
      "execution_count": 29,
      "outputs": [
        {
          "output_type": "stream",
          "text": [
            "/usr/local/lib/python3.7/dist-packages/seaborn/axisgrid.py:2073: UserWarning: The `size` parameter has been renamed to `height`; please update your code.\n",
            "  warnings.warn(msg, UserWarning)\n",
            "/usr/local/lib/python3.7/dist-packages/seaborn/_decorators.py:43: FutureWarning: Pass the following variables as keyword args: x, y. From version 0.12, the only valid positional argument will be `data`, and passing other arguments without an explicit keyword will result in an error or misinterpretation.\n",
            "  FutureWarning\n"
          ],
          "name": "stderr"
        },
        {
          "output_type": "execute_result",
          "data": {
            "text/plain": [
              "<matplotlib.axes._subplots.AxesSubplot at 0x7f70ae0dc050>"
            ]
          },
          "metadata": {
            "tags": []
          },
          "execution_count": 29
        },
        {
          "output_type": "display_data",
          "data": {
            "image/png": "[encoded data removed]",
            "text/plain": [
              "<Figure size 576x576 with 3 Axes>"
            ]
          },
          "metadata": {
            "tags": []
          }
        }
      ]
    },
    {
      "cell_type": "code",
      "metadata": {
        "colab": {
          "base_uri": "https://localhost:8080/",
          "height": 353
        },
        "id": "8dfHaluRrroM",
        "outputId": "8f28cb0f-404d-42d4-b638-16476f54106f"
      },
      "source": [
        "plt.figure(figsize=(10,5))\n",
        "sns.countplot(x='race',hue='sex', data=df)"
      ],
      "execution_count": 30,
      "outputs": [
        {
          "output_type": "execute_result",
          "data": {
            "text/plain": [
              "<matplotlib.axes._subplots.AxesSubplot at 0x7f70ae00cbd0>"
            ]
          },
          "metadata": {
            "tags": []
          },
          "execution_count": 30
        },
        {
          "output_type": "display_data",
          "data": {
            "image/png": "[encoded data removed]",
            "text/plain": [
              "<Figure size 720x360 with 1 Axes>"
            ]
          },
          "metadata": {
            "tags": []
          }
        }
      ]
    },
    {
      "cell_type": "code",
      "metadata": {
        "colab": {
          "base_uri": "https://localhost:8080/",
          "height": 353
        },
        "id": "h8i-eZ3Prrqk",
        "outputId": "68145bb4-95e9-4a04-c374-e278ccace708"
      },
      "source": [
        "plt.figure(figsize=(10,5))\n",
        "prop_df = (df['race']\n",
        "           .groupby(df['sex'])\n",
        "           .value_counts(normalize=True)\n",
        "           .rename('prop')\n",
        "           .reset_index())\n",
        "\n",
        "sns.barplot(x='race', y='prop', hue='sex', data=prop_df)"
      ],
      "execution_count": 31,
      "outputs": [
        {
          "output_type": "execute_result",
          "data": {
            "text/plain": [
              "<matplotlib.axes._subplots.AxesSubplot at 0x7f70a34b93d0>"
            ]
          },
          "metadata": {
            "tags": []
          },
          "execution_count": 31
        },
        {
          "output_type": "display_data",
          "data": {
            "image/png": "[encoded data removed]",
            "text/plain": [
              "<Figure size 720x360 with 1 Axes>"
            ]
          },
          "metadata": {
            "tags": []
          }
        }
      ]
    },
    {
      "cell_type": "code",
      "metadata": {
        "colab": {
          "base_uri": "https://localhost:8080/",
          "height": 204
        },
        "id": "ZJVKZsqNrrt_",
        "outputId": "4cdc2bd8-698d-494d-a8d1-d5151975ac99"
      },
      "source": [
        "df.corr()"
      ],
      "execution_count": 32,
      "outputs": [
        {
          "output_type": "execute_result",
          "data": {
            "text/html": [
              "<div>\n",
              "<style scoped>\n",
              "    .dataframe tbody tr th:only-of-type {\n",
              "        vertical-align: middle;\n",
              "    }\n",
              "\n",
              "    .dataframe tbody tr th {\n",
              "        vertical-align: top;\n",
              "    }\n",
              "\n",
              "    .dataframe thead th {\n",
              "        text-align: right;\n",
              "    }\n",
              "</style>\n",
              "<table border=\"1\" class=\"dataframe\">\n",
              "  <thead>\n",
              "    <tr style=\"text-align: right;\">\n",
              "      <th></th>\n",
              "      <th>age</th>\n",
              "      <th>educationno</th>\n",
              "      <th>capitalgain</th>\n",
              "      <th>capitalloss</th>\n",
              "      <th>hoursperweek</th>\n",
              "    </tr>\n",
              "  </thead>\n",
              "  <tbody>\n",
              "    <tr>\n",
              "      <th>age</th>\n",
              "      <td>1.000000</td>\n",
              "      <td>0.026123</td>\n",
              "      <td>0.078760</td>\n",
              "      <td>0.057745</td>\n",
              "      <td>0.102758</td>\n",
              "    </tr>\n",
              "    <tr>\n",
              "      <th>educationno</th>\n",
              "      <td>0.026123</td>\n",
              "      <td>1.000000</td>\n",
              "      <td>0.131750</td>\n",
              "      <td>0.085817</td>\n",
              "      <td>0.133691</td>\n",
              "    </tr>\n",
              "    <tr>\n",
              "      <th>capitalgain</th>\n",
              "      <td>0.078760</td>\n",
              "      <td>0.131750</td>\n",
              "      <td>1.000000</td>\n",
              "      <td>-0.031876</td>\n",
              "      <td>0.090501</td>\n",
              "    </tr>\n",
              "    <tr>\n",
              "      <th>capitalloss</th>\n",
              "      <td>0.057745</td>\n",
              "      <td>0.085817</td>\n",
              "      <td>-0.031876</td>\n",
              "      <td>1.000000</td>\n",
              "      <td>0.057712</td>\n",
              "    </tr>\n",
              "    <tr>\n",
              "      <th>hoursperweek</th>\n",
              "      <td>0.102758</td>\n",
              "      <td>0.133691</td>\n",
              "      <td>0.090501</td>\n",
              "      <td>0.057712</td>\n",
              "      <td>1.000000</td>\n",
              "    </tr>\n",
              "  </tbody>\n",
              "</table>\n",
              "</div>"
            ],
            "text/plain": [
              "                   age  educationno  capitalgain  capitalloss  hoursperweek\n",
              "age           1.000000     0.026123     0.078760     0.057745      0.102758\n",
              "educationno   0.026123     1.000000     0.131750     0.085817      0.133691\n",
              "capitalgain   0.078760     0.131750     1.000000    -0.031876      0.090501\n",
              "capitalloss   0.057745     0.085817    -0.031876     1.000000      0.057712\n",
              "hoursperweek  0.102758     0.133691     0.090501     0.057712      1.000000"
            ]
          },
          "metadata": {
            "tags": []
          },
          "execution_count": 32
        }
      ]
    },
    {
      "cell_type": "code",
      "metadata": {
        "colab": {
          "base_uri": "https://localhost:8080/",
          "height": 342
        },
        "id": "Ucl-29ZZrrwG",
        "outputId": "13e60446-2cc0-4869-9c7f-50409ef8e48e"
      },
      "source": [
        "sns.heatmap(df.corr(),annot=True,cmap='YlGnBu')"
      ],
      "execution_count": 33,
      "outputs": [
        {
          "output_type": "execute_result",
          "data": {
            "text/plain": [
              "<matplotlib.axes._subplots.AxesSubplot at 0x7f70a33dd710>"
            ]
          },
          "metadata": {
            "tags": []
          },
          "execution_count": 33
        },
        {
          "output_type": "display_data",
          "data": {
            "image/png": "[encoded data removed]",
            "text/plain": [
              "<Figure size 432x288 with 2 Axes>"
            ]
          },
          "metadata": {
            "tags": []
          }
        }
      ]
    },
    {
      "cell_type": "markdown",
      "metadata": {
        "id": "oKORG9l7t3Kw"
      },
      "source": [
        "USING TEST TRAIN SPLIT METHOD"
      ]
    },
    {
      "cell_type": "code",
      "metadata": {
        "id": "3lOiB8nvrryq"
      },
      "source": [
        "x1=df.iloc[:,0:-1]\n",
        "y1=df.iloc[:,-1]"
      ],
      "execution_count": 34,
      "outputs": []
    },
    {
      "cell_type": "code",
      "metadata": {
        "id": "1qxak9ULrr2D"
      },
      "source": [
        "#split X and y into training and testing sets\n",
        "\n",
        "from sklearn.model_selection import train_test_split\n",
        "\n",
        "X_train, X_test, y_train, y_test = train_test_split(x1, y1, test_size = 0.3, random_state = 0)"
      ],
      "execution_count": 35,
      "outputs": []
    },
    {
      "cell_type": "code",
      "metadata": {
        "colab": {
          "base_uri": "https://localhost:8080/"
        },
        "id": "S25DeO_rrr37",
        "outputId": "e1b5957b-e6db-4853-83e5-256eb33de12a"
      },
      "source": [
        "# check the shape of X_train and X_test\n",
        "\n",
        "X_train.shape, X_test.shape"
      ],
      "execution_count": 36,
      "outputs": [
        {
          "output_type": "execute_result",
          "data": {
            "text/plain": [
              "((10542, 13), (4518, 13))"
            ]
          },
          "metadata": {
            "tags": []
          },
          "execution_count": 36
        }
      ]
    },
    {
      "cell_type": "code",
      "metadata": {
        "colab": {
          "base_uri": "https://localhost:8080/"
        },
        "id": "9ZV9Bnb3uB9j",
        "outputId": "50af8ea4-a5b5-4f52-c864-429c34ae71db"
      },
      "source": [
        "# check data types in X_train\n",
        "\n",
        "X_train.dtypes"
      ],
      "execution_count": 37,
      "outputs": [
        {
          "output_type": "execute_result",
          "data": {
            "text/plain": [
              "age               int64\n",
              "workclass        object\n",
              "education        object\n",
              "educationno       int64\n",
              "maritalstatus    object\n",
              "occupation       object\n",
              "relationship     object\n",
              "race             object\n",
              "sex              object\n",
              "capitalgain       int64\n",
              "capitalloss       int64\n",
              "hoursperweek      int64\n",
              "native           object\n",
              "dtype: object"
            ]
          },
          "metadata": {
            "tags": []
          },
          "execution_count": 37
        }
      ]
    },
    {
      "cell_type": "code",
      "metadata": {
        "colab": {
          "base_uri": "https://localhost:8080/"
        },
        "id": "B3M50OOHuB_f",
        "outputId": "5aa558db-7d8c-4498-8dd1-9a0012fd7961"
      },
      "source": [
        "# display categorical variables\n",
        "\n",
        "categorical = [col for col in X_train.columns if X_train[col].dtypes == 'O']\n",
        "\n",
        "categorical"
      ],
      "execution_count": 38,
      "outputs": [
        {
          "output_type": "execute_result",
          "data": {
            "text/plain": [
              "['workclass',\n",
              " 'education',\n",
              " 'maritalstatus',\n",
              " 'occupation',\n",
              " 'relationship',\n",
              " 'race',\n",
              " 'sex',\n",
              " 'native']"
            ]
          },
          "metadata": {
            "tags": []
          },
          "execution_count": 38
        }
      ]
    },
    {
      "cell_type": "code",
      "metadata": {
        "colab": {
          "base_uri": "https://localhost:8080/"
        },
        "id": "mtl3skqWuCDo",
        "outputId": "6bb94a22-6deb-44ae-eda6-6dc9db66ed8b"
      },
      "source": [
        "# print percentage of missing values in the categorical variables in training set\n",
        "\n",
        "X_train[categorical].isnull().sum()"
      ],
      "execution_count": 39,
      "outputs": [
        {
          "output_type": "execute_result",
          "data": {
            "text/plain": [
              "workclass        0\n",
              "education        0\n",
              "maritalstatus    0\n",
              "occupation       0\n",
              "relationship     0\n",
              "race             0\n",
              "sex              0\n",
              "native           0\n",
              "dtype: int64"
            ]
          },
          "metadata": {
            "tags": []
          },
          "execution_count": 39
        }
      ]
    },
    {
      "cell_type": "code",
      "metadata": {
        "colab": {
          "base_uri": "https://localhost:8080/",
          "height": 204
        },
        "id": "J1X0zFmTuCGZ",
        "outputId": "4277a851-ef90-4548-a9ed-04429bd44fb2"
      },
      "source": [
        "X_train[categorical].head()"
      ],
      "execution_count": 40,
      "outputs": [
        {
          "output_type": "execute_result",
          "data": {
            "text/html": [
              "<div>\n",
              "<style scoped>\n",
              "    .dataframe tbody tr th:only-of-type {\n",
              "        vertical-align: middle;\n",
              "    }\n",
              "\n",
              "    .dataframe tbody tr th {\n",
              "        vertical-align: top;\n",
              "    }\n",
              "\n",
              "    .dataframe thead th {\n",
              "        text-align: right;\n",
              "    }\n",
              "</style>\n",
              "<table border=\"1\" class=\"dataframe\">\n",
              "  <thead>\n",
              "    <tr style=\"text-align: right;\">\n",
              "      <th></th>\n",
              "      <th>workclass</th>\n",
              "      <th>education</th>\n",
              "      <th>maritalstatus</th>\n",
              "      <th>occupation</th>\n",
              "      <th>relationship</th>\n",
              "      <th>race</th>\n",
              "      <th>sex</th>\n",
              "      <th>native</th>\n",
              "    </tr>\n",
              "  </thead>\n",
              "  <tbody>\n",
              "    <tr>\n",
              "      <th>4324</th>\n",
              "      <td>Private</td>\n",
              "      <td>HS-grad</td>\n",
              "      <td>Married-civ-spouse</td>\n",
              "      <td>Exec-managerial</td>\n",
              "      <td>Husband</td>\n",
              "      <td>White</td>\n",
              "      <td>Male</td>\n",
              "      <td>United-States</td>\n",
              "    </tr>\n",
              "    <tr>\n",
              "      <th>2179</th>\n",
              "      <td>Self-emp-not-inc</td>\n",
              "      <td>Prof-school</td>\n",
              "      <td>Married-civ-spouse</td>\n",
              "      <td>Prof-specialty</td>\n",
              "      <td>Husband</td>\n",
              "      <td>Asian-Pac-Islander</td>\n",
              "      <td>Male</td>\n",
              "      <td>India</td>\n",
              "    </tr>\n",
              "    <tr>\n",
              "      <th>1906</th>\n",
              "      <td>Private</td>\n",
              "      <td>HS-grad</td>\n",
              "      <td>Never-married</td>\n",
              "      <td>Adm-clerical</td>\n",
              "      <td>Not-in-family</td>\n",
              "      <td>Black</td>\n",
              "      <td>Female</td>\n",
              "      <td>United-States</td>\n",
              "    </tr>\n",
              "    <tr>\n",
              "      <th>5206</th>\n",
              "      <td>Private</td>\n",
              "      <td>HS-grad</td>\n",
              "      <td>Divorced</td>\n",
              "      <td>Sales</td>\n",
              "      <td>Not-in-family</td>\n",
              "      <td>White</td>\n",
              "      <td>Female</td>\n",
              "      <td>United-States</td>\n",
              "    </tr>\n",
              "    <tr>\n",
              "      <th>4659</th>\n",
              "      <td>Private</td>\n",
              "      <td>HS-grad</td>\n",
              "      <td>Never-married</td>\n",
              "      <td>Craft-repair</td>\n",
              "      <td>Own-child</td>\n",
              "      <td>White</td>\n",
              "      <td>Male</td>\n",
              "      <td>United-States</td>\n",
              "    </tr>\n",
              "  </tbody>\n",
              "</table>\n",
              "</div>"
            ],
            "text/plain": [
              "              workclass     education  ...      sex          native\n",
              "4324            Private       HS-grad  ...     Male   United-States\n",
              "2179   Self-emp-not-inc   Prof-school  ...     Male           India\n",
              "1906            Private       HS-grad  ...   Female   United-States\n",
              "5206            Private       HS-grad  ...   Female   United-States\n",
              "4659            Private       HS-grad  ...     Male   United-States\n",
              "\n",
              "[5 rows x 8 columns]"
            ]
          },
          "metadata": {
            "tags": []
          },
          "execution_count": 40
        }
      ]
    },
    {
      "cell_type": "code",
      "metadata": {
        "colab": {
          "base_uri": "https://localhost:8080/"
        },
        "id": "N3JVIHw2rr-E",
        "outputId": "5d25258f-76c0-40c6-a2be-5372d7794692"
      },
      "source": [
        " #import category encoders\n",
        "!pip install category_encoders\n",
        "\n",
        "import category_encoders as ce"
      ],
      "execution_count": 42,
      "outputs": [
        {
          "output_type": "stream",
          "text": [
            "Collecting category_encoders\n",
            "\u001b[?25l  Downloading https://files.pythonhosted.org/packages/44/57/fcef41c248701ee62e8325026b90c432adea35555cbc870aff9cfba23727/category_encoders-2.2.2-py2.py3-none-any.whl (80kB)\n",
            "\r\u001b[K     |████                            | 10kB 16.1MB/s eta 0:00:01\r\u001b[K     |████████▏                       | 20kB 20.6MB/s eta 0:00:01\r\u001b[K     |████████████▏                   | 30kB 22.1MB/s eta 0:00:01\r\u001b[K     |████████████████▎               | 40kB 24.3MB/s eta 0:00:01\r\u001b[K     |████████████████████▎           | 51kB 25.2MB/s eta 0:00:01\r\u001b[K     |████████████████████████▍       | 61kB 27.4MB/s eta 0:00:01\r\u001b[K     |████████████████████████████▍   | 71kB 28.8MB/s eta 0:00:01\r\u001b[K     |████████████████████████████████| 81kB 7.5MB/s \n",
            "\u001b[?25hRequirement already satisfied: scikit-learn>=0.20.0 in /usr/local/lib/python3.7/dist-packages (from category_encoders) (0.22.2.post1)\n",
            "Requirement already satisfied: statsmodels>=0.9.0 in /usr/local/lib/python3.7/dist-packages (from category_encoders) (0.10.2)\n",
            "Requirement already satisfied: scipy>=1.0.0 in /usr/local/lib/python3.7/dist-packages (from category_encoders) (1.4.1)\n",
            "Requirement already satisfied: pandas>=0.21.1 in /usr/local/lib/python3.7/dist-packages (from category_encoders) (1.1.5)\n",
            "Requirement already satisfied: patsy>=0.5.1 in /usr/local/lib/python3.7/dist-packages (from category_encoders) (0.5.1)\n",
            "Requirement already satisfied: numpy>=1.14.0 in /usr/local/lib/python3.7/dist-packages (from category_encoders) (1.19.5)\n",
            "Requirement already satisfied: joblib>=0.11 in /usr/local/lib/python3.7/dist-packages (from scikit-learn>=0.20.0->category_encoders) (1.0.1)\n",
            "Requirement already satisfied: python-dateutil>=2.7.3 in /usr/local/lib/python3.7/dist-packages (from pandas>=0.21.1->category_encoders) (2.8.1)\n",
            "Requirement already satisfied: pytz>=2017.2 in /usr/local/lib/python3.7/dist-packages (from pandas>=0.21.1->category_encoders) (2018.9)\n",
            "Requirement already satisfied: six in /usr/local/lib/python3.7/dist-packages (from patsy>=0.5.1->category_encoders) (1.15.0)\n",
            "Installing collected packages: category-encoders\n",
            "Successfully installed category-encoders-2.2.2\n"
          ],
          "name": "stdout"
        },
        {
          "output_type": "stream",
          "text": [
            "/usr/local/lib/python3.7/dist-packages/statsmodels/tools/_testing.py:19: FutureWarning: pandas.util.testing is deprecated. Use the functions in the public API at pandas.testing instead.\n",
            "  import pandas.util.testing as tm\n"
          ],
          "name": "stderr"
        }
      ]
    },
    {
      "cell_type": "code",
      "metadata": {
        "colab": {
          "base_uri": "https://localhost:8080/"
        },
        "id": "Anx0iXOhukTo",
        "outputId": "5d9dbbe7-fa80-456e-b9a0-b49bab7e1c33"
      },
      "source": [
        "# encode remaining variables with one-hot encoding\n",
        "\n",
        "encoder = ce.OneHotEncoder(cols=['workclass', 'education', 'maritalstatus', 'occupation', 'relationship', \n",
        "                                 'race', 'sex', 'native'])\n",
        "\n",
        "X_train = encoder.fit_transform(X_train)\n",
        "\n",
        "X_test = encoder.transform(X_test)"
      ],
      "execution_count": 43,
      "outputs": [
        {
          "output_type": "stream",
          "text": [
            "/usr/local/lib/python3.7/dist-packages/category_encoders/utils.py:21: FutureWarning: is_categorical is deprecated and will be removed in a future version.  Use is_categorical_dtype instead\n",
            "  elif pd.api.types.is_categorical(cols):\n"
          ],
          "name": "stderr"
        }
      ]
    },
    {
      "cell_type": "code",
      "metadata": {
        "colab": {
          "base_uri": "https://localhost:8080/",
          "height": 160
        },
        "id": "IBC-xA3EukVf",
        "outputId": "2a8b96d9-88a8-4d15-f2a4-d4fa742f339c"
      },
      "source": [
        "X_train.head(2)"
      ],
      "execution_count": 44,
      "outputs": [
        {
          "output_type": "execute_result",
          "data": {
            "text/html": [
              "<div>\n",
              "<style scoped>\n",
              "    .dataframe tbody tr th:only-of-type {\n",
              "        vertical-align: middle;\n",
              "    }\n",
              "\n",
              "    .dataframe tbody tr th {\n",
              "        vertical-align: top;\n",
              "    }\n",
              "\n",
              "    .dataframe thead th {\n",
              "        text-align: right;\n",
              "    }\n",
              "</style>\n",
              "<table border=\"1\" class=\"dataframe\">\n",
              "  <thead>\n",
              "    <tr style=\"text-align: right;\">\n",
              "      <th></th>\n",
              "      <th>age</th>\n",
              "      <th>workclass_1</th>\n",
              "      <th>workclass_2</th>\n",
              "      <th>workclass_3</th>\n",
              "      <th>workclass_4</th>\n",
              "      <th>workclass_5</th>\n",
              "      <th>workclass_6</th>\n",
              "      <th>workclass_7</th>\n",
              "      <th>education_1</th>\n",
              "      <th>education_2</th>\n",
              "      <th>education_3</th>\n",
              "      <th>education_4</th>\n",
              "      <th>education_5</th>\n",
              "      <th>education_6</th>\n",
              "      <th>education_7</th>\n",
              "      <th>education_8</th>\n",
              "      <th>education_9</th>\n",
              "      <th>education_10</th>\n",
              "      <th>education_11</th>\n",
              "      <th>education_12</th>\n",
              "      <th>education_13</th>\n",
              "      <th>education_14</th>\n",
              "      <th>education_15</th>\n",
              "      <th>education_16</th>\n",
              "      <th>educationno</th>\n",
              "      <th>maritalstatus_1</th>\n",
              "      <th>maritalstatus_2</th>\n",
              "      <th>maritalstatus_3</th>\n",
              "      <th>maritalstatus_4</th>\n",
              "      <th>maritalstatus_5</th>\n",
              "      <th>maritalstatus_6</th>\n",
              "      <th>maritalstatus_7</th>\n",
              "      <th>occupation_1</th>\n",
              "      <th>occupation_2</th>\n",
              "      <th>occupation_3</th>\n",
              "      <th>occupation_4</th>\n",
              "      <th>occupation_5</th>\n",
              "      <th>occupation_6</th>\n",
              "      <th>occupation_7</th>\n",
              "      <th>occupation_8</th>\n",
              "      <th>...</th>\n",
              "      <th>native_1</th>\n",
              "      <th>native_2</th>\n",
              "      <th>native_3</th>\n",
              "      <th>native_4</th>\n",
              "      <th>native_5</th>\n",
              "      <th>native_6</th>\n",
              "      <th>native_7</th>\n",
              "      <th>native_8</th>\n",
              "      <th>native_9</th>\n",
              "      <th>native_10</th>\n",
              "      <th>native_11</th>\n",
              "      <th>native_12</th>\n",
              "      <th>native_13</th>\n",
              "      <th>native_14</th>\n",
              "      <th>native_15</th>\n",
              "      <th>native_16</th>\n",
              "      <th>native_17</th>\n",
              "      <th>native_18</th>\n",
              "      <th>native_19</th>\n",
              "      <th>native_20</th>\n",
              "      <th>native_21</th>\n",
              "      <th>native_22</th>\n",
              "      <th>native_23</th>\n",
              "      <th>native_24</th>\n",
              "      <th>native_25</th>\n",
              "      <th>native_26</th>\n",
              "      <th>native_27</th>\n",
              "      <th>native_28</th>\n",
              "      <th>native_29</th>\n",
              "      <th>native_30</th>\n",
              "      <th>native_31</th>\n",
              "      <th>native_32</th>\n",
              "      <th>native_33</th>\n",
              "      <th>native_34</th>\n",
              "      <th>native_35</th>\n",
              "      <th>native_36</th>\n",
              "      <th>native_37</th>\n",
              "      <th>native_38</th>\n",
              "      <th>native_39</th>\n",
              "      <th>native_40</th>\n",
              "    </tr>\n",
              "  </thead>\n",
              "  <tbody>\n",
              "    <tr>\n",
              "      <th>4324</th>\n",
              "      <td>41</td>\n",
              "      <td>1</td>\n",
              "      <td>0</td>\n",
              "      <td>0</td>\n",
              "      <td>0</td>\n",
              "      <td>0</td>\n",
              "      <td>0</td>\n",
              "      <td>0</td>\n",
              "      <td>1</td>\n",
              "      <td>0</td>\n",
              "      <td>0</td>\n",
              "      <td>0</td>\n",
              "      <td>0</td>\n",
              "      <td>0</td>\n",
              "      <td>0</td>\n",
              "      <td>0</td>\n",
              "      <td>0</td>\n",
              "      <td>0</td>\n",
              "      <td>0</td>\n",
              "      <td>0</td>\n",
              "      <td>0</td>\n",
              "      <td>0</td>\n",
              "      <td>0</td>\n",
              "      <td>0</td>\n",
              "      <td>9</td>\n",
              "      <td>1</td>\n",
              "      <td>0</td>\n",
              "      <td>0</td>\n",
              "      <td>0</td>\n",
              "      <td>0</td>\n",
              "      <td>0</td>\n",
              "      <td>0</td>\n",
              "      <td>1</td>\n",
              "      <td>0</td>\n",
              "      <td>0</td>\n",
              "      <td>0</td>\n",
              "      <td>0</td>\n",
              "      <td>0</td>\n",
              "      <td>0</td>\n",
              "      <td>0</td>\n",
              "      <td>...</td>\n",
              "      <td>1</td>\n",
              "      <td>0</td>\n",
              "      <td>0</td>\n",
              "      <td>0</td>\n",
              "      <td>0</td>\n",
              "      <td>0</td>\n",
              "      <td>0</td>\n",
              "      <td>0</td>\n",
              "      <td>0</td>\n",
              "      <td>0</td>\n",
              "      <td>0</td>\n",
              "      <td>0</td>\n",
              "      <td>0</td>\n",
              "      <td>0</td>\n",
              "      <td>0</td>\n",
              "      <td>0</td>\n",
              "      <td>0</td>\n",
              "      <td>0</td>\n",
              "      <td>0</td>\n",
              "      <td>0</td>\n",
              "      <td>0</td>\n",
              "      <td>0</td>\n",
              "      <td>0</td>\n",
              "      <td>0</td>\n",
              "      <td>0</td>\n",
              "      <td>0</td>\n",
              "      <td>0</td>\n",
              "      <td>0</td>\n",
              "      <td>0</td>\n",
              "      <td>0</td>\n",
              "      <td>0</td>\n",
              "      <td>0</td>\n",
              "      <td>0</td>\n",
              "      <td>0</td>\n",
              "      <td>0</td>\n",
              "      <td>0</td>\n",
              "      <td>0</td>\n",
              "      <td>0</td>\n",
              "      <td>0</td>\n",
              "      <td>0</td>\n",
              "    </tr>\n",
              "    <tr>\n",
              "      <th>2179</th>\n",
              "      <td>53</td>\n",
              "      <td>0</td>\n",
              "      <td>1</td>\n",
              "      <td>0</td>\n",
              "      <td>0</td>\n",
              "      <td>0</td>\n",
              "      <td>0</td>\n",
              "      <td>0</td>\n",
              "      <td>0</td>\n",
              "      <td>1</td>\n",
              "      <td>0</td>\n",
              "      <td>0</td>\n",
              "      <td>0</td>\n",
              "      <td>0</td>\n",
              "      <td>0</td>\n",
              "      <td>0</td>\n",
              "      <td>0</td>\n",
              "      <td>0</td>\n",
              "      <td>0</td>\n",
              "      <td>0</td>\n",
              "      <td>0</td>\n",
              "      <td>0</td>\n",
              "      <td>0</td>\n",
              "      <td>0</td>\n",
              "      <td>15</td>\n",
              "      <td>1</td>\n",
              "      <td>0</td>\n",
              "      <td>0</td>\n",
              "      <td>0</td>\n",
              "      <td>0</td>\n",
              "      <td>0</td>\n",
              "      <td>0</td>\n",
              "      <td>0</td>\n",
              "      <td>1</td>\n",
              "      <td>0</td>\n",
              "      <td>0</td>\n",
              "      <td>0</td>\n",
              "      <td>0</td>\n",
              "      <td>0</td>\n",
              "      <td>0</td>\n",
              "      <td>...</td>\n",
              "      <td>0</td>\n",
              "      <td>1</td>\n",
              "      <td>0</td>\n",
              "      <td>0</td>\n",
              "      <td>0</td>\n",
              "      <td>0</td>\n",
              "      <td>0</td>\n",
              "      <td>0</td>\n",
              "      <td>0</td>\n",
              "      <td>0</td>\n",
              "      <td>0</td>\n",
              "      <td>0</td>\n",
              "      <td>0</td>\n",
              "      <td>0</td>\n",
              "      <td>0</td>\n",
              "      <td>0</td>\n",
              "      <td>0</td>\n",
              "      <td>0</td>\n",
              "      <td>0</td>\n",
              "      <td>0</td>\n",
              "      <td>0</td>\n",
              "      <td>0</td>\n",
              "      <td>0</td>\n",
              "      <td>0</td>\n",
              "      <td>0</td>\n",
              "      <td>0</td>\n",
              "      <td>0</td>\n",
              "      <td>0</td>\n",
              "      <td>0</td>\n",
              "      <td>0</td>\n",
              "      <td>0</td>\n",
              "      <td>0</td>\n",
              "      <td>0</td>\n",
              "      <td>0</td>\n",
              "      <td>0</td>\n",
              "      <td>0</td>\n",
              "      <td>0</td>\n",
              "      <td>0</td>\n",
              "      <td>0</td>\n",
              "      <td>0</td>\n",
              "    </tr>\n",
              "  </tbody>\n",
              "</table>\n",
              "<p>2 rows × 102 columns</p>\n",
              "</div>"
            ],
            "text/plain": [
              "      age  workclass_1  workclass_2  ...  native_38  native_39  native_40\n",
              "4324   41            1            0  ...          0          0          0\n",
              "2179   53            0            1  ...          0          0          0\n",
              "\n",
              "[2 rows x 102 columns]"
            ]
          },
          "metadata": {
            "tags": []
          },
          "execution_count": 44
        }
      ]
    },
    {
      "cell_type": "code",
      "metadata": {
        "colab": {
          "base_uri": "https://localhost:8080/"
        },
        "id": "Ad-hK4X4ukkh",
        "outputId": "5ffb849a-f97e-41f7-d826-74695316381b"
      },
      "source": [
        "X_train.shape"
      ],
      "execution_count": 45,
      "outputs": [
        {
          "output_type": "execute_result",
          "data": {
            "text/plain": [
              "(10542, 102)"
            ]
          },
          "metadata": {
            "tags": []
          },
          "execution_count": 45
        }
      ]
    },
    {
      "cell_type": "code",
      "metadata": {
        "colab": {
          "base_uri": "https://localhost:8080/",
          "height": 160
        },
        "id": "uI0bi7ceukmK",
        "outputId": "147bc5b3-5bab-4f45-9c8f-8ff2e2504863"
      },
      "source": [
        "X_test.head(2)"
      ],
      "execution_count": 46,
      "outputs": [
        {
          "output_type": "execute_result",
          "data": {
            "text/html": [
              "<div>\n",
              "<style scoped>\n",
              "    .dataframe tbody tr th:only-of-type {\n",
              "        vertical-align: middle;\n",
              "    }\n",
              "\n",
              "    .dataframe tbody tr th {\n",
              "        vertical-align: top;\n",
              "    }\n",
              "\n",
              "    .dataframe thead th {\n",
              "        text-align: right;\n",
              "    }\n",
              "</style>\n",
              "<table border=\"1\" class=\"dataframe\">\n",
              "  <thead>\n",
              "    <tr style=\"text-align: right;\">\n",
              "      <th></th>\n",
              "      <th>age</th>\n",
              "      <th>workclass_1</th>\n",
              "      <th>workclass_2</th>\n",
              "      <th>workclass_3</th>\n",
              "      <th>workclass_4</th>\n",
              "      <th>workclass_5</th>\n",
              "      <th>workclass_6</th>\n",
              "      <th>workclass_7</th>\n",
              "      <th>education_1</th>\n",
              "      <th>education_2</th>\n",
              "      <th>education_3</th>\n",
              "      <th>education_4</th>\n",
              "      <th>education_5</th>\n",
              "      <th>education_6</th>\n",
              "      <th>education_7</th>\n",
              "      <th>education_8</th>\n",
              "      <th>education_9</th>\n",
              "      <th>education_10</th>\n",
              "      <th>education_11</th>\n",
              "      <th>education_12</th>\n",
              "      <th>education_13</th>\n",
              "      <th>education_14</th>\n",
              "      <th>education_15</th>\n",
              "      <th>education_16</th>\n",
              "      <th>educationno</th>\n",
              "      <th>maritalstatus_1</th>\n",
              "      <th>maritalstatus_2</th>\n",
              "      <th>maritalstatus_3</th>\n",
              "      <th>maritalstatus_4</th>\n",
              "      <th>maritalstatus_5</th>\n",
              "      <th>maritalstatus_6</th>\n",
              "      <th>maritalstatus_7</th>\n",
              "      <th>occupation_1</th>\n",
              "      <th>occupation_2</th>\n",
              "      <th>occupation_3</th>\n",
              "      <th>occupation_4</th>\n",
              "      <th>occupation_5</th>\n",
              "      <th>occupation_6</th>\n",
              "      <th>occupation_7</th>\n",
              "      <th>occupation_8</th>\n",
              "      <th>...</th>\n",
              "      <th>native_1</th>\n",
              "      <th>native_2</th>\n",
              "      <th>native_3</th>\n",
              "      <th>native_4</th>\n",
              "      <th>native_5</th>\n",
              "      <th>native_6</th>\n",
              "      <th>native_7</th>\n",
              "      <th>native_8</th>\n",
              "      <th>native_9</th>\n",
              "      <th>native_10</th>\n",
              "      <th>native_11</th>\n",
              "      <th>native_12</th>\n",
              "      <th>native_13</th>\n",
              "      <th>native_14</th>\n",
              "      <th>native_15</th>\n",
              "      <th>native_16</th>\n",
              "      <th>native_17</th>\n",
              "      <th>native_18</th>\n",
              "      <th>native_19</th>\n",
              "      <th>native_20</th>\n",
              "      <th>native_21</th>\n",
              "      <th>native_22</th>\n",
              "      <th>native_23</th>\n",
              "      <th>native_24</th>\n",
              "      <th>native_25</th>\n",
              "      <th>native_26</th>\n",
              "      <th>native_27</th>\n",
              "      <th>native_28</th>\n",
              "      <th>native_29</th>\n",
              "      <th>native_30</th>\n",
              "      <th>native_31</th>\n",
              "      <th>native_32</th>\n",
              "      <th>native_33</th>\n",
              "      <th>native_34</th>\n",
              "      <th>native_35</th>\n",
              "      <th>native_36</th>\n",
              "      <th>native_37</th>\n",
              "      <th>native_38</th>\n",
              "      <th>native_39</th>\n",
              "      <th>native_40</th>\n",
              "    </tr>\n",
              "  </thead>\n",
              "  <tbody>\n",
              "    <tr>\n",
              "      <th>4269</th>\n",
              "      <td>37</td>\n",
              "      <td>1</td>\n",
              "      <td>0</td>\n",
              "      <td>0</td>\n",
              "      <td>0</td>\n",
              "      <td>0</td>\n",
              "      <td>0</td>\n",
              "      <td>0</td>\n",
              "      <td>0</td>\n",
              "      <td>0</td>\n",
              "      <td>1</td>\n",
              "      <td>0</td>\n",
              "      <td>0</td>\n",
              "      <td>0</td>\n",
              "      <td>0</td>\n",
              "      <td>0</td>\n",
              "      <td>0</td>\n",
              "      <td>0</td>\n",
              "      <td>0</td>\n",
              "      <td>0</td>\n",
              "      <td>0</td>\n",
              "      <td>0</td>\n",
              "      <td>0</td>\n",
              "      <td>0</td>\n",
              "      <td>10</td>\n",
              "      <td>1</td>\n",
              "      <td>0</td>\n",
              "      <td>0</td>\n",
              "      <td>0</td>\n",
              "      <td>0</td>\n",
              "      <td>0</td>\n",
              "      <td>0</td>\n",
              "      <td>1</td>\n",
              "      <td>0</td>\n",
              "      <td>0</td>\n",
              "      <td>0</td>\n",
              "      <td>0</td>\n",
              "      <td>0</td>\n",
              "      <td>0</td>\n",
              "      <td>0</td>\n",
              "      <td>...</td>\n",
              "      <td>1</td>\n",
              "      <td>0</td>\n",
              "      <td>0</td>\n",
              "      <td>0</td>\n",
              "      <td>0</td>\n",
              "      <td>0</td>\n",
              "      <td>0</td>\n",
              "      <td>0</td>\n",
              "      <td>0</td>\n",
              "      <td>0</td>\n",
              "      <td>0</td>\n",
              "      <td>0</td>\n",
              "      <td>0</td>\n",
              "      <td>0</td>\n",
              "      <td>0</td>\n",
              "      <td>0</td>\n",
              "      <td>0</td>\n",
              "      <td>0</td>\n",
              "      <td>0</td>\n",
              "      <td>0</td>\n",
              "      <td>0</td>\n",
              "      <td>0</td>\n",
              "      <td>0</td>\n",
              "      <td>0</td>\n",
              "      <td>0</td>\n",
              "      <td>0</td>\n",
              "      <td>0</td>\n",
              "      <td>0</td>\n",
              "      <td>0</td>\n",
              "      <td>0</td>\n",
              "      <td>0</td>\n",
              "      <td>0</td>\n",
              "      <td>0</td>\n",
              "      <td>0</td>\n",
              "      <td>0</td>\n",
              "      <td>0</td>\n",
              "      <td>0</td>\n",
              "      <td>0</td>\n",
              "      <td>0</td>\n",
              "      <td>0</td>\n",
              "    </tr>\n",
              "    <tr>\n",
              "      <th>7027</th>\n",
              "      <td>61</td>\n",
              "      <td>1</td>\n",
              "      <td>0</td>\n",
              "      <td>0</td>\n",
              "      <td>0</td>\n",
              "      <td>0</td>\n",
              "      <td>0</td>\n",
              "      <td>0</td>\n",
              "      <td>0</td>\n",
              "      <td>0</td>\n",
              "      <td>0</td>\n",
              "      <td>0</td>\n",
              "      <td>0</td>\n",
              "      <td>0</td>\n",
              "      <td>1</td>\n",
              "      <td>0</td>\n",
              "      <td>0</td>\n",
              "      <td>0</td>\n",
              "      <td>0</td>\n",
              "      <td>0</td>\n",
              "      <td>0</td>\n",
              "      <td>0</td>\n",
              "      <td>0</td>\n",
              "      <td>0</td>\n",
              "      <td>6</td>\n",
              "      <td>0</td>\n",
              "      <td>1</td>\n",
              "      <td>0</td>\n",
              "      <td>0</td>\n",
              "      <td>0</td>\n",
              "      <td>0</td>\n",
              "      <td>0</td>\n",
              "      <td>0</td>\n",
              "      <td>0</td>\n",
              "      <td>0</td>\n",
              "      <td>0</td>\n",
              "      <td>0</td>\n",
              "      <td>0</td>\n",
              "      <td>0</td>\n",
              "      <td>0</td>\n",
              "      <td>...</td>\n",
              "      <td>1</td>\n",
              "      <td>0</td>\n",
              "      <td>0</td>\n",
              "      <td>0</td>\n",
              "      <td>0</td>\n",
              "      <td>0</td>\n",
              "      <td>0</td>\n",
              "      <td>0</td>\n",
              "      <td>0</td>\n",
              "      <td>0</td>\n",
              "      <td>0</td>\n",
              "      <td>0</td>\n",
              "      <td>0</td>\n",
              "      <td>0</td>\n",
              "      <td>0</td>\n",
              "      <td>0</td>\n",
              "      <td>0</td>\n",
              "      <td>0</td>\n",
              "      <td>0</td>\n",
              "      <td>0</td>\n",
              "      <td>0</td>\n",
              "      <td>0</td>\n",
              "      <td>0</td>\n",
              "      <td>0</td>\n",
              "      <td>0</td>\n",
              "      <td>0</td>\n",
              "      <td>0</td>\n",
              "      <td>0</td>\n",
              "      <td>0</td>\n",
              "      <td>0</td>\n",
              "      <td>0</td>\n",
              "      <td>0</td>\n",
              "      <td>0</td>\n",
              "      <td>0</td>\n",
              "      <td>0</td>\n",
              "      <td>0</td>\n",
              "      <td>0</td>\n",
              "      <td>0</td>\n",
              "      <td>0</td>\n",
              "      <td>0</td>\n",
              "    </tr>\n",
              "  </tbody>\n",
              "</table>\n",
              "<p>2 rows × 102 columns</p>\n",
              "</div>"
            ],
            "text/plain": [
              "      age  workclass_1  workclass_2  ...  native_38  native_39  native_40\n",
              "4269   37            1            0  ...          0          0          0\n",
              "7027   61            1            0  ...          0          0          0\n",
              "\n",
              "[2 rows x 102 columns]"
            ]
          },
          "metadata": {
            "tags": []
          },
          "execution_count": 46
        }
      ]
    },
    {
      "cell_type": "code",
      "metadata": {
        "colab": {
          "base_uri": "https://localhost:8080/"
        },
        "id": "dSrUpNRLukps",
        "outputId": "87db8d87-908c-43da-dc5f-114630feeee9"
      },
      "source": [
        "X_test.shape"
      ],
      "execution_count": 47,
      "outputs": [
        {
          "output_type": "execute_result",
          "data": {
            "text/plain": [
              "(4518, 102)"
            ]
          },
          "metadata": {
            "tags": []
          },
          "execution_count": 47
        }
      ]
    },
    {
      "cell_type": "code",
      "metadata": {
        "colab": {
          "base_uri": "https://localhost:8080/"
        },
        "id": "mkHr4Gqwukrs",
        "outputId": "3910773b-6f53-47c8-c248-9cba2b055f04"
      },
      "source": [
        "# Feature Scaling \n",
        "#Table of Contents\n",
        "\n",
        "cols = X_train.columns\n",
        "cols"
      ],
      "execution_count": 48,
      "outputs": [
        {
          "output_type": "execute_result",
          "data": {
            "text/plain": [
              "Index(['age', 'workclass_1', 'workclass_2', 'workclass_3', 'workclass_4',\n",
              "       'workclass_5', 'workclass_6', 'workclass_7', 'education_1',\n",
              "       'education_2',\n",
              "       ...\n",
              "       'native_31', 'native_32', 'native_33', 'native_34', 'native_35',\n",
              "       'native_36', 'native_37', 'native_38', 'native_39', 'native_40'],\n",
              "      dtype='object', length=102)"
            ]
          },
          "metadata": {
            "tags": []
          },
          "execution_count": 48
        }
      ]
    },
    {
      "cell_type": "code",
      "metadata": {
        "id": "N3rKNVkAukuu"
      },
      "source": [
        "from sklearn.preprocessing import RobustScaler\n",
        "\n",
        "scaler = RobustScaler()\n",
        "\n",
        "X_train = scaler.fit_transform(X_train)\n",
        "\n",
        "X_test = scaler.transform(X_test)"
      ],
      "execution_count": 49,
      "outputs": []
    },
    {
      "cell_type": "code",
      "metadata": {
        "colab": {
          "base_uri": "https://localhost:8080/",
          "height": 253
        },
        "id": "9tkloo97ukxU",
        "outputId": "d4bf7673-4358-4210-f0d9-e6588586548c"
      },
      "source": [
        "X_train = pd.DataFrame(X_train, columns=[cols])\n",
        "X_test = pd.DataFrame(X_test, columns=[cols])\n",
        "X_train.head()"
      ],
      "execution_count": 51,
      "outputs": [
        {
          "output_type": "execute_result",
          "data": {
            "text/html": [
              "<div>\n",
              "<style scoped>\n",
              "    .dataframe tbody tr th:only-of-type {\n",
              "        vertical-align: middle;\n",
              "    }\n",
              "\n",
              "    .dataframe tbody tr th {\n",
              "        vertical-align: top;\n",
              "    }\n",
              "\n",
              "    .dataframe thead tr th {\n",
              "        text-align: left;\n",
              "    }\n",
              "</style>\n",
              "<table border=\"1\" class=\"dataframe\">\n",
              "  <thead>\n",
              "    <tr>\n",
              "      <th></th>\n",
              "      <th>age</th>\n",
              "      <th>workclass_1</th>\n",
              "      <th>workclass_2</th>\n",
              "      <th>workclass_3</th>\n",
              "      <th>workclass_4</th>\n",
              "      <th>workclass_5</th>\n",
              "      <th>workclass_6</th>\n",
              "      <th>workclass_7</th>\n",
              "      <th>education_1</th>\n",
              "      <th>education_2</th>\n",
              "      <th>education_3</th>\n",
              "      <th>education_4</th>\n",
              "      <th>education_5</th>\n",
              "      <th>education_6</th>\n",
              "      <th>education_7</th>\n",
              "      <th>education_8</th>\n",
              "      <th>education_9</th>\n",
              "      <th>education_10</th>\n",
              "      <th>education_11</th>\n",
              "      <th>education_12</th>\n",
              "      <th>education_13</th>\n",
              "      <th>education_14</th>\n",
              "      <th>education_15</th>\n",
              "      <th>education_16</th>\n",
              "      <th>educationno</th>\n",
              "      <th>maritalstatus_1</th>\n",
              "      <th>maritalstatus_2</th>\n",
              "      <th>maritalstatus_3</th>\n",
              "      <th>maritalstatus_4</th>\n",
              "      <th>maritalstatus_5</th>\n",
              "      <th>maritalstatus_6</th>\n",
              "      <th>maritalstatus_7</th>\n",
              "      <th>occupation_1</th>\n",
              "      <th>occupation_2</th>\n",
              "      <th>occupation_3</th>\n",
              "      <th>occupation_4</th>\n",
              "      <th>occupation_5</th>\n",
              "      <th>occupation_6</th>\n",
              "      <th>occupation_7</th>\n",
              "      <th>occupation_8</th>\n",
              "      <th>...</th>\n",
              "      <th>native_1</th>\n",
              "      <th>native_2</th>\n",
              "      <th>native_3</th>\n",
              "      <th>native_4</th>\n",
              "      <th>native_5</th>\n",
              "      <th>native_6</th>\n",
              "      <th>native_7</th>\n",
              "      <th>native_8</th>\n",
              "      <th>native_9</th>\n",
              "      <th>native_10</th>\n",
              "      <th>native_11</th>\n",
              "      <th>native_12</th>\n",
              "      <th>native_13</th>\n",
              "      <th>native_14</th>\n",
              "      <th>native_15</th>\n",
              "      <th>native_16</th>\n",
              "      <th>native_17</th>\n",
              "      <th>native_18</th>\n",
              "      <th>native_19</th>\n",
              "      <th>native_20</th>\n",
              "      <th>native_21</th>\n",
              "      <th>native_22</th>\n",
              "      <th>native_23</th>\n",
              "      <th>native_24</th>\n",
              "      <th>native_25</th>\n",
              "      <th>native_26</th>\n",
              "      <th>native_27</th>\n",
              "      <th>native_28</th>\n",
              "      <th>native_29</th>\n",
              "      <th>native_30</th>\n",
              "      <th>native_31</th>\n",
              "      <th>native_32</th>\n",
              "      <th>native_33</th>\n",
              "      <th>native_34</th>\n",
              "      <th>native_35</th>\n",
              "      <th>native_36</th>\n",
              "      <th>native_37</th>\n",
              "      <th>native_38</th>\n",
              "      <th>native_39</th>\n",
              "      <th>native_40</th>\n",
              "    </tr>\n",
              "  </thead>\n",
              "  <tbody>\n",
              "    <tr>\n",
              "      <th>0</th>\n",
              "      <td>0.2</td>\n",
              "      <td>0.0</td>\n",
              "      <td>0.0</td>\n",
              "      <td>0.0</td>\n",
              "      <td>0.0</td>\n",
              "      <td>0.0</td>\n",
              "      <td>0.0</td>\n",
              "      <td>0.0</td>\n",
              "      <td>1.0</td>\n",
              "      <td>0.0</td>\n",
              "      <td>0.0</td>\n",
              "      <td>0.0</td>\n",
              "      <td>0.0</td>\n",
              "      <td>0.0</td>\n",
              "      <td>0.0</td>\n",
              "      <td>0.0</td>\n",
              "      <td>0.0</td>\n",
              "      <td>0.0</td>\n",
              "      <td>0.0</td>\n",
              "      <td>0.0</td>\n",
              "      <td>0.0</td>\n",
              "      <td>0.0</td>\n",
              "      <td>0.0</td>\n",
              "      <td>0.0</td>\n",
              "      <td>-0.25</td>\n",
              "      <td>1.0</td>\n",
              "      <td>0.0</td>\n",
              "      <td>0.0</td>\n",
              "      <td>0.0</td>\n",
              "      <td>0.0</td>\n",
              "      <td>0.0</td>\n",
              "      <td>0.0</td>\n",
              "      <td>1.0</td>\n",
              "      <td>0.0</td>\n",
              "      <td>0.0</td>\n",
              "      <td>0.0</td>\n",
              "      <td>0.0</td>\n",
              "      <td>0.0</td>\n",
              "      <td>0.0</td>\n",
              "      <td>0.0</td>\n",
              "      <td>...</td>\n",
              "      <td>0.0</td>\n",
              "      <td>0.0</td>\n",
              "      <td>0.0</td>\n",
              "      <td>0.0</td>\n",
              "      <td>0.0</td>\n",
              "      <td>0.0</td>\n",
              "      <td>0.0</td>\n",
              "      <td>0.0</td>\n",
              "      <td>0.0</td>\n",
              "      <td>0.0</td>\n",
              "      <td>0.0</td>\n",
              "      <td>0.0</td>\n",
              "      <td>0.0</td>\n",
              "      <td>0.0</td>\n",
              "      <td>0.0</td>\n",
              "      <td>0.0</td>\n",
              "      <td>0.0</td>\n",
              "      <td>0.0</td>\n",
              "      <td>0.0</td>\n",
              "      <td>0.0</td>\n",
              "      <td>0.0</td>\n",
              "      <td>0.0</td>\n",
              "      <td>0.0</td>\n",
              "      <td>0.0</td>\n",
              "      <td>0.0</td>\n",
              "      <td>0.0</td>\n",
              "      <td>0.0</td>\n",
              "      <td>0.0</td>\n",
              "      <td>0.0</td>\n",
              "      <td>0.0</td>\n",
              "      <td>0.0</td>\n",
              "      <td>0.0</td>\n",
              "      <td>0.0</td>\n",
              "      <td>0.0</td>\n",
              "      <td>0.0</td>\n",
              "      <td>0.0</td>\n",
              "      <td>0.0</td>\n",
              "      <td>0.0</td>\n",
              "      <td>0.0</td>\n",
              "      <td>0.0</td>\n",
              "    </tr>\n",
              "    <tr>\n",
              "      <th>1</th>\n",
              "      <td>0.8</td>\n",
              "      <td>-1.0</td>\n",
              "      <td>1.0</td>\n",
              "      <td>0.0</td>\n",
              "      <td>0.0</td>\n",
              "      <td>0.0</td>\n",
              "      <td>0.0</td>\n",
              "      <td>0.0</td>\n",
              "      <td>0.0</td>\n",
              "      <td>1.0</td>\n",
              "      <td>0.0</td>\n",
              "      <td>0.0</td>\n",
              "      <td>0.0</td>\n",
              "      <td>0.0</td>\n",
              "      <td>0.0</td>\n",
              "      <td>0.0</td>\n",
              "      <td>0.0</td>\n",
              "      <td>0.0</td>\n",
              "      <td>0.0</td>\n",
              "      <td>0.0</td>\n",
              "      <td>0.0</td>\n",
              "      <td>0.0</td>\n",
              "      <td>0.0</td>\n",
              "      <td>0.0</td>\n",
              "      <td>1.25</td>\n",
              "      <td>1.0</td>\n",
              "      <td>0.0</td>\n",
              "      <td>0.0</td>\n",
              "      <td>0.0</td>\n",
              "      <td>0.0</td>\n",
              "      <td>0.0</td>\n",
              "      <td>0.0</td>\n",
              "      <td>0.0</td>\n",
              "      <td>1.0</td>\n",
              "      <td>0.0</td>\n",
              "      <td>0.0</td>\n",
              "      <td>0.0</td>\n",
              "      <td>0.0</td>\n",
              "      <td>0.0</td>\n",
              "      <td>0.0</td>\n",
              "      <td>...</td>\n",
              "      <td>-1.0</td>\n",
              "      <td>1.0</td>\n",
              "      <td>0.0</td>\n",
              "      <td>0.0</td>\n",
              "      <td>0.0</td>\n",
              "      <td>0.0</td>\n",
              "      <td>0.0</td>\n",
              "      <td>0.0</td>\n",
              "      <td>0.0</td>\n",
              "      <td>0.0</td>\n",
              "      <td>0.0</td>\n",
              "      <td>0.0</td>\n",
              "      <td>0.0</td>\n",
              "      <td>0.0</td>\n",
              "      <td>0.0</td>\n",
              "      <td>0.0</td>\n",
              "      <td>0.0</td>\n",
              "      <td>0.0</td>\n",
              "      <td>0.0</td>\n",
              "      <td>0.0</td>\n",
              "      <td>0.0</td>\n",
              "      <td>0.0</td>\n",
              "      <td>0.0</td>\n",
              "      <td>0.0</td>\n",
              "      <td>0.0</td>\n",
              "      <td>0.0</td>\n",
              "      <td>0.0</td>\n",
              "      <td>0.0</td>\n",
              "      <td>0.0</td>\n",
              "      <td>0.0</td>\n",
              "      <td>0.0</td>\n",
              "      <td>0.0</td>\n",
              "      <td>0.0</td>\n",
              "      <td>0.0</td>\n",
              "      <td>0.0</td>\n",
              "      <td>0.0</td>\n",
              "      <td>0.0</td>\n",
              "      <td>0.0</td>\n",
              "      <td>0.0</td>\n",
              "      <td>0.0</td>\n",
              "    </tr>\n",
              "    <tr>\n",
              "      <th>2</th>\n",
              "      <td>1.4</td>\n",
              "      <td>0.0</td>\n",
              "      <td>0.0</td>\n",
              "      <td>0.0</td>\n",
              "      <td>0.0</td>\n",
              "      <td>0.0</td>\n",
              "      <td>0.0</td>\n",
              "      <td>0.0</td>\n",
              "      <td>1.0</td>\n",
              "      <td>0.0</td>\n",
              "      <td>0.0</td>\n",
              "      <td>0.0</td>\n",
              "      <td>0.0</td>\n",
              "      <td>0.0</td>\n",
              "      <td>0.0</td>\n",
              "      <td>0.0</td>\n",
              "      <td>0.0</td>\n",
              "      <td>0.0</td>\n",
              "      <td>0.0</td>\n",
              "      <td>0.0</td>\n",
              "      <td>0.0</td>\n",
              "      <td>0.0</td>\n",
              "      <td>0.0</td>\n",
              "      <td>0.0</td>\n",
              "      <td>-0.25</td>\n",
              "      <td>0.0</td>\n",
              "      <td>1.0</td>\n",
              "      <td>0.0</td>\n",
              "      <td>0.0</td>\n",
              "      <td>0.0</td>\n",
              "      <td>0.0</td>\n",
              "      <td>0.0</td>\n",
              "      <td>0.0</td>\n",
              "      <td>0.0</td>\n",
              "      <td>1.0</td>\n",
              "      <td>0.0</td>\n",
              "      <td>0.0</td>\n",
              "      <td>0.0</td>\n",
              "      <td>0.0</td>\n",
              "      <td>0.0</td>\n",
              "      <td>...</td>\n",
              "      <td>0.0</td>\n",
              "      <td>0.0</td>\n",
              "      <td>0.0</td>\n",
              "      <td>0.0</td>\n",
              "      <td>0.0</td>\n",
              "      <td>0.0</td>\n",
              "      <td>0.0</td>\n",
              "      <td>0.0</td>\n",
              "      <td>0.0</td>\n",
              "      <td>0.0</td>\n",
              "      <td>0.0</td>\n",
              "      <td>0.0</td>\n",
              "      <td>0.0</td>\n",
              "      <td>0.0</td>\n",
              "      <td>0.0</td>\n",
              "      <td>0.0</td>\n",
              "      <td>0.0</td>\n",
              "      <td>0.0</td>\n",
              "      <td>0.0</td>\n",
              "      <td>0.0</td>\n",
              "      <td>0.0</td>\n",
              "      <td>0.0</td>\n",
              "      <td>0.0</td>\n",
              "      <td>0.0</td>\n",
              "      <td>0.0</td>\n",
              "      <td>0.0</td>\n",
              "      <td>0.0</td>\n",
              "      <td>0.0</td>\n",
              "      <td>0.0</td>\n",
              "      <td>0.0</td>\n",
              "      <td>0.0</td>\n",
              "      <td>0.0</td>\n",
              "      <td>0.0</td>\n",
              "      <td>0.0</td>\n",
              "      <td>0.0</td>\n",
              "      <td>0.0</td>\n",
              "      <td>0.0</td>\n",
              "      <td>0.0</td>\n",
              "      <td>0.0</td>\n",
              "      <td>0.0</td>\n",
              "    </tr>\n",
              "    <tr>\n",
              "      <th>3</th>\n",
              "      <td>1.3</td>\n",
              "      <td>0.0</td>\n",
              "      <td>0.0</td>\n",
              "      <td>0.0</td>\n",
              "      <td>0.0</td>\n",
              "      <td>0.0</td>\n",
              "      <td>0.0</td>\n",
              "      <td>0.0</td>\n",
              "      <td>1.0</td>\n",
              "      <td>0.0</td>\n",
              "      <td>0.0</td>\n",
              "      <td>0.0</td>\n",
              "      <td>0.0</td>\n",
              "      <td>0.0</td>\n",
              "      <td>0.0</td>\n",
              "      <td>0.0</td>\n",
              "      <td>0.0</td>\n",
              "      <td>0.0</td>\n",
              "      <td>0.0</td>\n",
              "      <td>0.0</td>\n",
              "      <td>0.0</td>\n",
              "      <td>0.0</td>\n",
              "      <td>0.0</td>\n",
              "      <td>0.0</td>\n",
              "      <td>-0.25</td>\n",
              "      <td>0.0</td>\n",
              "      <td>0.0</td>\n",
              "      <td>1.0</td>\n",
              "      <td>0.0</td>\n",
              "      <td>0.0</td>\n",
              "      <td>0.0</td>\n",
              "      <td>0.0</td>\n",
              "      <td>0.0</td>\n",
              "      <td>0.0</td>\n",
              "      <td>0.0</td>\n",
              "      <td>1.0</td>\n",
              "      <td>0.0</td>\n",
              "      <td>0.0</td>\n",
              "      <td>0.0</td>\n",
              "      <td>0.0</td>\n",
              "      <td>...</td>\n",
              "      <td>0.0</td>\n",
              "      <td>0.0</td>\n",
              "      <td>0.0</td>\n",
              "      <td>0.0</td>\n",
              "      <td>0.0</td>\n",
              "      <td>0.0</td>\n",
              "      <td>0.0</td>\n",
              "      <td>0.0</td>\n",
              "      <td>0.0</td>\n",
              "      <td>0.0</td>\n",
              "      <td>0.0</td>\n",
              "      <td>0.0</td>\n",
              "      <td>0.0</td>\n",
              "      <td>0.0</td>\n",
              "      <td>0.0</td>\n",
              "      <td>0.0</td>\n",
              "      <td>0.0</td>\n",
              "      <td>0.0</td>\n",
              "      <td>0.0</td>\n",
              "      <td>0.0</td>\n",
              "      <td>0.0</td>\n",
              "      <td>0.0</td>\n",
              "      <td>0.0</td>\n",
              "      <td>0.0</td>\n",
              "      <td>0.0</td>\n",
              "      <td>0.0</td>\n",
              "      <td>0.0</td>\n",
              "      <td>0.0</td>\n",
              "      <td>0.0</td>\n",
              "      <td>0.0</td>\n",
              "      <td>0.0</td>\n",
              "      <td>0.0</td>\n",
              "      <td>0.0</td>\n",
              "      <td>0.0</td>\n",
              "      <td>0.0</td>\n",
              "      <td>0.0</td>\n",
              "      <td>0.0</td>\n",
              "      <td>0.0</td>\n",
              "      <td>0.0</td>\n",
              "      <td>0.0</td>\n",
              "    </tr>\n",
              "    <tr>\n",
              "      <th>4</th>\n",
              "      <td>-0.7</td>\n",
              "      <td>0.0</td>\n",
              "      <td>0.0</td>\n",
              "      <td>0.0</td>\n",
              "      <td>0.0</td>\n",
              "      <td>0.0</td>\n",
              "      <td>0.0</td>\n",
              "      <td>0.0</td>\n",
              "      <td>1.0</td>\n",
              "      <td>0.0</td>\n",
              "      <td>0.0</td>\n",
              "      <td>0.0</td>\n",
              "      <td>0.0</td>\n",
              "      <td>0.0</td>\n",
              "      <td>0.0</td>\n",
              "      <td>0.0</td>\n",
              "      <td>0.0</td>\n",
              "      <td>0.0</td>\n",
              "      <td>0.0</td>\n",
              "      <td>0.0</td>\n",
              "      <td>0.0</td>\n",
              "      <td>0.0</td>\n",
              "      <td>0.0</td>\n",
              "      <td>0.0</td>\n",
              "      <td>-0.25</td>\n",
              "      <td>0.0</td>\n",
              "      <td>1.0</td>\n",
              "      <td>0.0</td>\n",
              "      <td>0.0</td>\n",
              "      <td>0.0</td>\n",
              "      <td>0.0</td>\n",
              "      <td>0.0</td>\n",
              "      <td>0.0</td>\n",
              "      <td>0.0</td>\n",
              "      <td>0.0</td>\n",
              "      <td>0.0</td>\n",
              "      <td>1.0</td>\n",
              "      <td>0.0</td>\n",
              "      <td>0.0</td>\n",
              "      <td>0.0</td>\n",
              "      <td>...</td>\n",
              "      <td>0.0</td>\n",
              "      <td>0.0</td>\n",
              "      <td>0.0</td>\n",
              "      <td>0.0</td>\n",
              "      <td>0.0</td>\n",
              "      <td>0.0</td>\n",
              "      <td>0.0</td>\n",
              "      <td>0.0</td>\n",
              "      <td>0.0</td>\n",
              "      <td>0.0</td>\n",
              "      <td>0.0</td>\n",
              "      <td>0.0</td>\n",
              "      <td>0.0</td>\n",
              "      <td>0.0</td>\n",
              "      <td>0.0</td>\n",
              "      <td>0.0</td>\n",
              "      <td>0.0</td>\n",
              "      <td>0.0</td>\n",
              "      <td>0.0</td>\n",
              "      <td>0.0</td>\n",
              "      <td>0.0</td>\n",
              "      <td>0.0</td>\n",
              "      <td>0.0</td>\n",
              "      <td>0.0</td>\n",
              "      <td>0.0</td>\n",
              "      <td>0.0</td>\n",
              "      <td>0.0</td>\n",
              "      <td>0.0</td>\n",
              "      <td>0.0</td>\n",
              "      <td>0.0</td>\n",
              "      <td>0.0</td>\n",
              "      <td>0.0</td>\n",
              "      <td>0.0</td>\n",
              "      <td>0.0</td>\n",
              "      <td>0.0</td>\n",
              "      <td>0.0</td>\n",
              "      <td>0.0</td>\n",
              "      <td>0.0</td>\n",
              "      <td>0.0</td>\n",
              "      <td>0.0</td>\n",
              "    </tr>\n",
              "  </tbody>\n",
              "</table>\n",
              "<p>5 rows × 102 columns</p>\n",
              "</div>"
            ],
            "text/plain": [
              "   age workclass_1 workclass_2  ... native_38 native_39 native_40\n",
              "0  0.2         0.0         0.0  ...       0.0       0.0       0.0\n",
              "1  0.8        -1.0         1.0  ...       0.0       0.0       0.0\n",
              "2  1.4         0.0         0.0  ...       0.0       0.0       0.0\n",
              "3  1.3         0.0         0.0  ...       0.0       0.0       0.0\n",
              "4 -0.7         0.0         0.0  ...       0.0       0.0       0.0\n",
              "\n",
              "[5 rows x 102 columns]"
            ]
          },
          "metadata": {
            "tags": []
          },
          "execution_count": 51
        }
      ]
    },
    {
      "cell_type": "code",
      "metadata": {
        "id": "mlTESlr2vICq"
      },
      "source": [
        "# train a Gaussian Naive Bayes classifier on the training set\n",
        "from sklearn.naive_bayes import GaussianNB\n",
        "\n",
        "\n",
        "# instantiate the model\n",
        "gnb = GaussianNB()"
      ],
      "execution_count": 52,
      "outputs": []
    },
    {
      "cell_type": "code",
      "metadata": {
        "colab": {
          "base_uri": "https://localhost:8080/"
        },
        "id": "I1EYslmgvIE0",
        "outputId": "ca91ae62-e6a3-41e6-ab40-d21e7f9b71c3"
      },
      "source": [
        "# fit the model\n",
        "gnb.fit(X_train, y_train)"
      ],
      "execution_count": 53,
      "outputs": [
        {
          "output_type": "execute_result",
          "data": {
            "text/plain": [
              "GaussianNB(priors=None, var_smoothing=1e-09)"
            ]
          },
          "metadata": {
            "tags": []
          },
          "execution_count": 53
        }
      ]
    },
    {
      "cell_type": "code",
      "metadata": {
        "colab": {
          "base_uri": "https://localhost:8080/"
        },
        "id": "-RCZ5a_DvIHm",
        "outputId": "df5bf96f-aae7-4697-df97-2e89fd11ccf1"
      },
      "source": [
        "y_pred = gnb.predict(X_test)\n",
        "\n",
        "y_pred"
      ],
      "execution_count": 54,
      "outputs": [
        {
          "output_type": "execute_result",
          "data": {
            "text/plain": [
              "array([' >50K', ' <=50K', ' <=50K', ..., ' <=50K', ' >50K', ' <=50K'],\n",
              "      dtype='<U6')"
            ]
          },
          "metadata": {
            "tags": []
          },
          "execution_count": 54
        }
      ]
    },
    {
      "cell_type": "code",
      "metadata": {
        "colab": {
          "base_uri": "https://localhost:8080/"
        },
        "id": "TJo4mM8nvUJj",
        "outputId": "d405baf7-bf1d-47b2-e1a9-a061b4f0fd5c"
      },
      "source": [
        "from sklearn.metrics import accuracy_score\n",
        "\n",
        "print('Model accuracy score: {0:0.4f}'. format(accuracy_score(y_test, y_pred)))"
      ],
      "execution_count": 55,
      "outputs": [
        {
          "output_type": "stream",
          "text": [
            "Model accuracy score: 0.8028\n"
          ],
          "name": "stdout"
        }
      ]
    },
    {
      "cell_type": "code",
      "metadata": {
        "colab": {
          "base_uri": "https://localhost:8080/"
        },
        "id": "CbYuGA65vUMj",
        "outputId": "32e3ede7-b3e1-4193-f708-70bc0da96146"
      },
      "source": [
        "y_pred_train = gnb.predict(X_train)\n",
        "\n",
        "y_pred_train"
      ],
      "execution_count": 56,
      "outputs": [
        {
          "output_type": "execute_result",
          "data": {
            "text/plain": [
              "array([' >50K', ' >50K', ' <=50K', ..., ' <=50K', ' <=50K', ' <=50K'],\n",
              "      dtype='<U6')"
            ]
          },
          "metadata": {
            "tags": []
          },
          "execution_count": 56
        }
      ]
    },
    {
      "cell_type": "code",
      "metadata": {
        "colab": {
          "base_uri": "https://localhost:8080/"
        },
        "id": "Mn71Vw5DvIJx",
        "outputId": "d48d76bd-d9fd-4e39-a1d7-19013fcd97a9"
      },
      "source": [
        "print('Training-set accuracy score: {0:0.4f}'. format(accuracy_score(y_train, y_pred_train)))"
      ],
      "execution_count": 57,
      "outputs": [
        {
          "output_type": "stream",
          "text": [
            "Training-set accuracy score: 0.8017\n"
          ],
          "name": "stdout"
        }
      ]
    },
    {
      "cell_type": "code",
      "metadata": {
        "colab": {
          "base_uri": "https://localhost:8080/"
        },
        "id": "2nJRUNnTvIMH",
        "outputId": "ef57ed0d-3e33-4a78-98bb-3077317c6458"
      },
      "source": [
        "# check class distribution in test set\n",
        "\n",
        "y_test.value_counts()"
      ],
      "execution_count": 58,
      "outputs": [
        {
          "output_type": "execute_result",
          "data": {
            "text/plain": [
              " <=50K    3385\n",
              " >50K     1133\n",
              "Name: Salary, dtype: int64"
            ]
          },
          "metadata": {
            "tags": []
          },
          "execution_count": 58
        }
      ]
    },
    {
      "cell_type": "code",
      "metadata": {
        "colab": {
          "base_uri": "https://localhost:8080/"
        },
        "id": "O50SdfIOvnSa",
        "outputId": "505e16a9-3b9a-4e87-cf34-56ba4b44f9d4"
      },
      "source": [
        "# check null accuracy score\n",
        "\n",
        "null_accuracy = (7407/(7407+2362))\n",
        "\n",
        "print('Null accuracy score: {0:0.4f}'. format(null_accuracy))"
      ],
      "execution_count": 59,
      "outputs": [
        {
          "output_type": "stream",
          "text": [
            "Null accuracy score: 0.7582\n"
          ],
          "name": "stdout"
        }
      ]
    },
    {
      "cell_type": "code",
      "metadata": {
        "colab": {
          "base_uri": "https://localhost:8080/"
        },
        "id": "M8pPdhxovnUf",
        "outputId": "2bdd5992-b527-4566-d9ff-a34955d5215e"
      },
      "source": [
        "# Print the Confusion Matrix and slice it into four pieces\n",
        "\n",
        "from sklearn.metrics import confusion_matrix\n",
        "\n",
        "cm = confusion_matrix(y_test, y_pred)\n",
        "\n",
        "print('Confusion matrix\\n\\n', cm)\n",
        "\n",
        "print('\\nTrue Positives(TP) = ', cm[0,0])\n",
        "\n",
        "print('\\nTrue Negatives(TN) = ', cm[1,1])\n",
        "\n",
        "print('\\nFalse Positives(FP) = ', cm[0,1])\n",
        "\n",
        "print('\\nFalse Negatives(FN) = ', cm[1,0])"
      ],
      "execution_count": 60,
      "outputs": [
        {
          "output_type": "stream",
          "text": [
            "Confusion matrix\n",
            "\n",
            " [[2709  676]\n",
            " [ 215  918]]\n",
            "\n",
            "True Positives(TP) =  2709\n",
            "\n",
            "True Negatives(TN) =  918\n",
            "\n",
            "False Positives(FP) =  676\n",
            "\n",
            "False Negatives(FN) =  215\n"
          ],
          "name": "stdout"
        }
      ]
    },
    {
      "cell_type": "code",
      "metadata": {
        "colab": {
          "base_uri": "https://localhost:8080/",
          "height": 289
        },
        "id": "VeFm-1j2vnXa",
        "outputId": "d0b51518-e944-4efd-ebb4-34f9cd2aa591"
      },
      "source": [
        "# visualize confusion matrix with seaborn heatmap\n",
        "\n",
        "cm_matrix = pd.DataFrame(data=cm, columns=['Actual Positive:1', 'Actual Negative:0'], \n",
        "                                 index=['Predict Positive:1', 'Predict Negative:0'])\n",
        "\n",
        "sns.heatmap(cm_matrix, annot=True, fmt='d', cmap='YlGnBu')"
      ],
      "execution_count": 61,
      "outputs": [
        {
          "output_type": "execute_result",
          "data": {
            "text/plain": [
              "<matplotlib.axes._subplots.AxesSubplot at 0x7f7096b4c2d0>"
            ]
          },
          "metadata": {
            "tags": []
          },
          "execution_count": 61
        },
        {
          "output_type": "display_data",
          "data": {
            "image/png": "[encoded data removed]",
            "text/plain": [
              "<Figure size 432x288 with 2 Axes>"
            ]
          },
          "metadata": {
            "tags": []
          }
        }
      ]
    },
    {
      "cell_type": "code",
      "metadata": {
        "colab": {
          "base_uri": "https://localhost:8080/"
        },
        "id": "c71DRyIkvnar",
        "outputId": "19a960e0-3bd3-4db8-994d-187ac5713374"
      },
      "source": [
        "from sklearn.metrics import classification_report\n",
        "\n",
        "print(classification_report(y_test, y_pred))"
      ],
      "execution_count": 62,
      "outputs": [
        {
          "output_type": "stream",
          "text": [
            "              precision    recall  f1-score   support\n",
            "\n",
            "       <=50K       0.93      0.80      0.86      3385\n",
            "        >50K       0.58      0.81      0.67      1133\n",
            "\n",
            "    accuracy                           0.80      4518\n",
            "   macro avg       0.75      0.81      0.77      4518\n",
            "weighted avg       0.84      0.80      0.81      4518\n",
            "\n"
          ],
          "name": "stdout"
        }
      ]
    },
    {
      "cell_type": "code",
      "metadata": {
        "id": "3g6kYWB5vnc9"
      },
      "source": [
        "#Classification accuracy\n",
        "TP = cm[0,0]\n",
        "TN = cm[1,1]\n",
        "FP = cm[0,1]\n",
        "FN = cm[1,0]"
      ],
      "execution_count": 63,
      "outputs": []
    },
    {
      "cell_type": "code",
      "metadata": {
        "colab": {
          "base_uri": "https://localhost:8080/"
        },
        "id": "ZBZCZV22v8YX",
        "outputId": "2f8f781a-ed00-4d7b-a63a-8521e99f2d10"
      },
      "source": [
        "# print classification accuracy\n",
        "\n",
        "classification_accuracy = (TP + TN) / float(TP + TN + FP + FN)\n",
        "\n",
        "print('Classification accuracy : {0:0.4f}'.format(classification_accuracy))"
      ],
      "execution_count": 64,
      "outputs": [
        {
          "output_type": "stream",
          "text": [
            "Classification accuracy : 0.8028\n"
          ],
          "name": "stdout"
        }
      ]
    },
    {
      "cell_type": "code",
      "metadata": {
        "colab": {
          "base_uri": "https://localhost:8080/"
        },
        "id": "VVhfO5-Uv8aY",
        "outputId": "8bc96d78-fe20-449b-f850-7df879dfda30"
      },
      "source": [
        "#Classification error\n",
        "# print classification error\n",
        "\n",
        "classification_error = (FP + FN) / float(TP + TN + FP + FN)\n",
        "\n",
        "print('Classification error : {0:0.4f}'.format(classification_error))"
      ],
      "execution_count": 65,
      "outputs": [
        {
          "output_type": "stream",
          "text": [
            "Classification error : 0.1972\n"
          ],
          "name": "stdout"
        }
      ]
    },
    {
      "cell_type": "code",
      "metadata": {
        "colab": {
          "base_uri": "https://localhost:8080/"
        },
        "id": "MwJcZnGDv8fQ",
        "outputId": "205c3604-6d59-4282-c9dc-56793861a9d8"
      },
      "source": [
        "# print precision score\n",
        "\n",
        "precision = TP / float(TP + FP)\n",
        "\n",
        "\n",
        "print('Precision : {0:0.4f}'.format(precision))"
      ],
      "execution_count": 66,
      "outputs": [
        {
          "output_type": "stream",
          "text": [
            "Precision : 0.8003\n"
          ],
          "name": "stdout"
        }
      ]
    },
    {
      "cell_type": "code",
      "metadata": {
        "colab": {
          "base_uri": "https://localhost:8080/"
        },
        "id": "aPnc0LF2v8wK",
        "outputId": "479f66fb-8d0e-4f7d-a41a-f40bcb9bc6d0"
      },
      "source": [
        "recall = TP / float(TP + FN)\n",
        "\n",
        "print('Recall or Sensitivity : {0:0.4f}'.format(recall))"
      ],
      "execution_count": 67,
      "outputs": [
        {
          "output_type": "stream",
          "text": [
            "Recall or Sensitivity : 0.9265\n"
          ],
          "name": "stdout"
        }
      ]
    },
    {
      "cell_type": "code",
      "metadata": {
        "colab": {
          "base_uri": "https://localhost:8080/"
        },
        "id": "B5j0-mrbv8y7",
        "outputId": "28d71cb1-fc86-4473-93be-c00be8cba193"
      },
      "source": [
        "true_positive_rate = TP / float(TP + FN)\n",
        "\n",
        "\n",
        "print('True Positive Rate : {0:0.4f}'.format(true_positive_rate))"
      ],
      "execution_count": 68,
      "outputs": [
        {
          "output_type": "stream",
          "text": [
            "True Positive Rate : 0.9265\n"
          ],
          "name": "stdout"
        }
      ]
    },
    {
      "cell_type": "code",
      "metadata": {
        "colab": {
          "base_uri": "https://localhost:8080/"
        },
        "id": "Grx8mZJcwYVy",
        "outputId": "020f4d40-ba3d-4e6c-e449-ad292e3bce71"
      },
      "source": [
        "false_positive_rate = FP / float(FP + TN)\n",
        "print('False Positive Rate : {0:0.4f}'.format(false_positive_rate))"
      ],
      "execution_count": 69,
      "outputs": [
        {
          "output_type": "stream",
          "text": [
            "False Positive Rate : 0.4241\n"
          ],
          "name": "stdout"
        }
      ]
    },
    {
      "cell_type": "code",
      "metadata": {
        "colab": {
          "base_uri": "https://localhost:8080/"
        },
        "id": "vLAjHCI9wYX8",
        "outputId": "c3f24fa2-6c36-4319-c184-3a5328eae58b"
      },
      "source": [
        "# print the first 10 predicted probabilities of two classes- 0 and 1\n",
        "\n",
        "y_pred_prob = gnb.predict_proba(X_test)[0:10]\n",
        "\n",
        "y_pred_prob"
      ],
      "execution_count": 70,
      "outputs": [
        {
          "output_type": "execute_result",
          "data": {
            "text/plain": [
              "array([[3.48154770e-02, 9.65184523e-01],\n",
              "       [9.99971965e-01, 2.80346728e-05],\n",
              "       [9.58220760e-01, 4.17792398e-02],\n",
              "       [9.99998598e-01, 1.40217160e-06],\n",
              "       [7.44380787e-02, 9.25561921e-01],\n",
              "       [9.99011204e-01, 9.88795606e-04],\n",
              "       [9.99999974e-01, 2.63003814e-08],\n",
              "       [9.99999999e-01, 9.51848857e-10],\n",
              "       [2.69689128e-01, 7.30310872e-01],\n",
              "       [8.01706993e-09, 9.99999992e-01]])"
            ]
          },
          "metadata": {
            "tags": []
          },
          "execution_count": 70
        }
      ]
    },
    {
      "cell_type": "code",
      "metadata": {
        "colab": {
          "base_uri": "https://localhost:8080/",
          "height": 359
        },
        "id": "XYZPNhmbwYbR",
        "outputId": "d0c57162-a2e2-4310-d37b-121a0dbb8e58"
      },
      "source": [
        "# store the probabilities in dataframe\n",
        "\n",
        "y_pred_prob_df = pd.DataFrame(data=y_pred_prob, columns=['Prob of - <=50K', 'Prob of - >50K'])\n",
        "\n",
        "y_pred_prob_df"
      ],
      "execution_count": 71,
      "outputs": [
        {
          "output_type": "execute_result",
          "data": {
            "text/html": [
              "<div>\n",
              "<style scoped>\n",
              "    .dataframe tbody tr th:only-of-type {\n",
              "        vertical-align: middle;\n",
              "    }\n",
              "\n",
              "    .dataframe tbody tr th {\n",
              "        vertical-align: top;\n",
              "    }\n",
              "\n",
              "    .dataframe thead th {\n",
              "        text-align: right;\n",
              "    }\n",
              "</style>\n",
              "<table border=\"1\" class=\"dataframe\">\n",
              "  <thead>\n",
              "    <tr style=\"text-align: right;\">\n",
              "      <th></th>\n",
              "      <th>Prob of - &lt;=50K</th>\n",
              "      <th>Prob of - &gt;50K</th>\n",
              "    </tr>\n",
              "  </thead>\n",
              "  <tbody>\n",
              "    <tr>\n",
              "      <th>0</th>\n",
              "      <td>3.481548e-02</td>\n",
              "      <td>9.651845e-01</td>\n",
              "    </tr>\n",
              "    <tr>\n",
              "      <th>1</th>\n",
              "      <td>9.999720e-01</td>\n",
              "      <td>2.803467e-05</td>\n",
              "    </tr>\n",
              "    <tr>\n",
              "      <th>2</th>\n",
              "      <td>9.582208e-01</td>\n",
              "      <td>4.177924e-02</td>\n",
              "    </tr>\n",
              "    <tr>\n",
              "      <th>3</th>\n",
              "      <td>9.999986e-01</td>\n",
              "      <td>1.402172e-06</td>\n",
              "    </tr>\n",
              "    <tr>\n",
              "      <th>4</th>\n",
              "      <td>7.443808e-02</td>\n",
              "      <td>9.255619e-01</td>\n",
              "    </tr>\n",
              "    <tr>\n",
              "      <th>5</th>\n",
              "      <td>9.990112e-01</td>\n",
              "      <td>9.887956e-04</td>\n",
              "    </tr>\n",
              "    <tr>\n",
              "      <th>6</th>\n",
              "      <td>1.000000e+00</td>\n",
              "      <td>2.630038e-08</td>\n",
              "    </tr>\n",
              "    <tr>\n",
              "      <th>7</th>\n",
              "      <td>1.000000e+00</td>\n",
              "      <td>9.518489e-10</td>\n",
              "    </tr>\n",
              "    <tr>\n",
              "      <th>8</th>\n",
              "      <td>2.696891e-01</td>\n",
              "      <td>7.303109e-01</td>\n",
              "    </tr>\n",
              "    <tr>\n",
              "      <th>9</th>\n",
              "      <td>8.017070e-09</td>\n",
              "      <td>1.000000e+00</td>\n",
              "    </tr>\n",
              "  </tbody>\n",
              "</table>\n",
              "</div>"
            ],
            "text/plain": [
              "   Prob of - <=50K  Prob of - >50K\n",
              "0     3.481548e-02    9.651845e-01\n",
              "1     9.999720e-01    2.803467e-05\n",
              "2     9.582208e-01    4.177924e-02\n",
              "3     9.999986e-01    1.402172e-06\n",
              "4     7.443808e-02    9.255619e-01\n",
              "5     9.990112e-01    9.887956e-04\n",
              "6     1.000000e+00    2.630038e-08\n",
              "7     1.000000e+00    9.518489e-10\n",
              "8     2.696891e-01    7.303109e-01\n",
              "9     8.017070e-09    1.000000e+00"
            ]
          },
          "metadata": {
            "tags": []
          },
          "execution_count": 71
        }
      ]
    },
    {
      "cell_type": "code",
      "metadata": {
        "colab": {
          "base_uri": "https://localhost:8080/"
        },
        "id": "ubRPtoSRwYns",
        "outputId": "a7ec2059-cdf7-4f6f-9e3f-ce6143cc5424"
      },
      "source": [
        "# store the predicted probabilities for class 1 - Probability of >50K\n",
        "\n",
        "y_pred1 = gnb.predict_proba(X_test)[:, 1]\n",
        "y_pred1"
      ],
      "execution_count": 72,
      "outputs": [
        {
          "output_type": "execute_result",
          "data": {
            "text/plain": [
              "array([9.65184523e-01, 2.80346728e-05, 4.17792398e-02, ...,\n",
              "       5.82472551e-02, 9.99948170e-01, 6.40245003e-07])"
            ]
          },
          "metadata": {
            "tags": []
          },
          "execution_count": 72
        }
      ]
    },
    {
      "cell_type": "code",
      "metadata": {
        "colab": {
          "base_uri": "https://localhost:8080/",
          "height": 320
        },
        "id": "7YxOvSNSwYxg",
        "outputId": "add48009-b333-4e76-f8f7-6534fe7f317f"
      },
      "source": [
        "# plot histogram of predicted probabilities\n",
        "import matplotlib.pyplot as plt\n",
        "\n",
        "# adjust the font size \n",
        "plt.rcParams['font.size'] = 12\n",
        "# plot histogram with 10 bins\n",
        "plt.hist(y_pred1, bins = 10)\n",
        "# set the title of predicted probabilities\n",
        "plt.title('Histogram of predicted probabilities of salaries >50K')\n",
        "# set the x-axis limit\n",
        "plt.xlim(0,1)\n",
        "# set the title\n",
        "plt.xlabel('Predicted probabilities of salaries >50K')\n",
        "plt.ylabel('Frequency')"
      ],
      "execution_count": 73,
      "outputs": [
        {
          "output_type": "execute_result",
          "data": {
            "text/plain": [
              "Text(0, 0.5, 'Frequency')"
            ]
          },
          "metadata": {
            "tags": []
          },
          "execution_count": 73
        },
        {
          "output_type": "display_data",
          "data": {
            "image/png": "[encoded data removed]",
            "text/plain": [
              "<Figure size 432x288 with 1 Axes>"
            ]
          },
          "metadata": {
            "tags": []
          }
        }
      ]
    },
    {
      "cell_type": "code",
      "metadata": {
        "colab": {
          "base_uri": "https://localhost:8080/",
          "height": 357
        },
        "id": "unRT44jvwtP3",
        "outputId": "0fc4be1b-cab6-4cec-d356-eb7450d22a33"
      },
      "source": [
        "from sklearn.metrics import roc_curve\n",
        "\n",
        "fpr, tpr, thresholds = roc_curve(y_test, y_pred1, pos_label = '>50K')\n",
        "\n",
        "plt.figure(figsize=(6,4))\n",
        "\n",
        "plt.plot(fpr, tpr, linewidth=2)\n",
        "\n",
        "plt.plot([0,1], [0,1], 'k--' )\n",
        "\n",
        "plt.rcParams['font.size'] = 12\n",
        "\n",
        "plt.title('ROC curve for Gaussian Naive Bayes Classifier for Predicting Salaries')\n",
        "\n",
        "plt.xlabel('False Positive Rate (1 - Specificity)')\n",
        "\n",
        "plt.ylabel('True Positive Rate (Sensitivity)')\n",
        "\n",
        "plt.show()"
      ],
      "execution_count": 74,
      "outputs": [
        {
          "output_type": "stream",
          "text": [
            "/usr/local/lib/python3.7/dist-packages/sklearn/metrics/_ranking.py:808: UndefinedMetricWarning: No positive samples in y_true, true positive value should be meaningless\n",
            "  UndefinedMetricWarning)\n"
          ],
          "name": "stderr"
        },
        {
          "output_type": "display_data",
          "data": {
            "image/png": "[encoded data removed]",
            "text/plain": [
              "<Figure size 432x288 with 1 Axes>"
            ]
          },
          "metadata": {
            "tags": []
          }
        }
      ]
    },
    {
      "cell_type": "code",
      "metadata": {
        "id": "Vf1R8--2wtR6"
      },
      "source": [
        "from sklearn.linear_model import LogisticRegression\n",
        "from sklearn.feature_selection import RFE\n",
        "from sklearn.linear_model import LogisticRegression\n",
        "import statsmodels.formula.api as smf\n",
        "from sklearn.metrics import r2_score\n",
        "from sklearn.model_selection import train_test_split\n",
        "from statsmodels.graphics.regressionplots import influence_plot\n",
        "import statsmodels.api as sm\n",
        "import matplotlib.pyplot as plt\n",
        "from sklearn.preprocessing import quantile_transform\n",
        "from sklearn.preprocessing import PowerTransformer\n",
        "from sklearn import preprocessing\n",
        "from sklearn.metrics import classification_report"
      ],
      "execution_count": 75,
      "outputs": []
    },
    {
      "cell_type": "code",
      "metadata": {
        "colab": {
          "base_uri": "https://localhost:8080/"
        },
        "id": "6VMvHEvuwtVU",
        "outputId": "f5a9d89a-2586-40aa-e330-fd11db02eaae"
      },
      "source": [
        "accuracies = {}\n",
        "\n",
        "lr = LogisticRegression()\n",
        "lr.fit(X_train,y_train)\n",
        "acc = lr.score(X_test,y_test)*100\n",
        "\n",
        "accuracies['Logistic Regression'] = acc\n",
        "print(\"Test Accuracy {:.2f}%\".format(acc))"
      ],
      "execution_count": 76,
      "outputs": [
        {
          "output_type": "stream",
          "text": [
            "Test Accuracy 84.09%\n"
          ],
          "name": "stdout"
        },
        {
          "output_type": "stream",
          "text": [
            "/usr/local/lib/python3.7/dist-packages/sklearn/linear_model/_logistic.py:940: ConvergenceWarning: lbfgs failed to converge (status=1):\n",
            "STOP: TOTAL NO. of ITERATIONS REACHED LIMIT.\n",
            "\n",
            "Increase the number of iterations (max_iter) or scale the data as shown in:\n",
            "    https://scikit-learn.org/stable/modules/preprocessing.html\n",
            "Please also refer to the documentation for alternative solver options:\n",
            "    https://scikit-learn.org/stable/modules/linear_model.html#logistic-regression\n",
            "  extra_warning_msg=_LOGISTIC_SOLVER_CONVERGENCE_MSG)\n"
          ],
          "name": "stderr"
        }
      ]
    },
    {
      "cell_type": "code",
      "metadata": {
        "colab": {
          "base_uri": "https://localhost:8080/"
        },
        "id": "uKP7wUtUwY-B",
        "outputId": "3db982bd-1a90-4ef3-881e-0952ef352c9f"
      },
      "source": [
        "from sklearn.ensemble import RandomForestClassifier\n",
        "rf = RandomForestClassifier(n_estimators = 1000, random_state = 1)\n",
        "rf.fit(X_train, y_train)\n",
        "\n",
        "acc = rf.score(X_test,y_test)*100\n",
        "accuracies['Random Forest'] = acc\n",
        "print(\"Random Forest Algorithm Accuracy Score : {:.2f}%\".format(acc))"
      ],
      "execution_count": 77,
      "outputs": [
        {
          "output_type": "stream",
          "text": [
            "Random Forest Algorithm Accuracy Score : 83.78%\n"
          ],
          "name": "stdout"
        }
      ]
    },
    {
      "cell_type": "code",
      "metadata": {
        "colab": {
          "base_uri": "https://localhost:8080/"
        },
        "id": "wioX4G6LxC8-",
        "outputId": "6c55debc-95db-4343-a7a1-b858dba095d5"
      },
      "source": [
        "from sklearn.metrics import roc_auc_score\n",
        "\n",
        "ROC_AUC = roc_auc_score(y_test, y_pred1)\n",
        "\n",
        "print('ROC AUC : {:.4f}'.format(ROC_AUC))"
      ],
      "execution_count": 78,
      "outputs": [
        {
          "output_type": "stream",
          "text": [
            "ROC AUC : 0.8909\n"
          ],
          "name": "stdout"
        }
      ]
    },
    {
      "cell_type": "code",
      "metadata": {
        "colab": {
          "base_uri": "https://localhost:8080/"
        },
        "id": "1zAe6lu5xDAO",
        "outputId": "db228ee7-781b-44fc-d83b-6324f9805b11"
      },
      "source": [
        "# Applying 10-Fold Cross Validation\n",
        "\n",
        "from sklearn.model_selection import cross_val_score\n",
        "\n",
        "\n",
        "scores = cross_val_score(gnb, X_train, y_train, cv = 10, scoring='accuracy')\n",
        "\n",
        "print('Cross-validation scores:{}'.format(scores))"
      ],
      "execution_count": 79,
      "outputs": [
        {
          "output_type": "stream",
          "text": [
            "Cross-validation scores:[0.8        0.78957346 0.81593928 0.80265655 0.80645161 0.77419355\n",
            " 0.81783681 0.78557875 0.81119545 0.80265655]\n"
          ],
          "name": "stdout"
        }
      ]
    },
    {
      "cell_type": "code",
      "metadata": {
        "colab": {
          "base_uri": "https://localhost:8080/"
        },
        "id": "LL5dLu6pxDI4",
        "outputId": "9b305fa1-cfa6-4efa-90b7-170c027b23ae"
      },
      "source": [
        "# compute Average cross-validation score\n",
        "\n",
        "print('Average cross-validation score: {:.4f}'.format(scores.mean()))"
      ],
      "execution_count": 80,
      "outputs": [
        {
          "output_type": "stream",
          "text": [
            "Average cross-validation score: 0.8006\n"
          ],
          "name": "stdout"
        }
      ]
    },
    {
      "cell_type": "code",
      "metadata": {
        "id": "p6MSDcYquk08"
      },
      "source": [
        ""
      ],
      "execution_count": 80,
      "outputs": []
    },
    {
      "cell_type": "code",
      "metadata": {
        "id": "3pSU27TSx9vU"
      },
      "source": [
        ""
      ],
      "execution_count": null,
      "outputs": []
    },
    {
      "cell_type": "code",
      "metadata": {
        "id": "L6t3kqtPx2YO"
      },
      "source": [
        ""
      ],
      "execution_count": null,
      "outputs": []
    }
  ]
}