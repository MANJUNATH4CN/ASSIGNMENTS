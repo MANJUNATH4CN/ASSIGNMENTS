{
 "cells": [
  {
   "cell_type": "code",
   "execution_count": 93,
   "id": "white-manitoba",
   "metadata": {},
   "outputs": [],
   "source": [
    "import pandas as pd\n",
    "import numpy as np"
   ]
  },
  {
   "cell_type": "code",
   "execution_count": 94,
   "id": "commercial-camel",
   "metadata": {},
   "outputs": [
    {
     "name": "stdout",
     "output_type": "stream",
     "text": [
      "Requirement already satisfied: matplotlib in d:\\anaconda\\envs\\xyz\\lib\\site-packages (3.4.0)\n",
      "Requirement already satisfied: python-dateutil>=2.7 in d:\\anaconda\\envs\\xyz\\lib\\site-packages (from matplotlib) (2.8.1)\n",
      "Requirement already satisfied: cycler>=0.10 in d:\\anaconda\\envs\\xyz\\lib\\site-packages (from matplotlib) (0.10.0)\n",
      "Requirement already satisfied: numpy>=1.16 in d:\\anaconda\\envs\\xyz\\lib\\site-packages (from matplotlib) (1.20.1)\n",
      "Requirement already satisfied: pyparsing>=2.2.1 in d:\\anaconda\\envs\\xyz\\lib\\site-packages (from matplotlib) (2.4.7)\n",
      "Requirement already satisfied: kiwisolver>=1.0.1 in d:\\anaconda\\envs\\xyz\\lib\\site-packages (from matplotlib) (1.3.1)\n",
      "Requirement already satisfied: pillow>=6.2.0 in d:\\anaconda\\envs\\xyz\\lib\\site-packages (from matplotlib) (8.1.2)\n",
      "Requirement already satisfied: six in d:\\anaconda\\envs\\xyz\\lib\\site-packages (from cycler>=0.10->matplotlib) (1.15.0)\n"
     ]
    }
   ],
   "source": [
    "!pip install matplotlib"
   ]
  },
  {
   "cell_type": "code",
   "execution_count": 95,
   "id": "binding-format",
   "metadata": {},
   "outputs": [
    {
     "data": {
      "text/plain": [
       "Index(['Unnamed: 0', 'User.ID', 'Book.Title', 'Book.Rating'], dtype='object')"
      ]
     },
     "execution_count": 95,
     "metadata": {},
     "output_type": "execute_result"
    }
   ],
   "source": [
    "book = pd.read_csv('D:\\\\EXCEL R\\\\ASSIGNMENTS\\\\RECOMENDATION SYSTEM\\\\book (1).csv')\n",
    "book.columns\n"
   ]
  },
  {
   "cell_type": "code",
   "execution_count": 96,
   "id": "analyzed-boating",
   "metadata": {},
   "outputs": [
    {
     "name": "stdout",
     "output_type": "stream",
     "text": [
      "<class 'pandas.core.frame.DataFrame'>\n",
      "RangeIndex: 10000 entries, 0 to 9999\n",
      "Data columns (total 4 columns):\n",
      " #   Column       Non-Null Count  Dtype \n",
      "---  ------       --------------  ----- \n",
      " 0   Unnamed: 0   10000 non-null  int64 \n",
      " 1   User.ID      10000 non-null  int64 \n",
      " 2   Book.Title   10000 non-null  object\n",
      " 3   Book.Rating  10000 non-null  int64 \n",
      "dtypes: int64(3), object(1)\n",
      "memory usage: 312.6+ KB\n"
     ]
    }
   ],
   "source": [
    "book.info()"
   ]
  },
  {
   "cell_type": "code",
   "execution_count": 97,
   "id": "viral-dryer",
   "metadata": {},
   "outputs": [
    {
     "data": {
      "text/plain": [
       "(10000, 4)"
      ]
     },
     "execution_count": 97,
     "metadata": {},
     "output_type": "execute_result"
    }
   ],
   "source": [
    "book.shape"
   ]
  },
  {
   "cell_type": "code",
   "execution_count": 98,
   "id": "acoustic-louisiana",
   "metadata": {},
   "outputs": [
    {
     "data": {
      "text/plain": [
       "Unnamed: 0     0\n",
       "User.ID        0\n",
       "Book.Title     0\n",
       "Book.Rating    0\n",
       "dtype: int64"
      ]
     },
     "execution_count": 98,
     "metadata": {},
     "output_type": "execute_result"
    }
   ],
   "source": [
    "book.isnull().sum() "
   ]
  },
  {
   "cell_type": "code",
   "execution_count": 99,
   "id": "optimum-society",
   "metadata": {},
   "outputs": [
    {
     "data": {
      "text/html": [
       "<div>\n",
       "<style scoped>\n",
       "    .dataframe tbody tr th:only-of-type {\n",
       "        vertical-align: middle;\n",
       "    }\n",
       "\n",
       "    .dataframe tbody tr th {\n",
       "        vertical-align: top;\n",
       "    }\n",
       "\n",
       "    .dataframe thead th {\n",
       "        text-align: right;\n",
       "    }\n",
       "</style>\n",
       "<table border=\"1\" class=\"dataframe\">\n",
       "  <thead>\n",
       "    <tr style=\"text-align: right;\">\n",
       "      <th></th>\n",
       "      <th>Unnamed: 0</th>\n",
       "      <th>User.ID</th>\n",
       "      <th>Book.Title</th>\n",
       "      <th>Book.Rating</th>\n",
       "    </tr>\n",
       "  </thead>\n",
       "  <tbody>\n",
       "    <tr>\n",
       "      <th>0</th>\n",
       "      <td>1</td>\n",
       "      <td>276726</td>\n",
       "      <td>Classical Mythology</td>\n",
       "      <td>5</td>\n",
       "    </tr>\n",
       "    <tr>\n",
       "      <th>1</th>\n",
       "      <td>2</td>\n",
       "      <td>276729</td>\n",
       "      <td>Clara Callan</td>\n",
       "      <td>3</td>\n",
       "    </tr>\n",
       "    <tr>\n",
       "      <th>2</th>\n",
       "      <td>3</td>\n",
       "      <td>276729</td>\n",
       "      <td>Decision in Normandy</td>\n",
       "      <td>6</td>\n",
       "    </tr>\n",
       "    <tr>\n",
       "      <th>3</th>\n",
       "      <td>4</td>\n",
       "      <td>276736</td>\n",
       "      <td>Flu: The Story of the Great Influenza Pandemic...</td>\n",
       "      <td>8</td>\n",
       "    </tr>\n",
       "    <tr>\n",
       "      <th>4</th>\n",
       "      <td>5</td>\n",
       "      <td>276737</td>\n",
       "      <td>The Mummies of Urumchi</td>\n",
       "      <td>6</td>\n",
       "    </tr>\n",
       "  </tbody>\n",
       "</table>\n",
       "</div>"
      ],
      "text/plain": [
       "   Unnamed: 0  User.ID                                         Book.Title  \\\n",
       "0           1   276726                                Classical Mythology   \n",
       "1           2   276729                                       Clara Callan   \n",
       "2           3   276729                               Decision in Normandy   \n",
       "3           4   276736  Flu: The Story of the Great Influenza Pandemic...   \n",
       "4           5   276737                             The Mummies of Urumchi   \n",
       "\n",
       "   Book.Rating  \n",
       "0            5  \n",
       "1            3  \n",
       "2            6  \n",
       "3            8  \n",
       "4            6  "
      ]
     },
     "execution_count": 99,
     "metadata": {},
     "output_type": "execute_result"
    }
   ],
   "source": [
    "book.head()"
   ]
  },
  {
   "cell_type": "code",
   "execution_count": 100,
   "id": "incomplete-message",
   "metadata": {},
   "outputs": [
    {
     "data": {
      "text/html": [
       "<div>\n",
       "<style scoped>\n",
       "    .dataframe tbody tr th:only-of-type {\n",
       "        vertical-align: middle;\n",
       "    }\n",
       "\n",
       "    .dataframe tbody tr th {\n",
       "        vertical-align: top;\n",
       "    }\n",
       "\n",
       "    .dataframe thead th {\n",
       "        text-align: right;\n",
       "    }\n",
       "</style>\n",
       "<table border=\"1\" class=\"dataframe\">\n",
       "  <thead>\n",
       "    <tr style=\"text-align: right;\">\n",
       "      <th></th>\n",
       "      <th>ab</th>\n",
       "      <th>userId</th>\n",
       "      <th>book_title</th>\n",
       "      <th>rating</th>\n",
       "    </tr>\n",
       "  </thead>\n",
       "  <tbody>\n",
       "    <tr>\n",
       "      <th>0</th>\n",
       "      <td>1</td>\n",
       "      <td>276726</td>\n",
       "      <td>Classical Mythology</td>\n",
       "      <td>5</td>\n",
       "    </tr>\n",
       "    <tr>\n",
       "      <th>1</th>\n",
       "      <td>2</td>\n",
       "      <td>276729</td>\n",
       "      <td>Clara Callan</td>\n",
       "      <td>3</td>\n",
       "    </tr>\n",
       "    <tr>\n",
       "      <th>2</th>\n",
       "      <td>3</td>\n",
       "      <td>276729</td>\n",
       "      <td>Decision in Normandy</td>\n",
       "      <td>6</td>\n",
       "    </tr>\n",
       "    <tr>\n",
       "      <th>3</th>\n",
       "      <td>4</td>\n",
       "      <td>276736</td>\n",
       "      <td>Flu: The Story of the Great Influenza Pandemic...</td>\n",
       "      <td>8</td>\n",
       "    </tr>\n",
       "    <tr>\n",
       "      <th>4</th>\n",
       "      <td>5</td>\n",
       "      <td>276737</td>\n",
       "      <td>The Mummies of Urumchi</td>\n",
       "      <td>6</td>\n",
       "    </tr>\n",
       "  </tbody>\n",
       "</table>\n",
       "</div>"
      ],
      "text/plain": [
       "   ab  userId                                         book_title  rating\n",
       "0   1  276726                                Classical Mythology       5\n",
       "1   2  276729                                       Clara Callan       3\n",
       "2   3  276729                               Decision in Normandy       6\n",
       "3   4  276736  Flu: The Story of the Great Influenza Pandemic...       8\n",
       "4   5  276737                             The Mummies of Urumchi       6"
      ]
     },
     "execution_count": 100,
     "metadata": {},
     "output_type": "execute_result"
    }
   ],
   "source": [
    "book.rename(columns={'Unnamed: 0': 'ab', 'User.ID':'userId', 'Book.Title':'book_title', 'Book.Rating':'rating'}, inplace = True)\n",
    "book.head()"
   ]
  },
  {
   "cell_type": "code",
   "execution_count": 101,
   "id": "pretty-depth",
   "metadata": {},
   "outputs": [
    {
     "data": {
      "text/html": [
       "<div>\n",
       "<style scoped>\n",
       "    .dataframe tbody tr th:only-of-type {\n",
       "        vertical-align: middle;\n",
       "    }\n",
       "\n",
       "    .dataframe tbody tr th {\n",
       "        vertical-align: top;\n",
       "    }\n",
       "\n",
       "    .dataframe thead th {\n",
       "        text-align: right;\n",
       "    }\n",
       "</style>\n",
       "<table border=\"1\" class=\"dataframe\">\n",
       "  <thead>\n",
       "    <tr style=\"text-align: right;\">\n",
       "      <th></th>\n",
       "      <th>userId</th>\n",
       "      <th>book_title</th>\n",
       "      <th>rating</th>\n",
       "    </tr>\n",
       "  </thead>\n",
       "  <tbody>\n",
       "    <tr>\n",
       "      <th>0</th>\n",
       "      <td>276726</td>\n",
       "      <td>Classical Mythology</td>\n",
       "      <td>5</td>\n",
       "    </tr>\n",
       "    <tr>\n",
       "      <th>1</th>\n",
       "      <td>276729</td>\n",
       "      <td>Clara Callan</td>\n",
       "      <td>3</td>\n",
       "    </tr>\n",
       "    <tr>\n",
       "      <th>2</th>\n",
       "      <td>276729</td>\n",
       "      <td>Decision in Normandy</td>\n",
       "      <td>6</td>\n",
       "    </tr>\n",
       "    <tr>\n",
       "      <th>3</th>\n",
       "      <td>276736</td>\n",
       "      <td>Flu: The Story of the Great Influenza Pandemic...</td>\n",
       "      <td>8</td>\n",
       "    </tr>\n",
       "    <tr>\n",
       "      <th>4</th>\n",
       "      <td>276737</td>\n",
       "      <td>The Mummies of Urumchi</td>\n",
       "      <td>6</td>\n",
       "    </tr>\n",
       "  </tbody>\n",
       "</table>\n",
       "</div>"
      ],
      "text/plain": [
       "   userId                                         book_title  rating\n",
       "0  276726                                Classical Mythology       5\n",
       "1  276729                                       Clara Callan       3\n",
       "2  276729                               Decision in Normandy       6\n",
       "3  276736  Flu: The Story of the Great Influenza Pandemic...       8\n",
       "4  276737                             The Mummies of Urumchi       6"
      ]
     },
     "execution_count": 101,
     "metadata": {},
     "output_type": "execute_result"
    }
   ],
   "source": [
    "b = book.drop('ab', axis=1)\n",
    "b.head()"
   ]
  },
  {
   "cell_type": "code",
   "execution_count": 102,
   "id": "central-denver",
   "metadata": {},
   "outputs": [
    {
     "data": {
      "text/plain": [
       "8     2283\n",
       "7     2076\n",
       "10    1732\n",
       "9     1493\n",
       "5     1007\n",
       "6      920\n",
       "4      237\n",
       "3      146\n",
       "2       63\n",
       "1       43\n",
       "Name: rating, dtype: int64"
      ]
     },
     "execution_count": 102,
     "metadata": {},
     "output_type": "execute_result"
    }
   ],
   "source": [
    "#rating info\n",
    "rating_count = book.rating.value_counts()\n",
    "rating_count"
   ]
  },
  {
   "cell_type": "code",
   "execution_count": 103,
   "id": "assisted-fleet",
   "metadata": {},
   "outputs": [
    {
     "name": "stdout",
     "output_type": "stream",
     "text": [
      "7.5663\n",
      "8.0\n"
     ]
    }
   ],
   "source": [
    "mean_rating = b['rating'].mean()\n",
    "median_rating = b['rating'].median()\n",
    "print(mean_rating)\n",
    "print(median_rating)"
   ]
  },
  {
   "cell_type": "code",
   "execution_count": 104,
   "id": "collected-minority",
   "metadata": {},
   "outputs": [
    {
     "name": "stdout",
     "output_type": "stream",
     "text": [
      "2182\n"
     ]
    }
   ],
   "source": [
    "user_count = b['userId'].nunique()\n",
    "print(user_count)"
   ]
  },
  {
   "cell_type": "code",
   "execution_count": 105,
   "id": "declared-richmond",
   "metadata": {},
   "outputs": [
    {
     "name": "stdout",
     "output_type": "stream",
     "text": [
      "8     1.046288\n",
      "7     0.951421\n",
      "10    0.793767\n",
      "9     0.684235\n",
      "5     0.461503\n",
      "6     0.421632\n",
      "4     0.108616\n",
      "3     0.066911\n",
      "2     0.028873\n",
      "1     0.019707\n",
      "Name: rating, dtype: float64\n"
     ]
    }
   ],
   "source": [
    "ratings_per_user = rating_count / user_count\n",
    "print(ratings_per_user)"
   ]
  },
  {
   "cell_type": "code",
   "execution_count": 106,
   "id": "controlled-washer",
   "metadata": {},
   "outputs": [
    {
     "data": {
      "text/plain": [
       "Text(0, 0.5, 'User Count')"
      ]
     },
     "execution_count": 106,
     "metadata": {},
     "output_type": "execute_result"
    },
    {
     "data": {
      "image/png": "[encoded data removed]",
      "text/plain": [
       "<Figure size 432x288 with 1 Axes>"
      ]
     },
     "metadata": {
      "needs_background": "light"
     },
     "output_type": "display_data"
    }
   ],
   "source": [
    "# Create a histogram of the ratings\n",
    "from  matplotlib import pyplot as plt\n",
    "\n",
    "b['rating'].plot(kind='hist', title='Frequency of Book Ratings')\n",
    "plt.xlabel('Ratings')\n",
    "plt.ylabel('User Count')"
   ]
  },
  {
   "cell_type": "code",
   "execution_count": 107,
   "id": "yellow-latter",
   "metadata": {},
   "outputs": [
    {
     "data": {
      "text/plain": [
       "<AxesSubplot:title={'center':'Frequency of Review Count per User'}, ylabel='Frequency'>"
      ]
     },
     "execution_count": 107,
     "metadata": {},
     "output_type": "execute_result"
    },
    {
     "data": {
      "image/png": "[encoded data removed]",
      "text/plain": [
       "<Figure size 432x288 with 1 Axes>"
      ]
     },
     "metadata": {
      "needs_background": "light"
     },
     "output_type": "display_data"
    }
   ],
   "source": [
    "# Create a histogram of rating count per user\n",
    "b['userId'].value_counts().plot(kind='hist', title='Frequency of Review Count per User')"
   ]
  },
  {
   "cell_type": "code",
   "execution_count": 108,
   "id": "swiss-ukraine",
   "metadata": {},
   "outputs": [
    {
     "data": {
      "text/html": [
       "<div>\n",
       "<style scoped>\n",
       "    .dataframe tbody tr th:only-of-type {\n",
       "        vertical-align: middle;\n",
       "    }\n",
       "\n",
       "    .dataframe tbody tr th {\n",
       "        vertical-align: top;\n",
       "    }\n",
       "\n",
       "    .dataframe thead th {\n",
       "        text-align: right;\n",
       "    }\n",
       "</style>\n",
       "<table border=\"1\" class=\"dataframe\">\n",
       "  <thead>\n",
       "    <tr style=\"text-align: right;\">\n",
       "      <th>book_title</th>\n",
       "      <th>Jason, Madison &amp;amp</th>\n",
       "      <th>Other Stories;Merril;1985;McClelland &amp;amp</th>\n",
       "      <th>Repairing PC Drives &amp;amp</th>\n",
       "      <th>'48</th>\n",
       "      <th>'O Au No Keia: Voices from Hawai'I's Mahu and Transgender Communities</th>\n",
       "      <th>...AND THE HORSE HE RODE IN ON : THE PEOPLE V. KENNETH STARR</th>\n",
       "      <th>01-01-00: A Novel of the Millennium</th>\n",
       "      <th>1,401 More Things That P*Ss Me Off</th>\n",
       "      <th>10 Commandments Of Dating</th>\n",
       "      <th>100 Great Fantasy Short, Short Stories</th>\n",
       "      <th>...</th>\n",
       "      <th>Zora Hurston and the Chinaberry Tree (Reading Rainbow Book)</th>\n",
       "      <th>\\Even Monkeys Fall from Trees\\ and Other Japanese Proverbs</th>\n",
       "      <th>\\I Won't Learn from You\\: And Other Thoughts on Creative Maladjustment</th>\n",
       "      <th>\\More More More,\\ Said the Baby</th>\n",
       "      <th>\\O\\ Is for Outlaw</th>\n",
       "      <th>\\Surely You're Joking, Mr. Feynman!\\: Adventures of a Curious Character</th>\n",
       "      <th>\\Well, there's your problem\\: Cartoons</th>\n",
       "      <th>iI Paradiso Degli Orchi</th>\n",
       "      <th>stardust</th>\n",
       "      <th>�?�?bermorgen.</th>\n",
       "    </tr>\n",
       "  </thead>\n",
       "  <tbody>\n",
       "    <tr>\n",
       "      <th>0</th>\n",
       "      <td>NaN</td>\n",
       "      <td>NaN</td>\n",
       "      <td>NaN</td>\n",
       "      <td>NaN</td>\n",
       "      <td>NaN</td>\n",
       "      <td>NaN</td>\n",
       "      <td>NaN</td>\n",
       "      <td>NaN</td>\n",
       "      <td>NaN</td>\n",
       "      <td>NaN</td>\n",
       "      <td>...</td>\n",
       "      <td>NaN</td>\n",
       "      <td>NaN</td>\n",
       "      <td>NaN</td>\n",
       "      <td>NaN</td>\n",
       "      <td>NaN</td>\n",
       "      <td>NaN</td>\n",
       "      <td>NaN</td>\n",
       "      <td>NaN</td>\n",
       "      <td>NaN</td>\n",
       "      <td>NaN</td>\n",
       "    </tr>\n",
       "    <tr>\n",
       "      <th>1</th>\n",
       "      <td>NaN</td>\n",
       "      <td>NaN</td>\n",
       "      <td>NaN</td>\n",
       "      <td>NaN</td>\n",
       "      <td>NaN</td>\n",
       "      <td>NaN</td>\n",
       "      <td>NaN</td>\n",
       "      <td>NaN</td>\n",
       "      <td>NaN</td>\n",
       "      <td>NaN</td>\n",
       "      <td>...</td>\n",
       "      <td>NaN</td>\n",
       "      <td>NaN</td>\n",
       "      <td>NaN</td>\n",
       "      <td>NaN</td>\n",
       "      <td>NaN</td>\n",
       "      <td>NaN</td>\n",
       "      <td>NaN</td>\n",
       "      <td>NaN</td>\n",
       "      <td>NaN</td>\n",
       "      <td>NaN</td>\n",
       "    </tr>\n",
       "    <tr>\n",
       "      <th>2</th>\n",
       "      <td>NaN</td>\n",
       "      <td>NaN</td>\n",
       "      <td>NaN</td>\n",
       "      <td>NaN</td>\n",
       "      <td>NaN</td>\n",
       "      <td>NaN</td>\n",
       "      <td>NaN</td>\n",
       "      <td>NaN</td>\n",
       "      <td>NaN</td>\n",
       "      <td>NaN</td>\n",
       "      <td>...</td>\n",
       "      <td>NaN</td>\n",
       "      <td>NaN</td>\n",
       "      <td>NaN</td>\n",
       "      <td>NaN</td>\n",
       "      <td>NaN</td>\n",
       "      <td>NaN</td>\n",
       "      <td>NaN</td>\n",
       "      <td>NaN</td>\n",
       "      <td>NaN</td>\n",
       "      <td>NaN</td>\n",
       "    </tr>\n",
       "    <tr>\n",
       "      <th>3</th>\n",
       "      <td>NaN</td>\n",
       "      <td>NaN</td>\n",
       "      <td>NaN</td>\n",
       "      <td>NaN</td>\n",
       "      <td>NaN</td>\n",
       "      <td>NaN</td>\n",
       "      <td>NaN</td>\n",
       "      <td>NaN</td>\n",
       "      <td>NaN</td>\n",
       "      <td>NaN</td>\n",
       "      <td>...</td>\n",
       "      <td>NaN</td>\n",
       "      <td>NaN</td>\n",
       "      <td>NaN</td>\n",
       "      <td>NaN</td>\n",
       "      <td>NaN</td>\n",
       "      <td>NaN</td>\n",
       "      <td>NaN</td>\n",
       "      <td>NaN</td>\n",
       "      <td>NaN</td>\n",
       "      <td>NaN</td>\n",
       "    </tr>\n",
       "    <tr>\n",
       "      <th>4</th>\n",
       "      <td>NaN</td>\n",
       "      <td>NaN</td>\n",
       "      <td>NaN</td>\n",
       "      <td>NaN</td>\n",
       "      <td>NaN</td>\n",
       "      <td>NaN</td>\n",
       "      <td>NaN</td>\n",
       "      <td>NaN</td>\n",
       "      <td>NaN</td>\n",
       "      <td>NaN</td>\n",
       "      <td>...</td>\n",
       "      <td>NaN</td>\n",
       "      <td>NaN</td>\n",
       "      <td>NaN</td>\n",
       "      <td>NaN</td>\n",
       "      <td>NaN</td>\n",
       "      <td>NaN</td>\n",
       "      <td>NaN</td>\n",
       "      <td>NaN</td>\n",
       "      <td>NaN</td>\n",
       "      <td>NaN</td>\n",
       "    </tr>\n",
       "  </tbody>\n",
       "</table>\n",
       "<p>5 rows × 9659 columns</p>\n",
       "</div>"
      ],
      "text/plain": [
       "book_title   Jason, Madison &amp   Other Stories;Merril;1985;McClelland &amp  \\\n",
       "0                            NaN                                         NaN   \n",
       "1                            NaN                                         NaN   \n",
       "2                            NaN                                         NaN   \n",
       "3                            NaN                                         NaN   \n",
       "4                            NaN                                         NaN   \n",
       "\n",
       "book_title   Repairing PC Drives &amp  '48  \\\n",
       "0                                 NaN  NaN   \n",
       "1                                 NaN  NaN   \n",
       "2                                 NaN  NaN   \n",
       "3                                 NaN  NaN   \n",
       "4                                 NaN  NaN   \n",
       "\n",
       "book_title  'O Au No Keia: Voices from Hawai'I's Mahu and Transgender Communities  \\\n",
       "0                                                         NaN                       \n",
       "1                                                         NaN                       \n",
       "2                                                         NaN                       \n",
       "3                                                         NaN                       \n",
       "4                                                         NaN                       \n",
       "\n",
       "book_title  ...AND THE HORSE HE RODE IN ON : THE PEOPLE V. KENNETH STARR  \\\n",
       "0                                                         NaN              \n",
       "1                                                         NaN              \n",
       "2                                                         NaN              \n",
       "3                                                         NaN              \n",
       "4                                                         NaN              \n",
       "\n",
       "book_title  01-01-00: A Novel of the Millennium  \\\n",
       "0                                           NaN   \n",
       "1                                           NaN   \n",
       "2                                           NaN   \n",
       "3                                           NaN   \n",
       "4                                           NaN   \n",
       "\n",
       "book_title  1,401 More Things That P*Ss Me Off  10 Commandments Of Dating  \\\n",
       "0                                          NaN                        NaN   \n",
       "1                                          NaN                        NaN   \n",
       "2                                          NaN                        NaN   \n",
       "3                                          NaN                        NaN   \n",
       "4                                          NaN                        NaN   \n",
       "\n",
       "book_title  100 Great Fantasy Short, Short Stories  ...  \\\n",
       "0                                              NaN  ...   \n",
       "1                                              NaN  ...   \n",
       "2                                              NaN  ...   \n",
       "3                                              NaN  ...   \n",
       "4                                              NaN  ...   \n",
       "\n",
       "book_title  Zora Hurston and the Chinaberry Tree (Reading Rainbow Book)  \\\n",
       "0                                                         NaN             \n",
       "1                                                         NaN             \n",
       "2                                                         NaN             \n",
       "3                                                         NaN             \n",
       "4                                                         NaN             \n",
       "\n",
       "book_title  \\Even Monkeys Fall from Trees\\ and Other Japanese Proverbs  \\\n",
       "0                                                         NaN            \n",
       "1                                                         NaN            \n",
       "2                                                         NaN            \n",
       "3                                                         NaN            \n",
       "4                                                         NaN            \n",
       "\n",
       "book_title  \\I Won't Learn from You\\: And Other Thoughts on Creative Maladjustment  \\\n",
       "0                                                         NaN                        \n",
       "1                                                         NaN                        \n",
       "2                                                         NaN                        \n",
       "3                                                         NaN                        \n",
       "4                                                         NaN                        \n",
       "\n",
       "book_title  \\More More More,\\ Said the Baby  \\O\\ Is for Outlaw  \\\n",
       "0                                       NaN                NaN   \n",
       "1                                       NaN                NaN   \n",
       "2                                       NaN                NaN   \n",
       "3                                       NaN                NaN   \n",
       "4                                       NaN                NaN   \n",
       "\n",
       "book_title  \\Surely You're Joking, Mr. Feynman!\\: Adventures of a Curious Character  \\\n",
       "0                                                         NaN                         \n",
       "1                                                         NaN                         \n",
       "2                                                         NaN                         \n",
       "3                                                         NaN                         \n",
       "4                                                         NaN                         \n",
       "\n",
       "book_title  \\Well, there's your problem\\: Cartoons  iI Paradiso Degli Orchi  \\\n",
       "0                                              NaN                      NaN   \n",
       "1                                              NaN                      NaN   \n",
       "2                                              NaN                      NaN   \n",
       "3                                              NaN                      NaN   \n",
       "4                                              NaN                      NaN   \n",
       "\n",
       "book_title  stardust  �?�?bermorgen.  \n",
       "0                NaN             NaN  \n",
       "1                NaN             NaN  \n",
       "2                NaN             NaN  \n",
       "3                NaN             NaN  \n",
       "4                NaN             NaN  \n",
       "\n",
       "[5 rows x 9659 columns]"
      ]
     },
     "execution_count": 108,
     "metadata": {},
     "output_type": "execute_result"
    }
   ],
   "source": [
    "book_df =b.pivot_table(index='userId',\n",
    "                                 columns='book_title',\n",
    "                                 values='rating').reset_index(drop=True)\n",
    "book_df.head()"
   ]
  },
  {
   "cell_type": "code",
   "execution_count": 109,
   "id": "intimate-gambling",
   "metadata": {},
   "outputs": [
    {
     "name": "stderr",
     "output_type": "stream",
     "text": [
      "<ipython-input-109-b515c53f4f2f>:1: UserWarning: Pandas doesn't allow columns to be created via a new attribute name - see https://pandas.pydata.org/pandas-docs/stable/indexing.html#attribute-access\n",
      "  book_df.user_id = b.userId.unique()\n"
     ]
    },
    {
     "data": {
      "text/plain": [
       "array([276726, 276729, 276736, ..., 162113, 162121, 162129], dtype=int64)"
      ]
     },
     "execution_count": 109,
     "metadata": {},
     "output_type": "execute_result"
    }
   ],
   "source": [
    "book_df.user_id = b.userId.unique()\n",
    "book_df.user_id"
   ]
  },
  {
   "cell_type": "code",
   "execution_count": 110,
   "id": "north-tobago",
   "metadata": {},
   "outputs": [
    {
     "data": {
      "text/html": [
       "<div>\n",
       "<style scoped>\n",
       "    .dataframe tbody tr th:only-of-type {\n",
       "        vertical-align: middle;\n",
       "    }\n",
       "\n",
       "    .dataframe tbody tr th {\n",
       "        vertical-align: top;\n",
       "    }\n",
       "\n",
       "    .dataframe thead th {\n",
       "        text-align: right;\n",
       "    }\n",
       "</style>\n",
       "<table border=\"1\" class=\"dataframe\">\n",
       "  <thead>\n",
       "    <tr style=\"text-align: right;\">\n",
       "      <th>book_title</th>\n",
       "      <th>Jason, Madison &amp;amp</th>\n",
       "      <th>Other Stories;Merril;1985;McClelland &amp;amp</th>\n",
       "      <th>Repairing PC Drives &amp;amp</th>\n",
       "      <th>'48</th>\n",
       "      <th>'O Au No Keia: Voices from Hawai'I's Mahu and Transgender Communities</th>\n",
       "      <th>...AND THE HORSE HE RODE IN ON : THE PEOPLE V. KENNETH STARR</th>\n",
       "      <th>01-01-00: A Novel of the Millennium</th>\n",
       "      <th>1,401 More Things That P*Ss Me Off</th>\n",
       "      <th>10 Commandments Of Dating</th>\n",
       "      <th>100 Great Fantasy Short, Short Stories</th>\n",
       "      <th>...</th>\n",
       "      <th>Zora Hurston and the Chinaberry Tree (Reading Rainbow Book)</th>\n",
       "      <th>\\Even Monkeys Fall from Trees\\ and Other Japanese Proverbs</th>\n",
       "      <th>\\I Won't Learn from You\\: And Other Thoughts on Creative Maladjustment</th>\n",
       "      <th>\\More More More,\\ Said the Baby</th>\n",
       "      <th>\\O\\ Is for Outlaw</th>\n",
       "      <th>\\Surely You're Joking, Mr. Feynman!\\: Adventures of a Curious Character</th>\n",
       "      <th>\\Well, there's your problem\\: Cartoons</th>\n",
       "      <th>iI Paradiso Degli Orchi</th>\n",
       "      <th>stardust</th>\n",
       "      <th>�?�?bermorgen.</th>\n",
       "    </tr>\n",
       "  </thead>\n",
       "  <tbody>\n",
       "    <tr>\n",
       "      <th>0</th>\n",
       "      <td>0.0</td>\n",
       "      <td>0.0</td>\n",
       "      <td>0.0</td>\n",
       "      <td>0.0</td>\n",
       "      <td>0.0</td>\n",
       "      <td>0.0</td>\n",
       "      <td>0.0</td>\n",
       "      <td>0.0</td>\n",
       "      <td>0.0</td>\n",
       "      <td>0.0</td>\n",
       "      <td>...</td>\n",
       "      <td>0.0</td>\n",
       "      <td>0.0</td>\n",
       "      <td>0.0</td>\n",
       "      <td>0.0</td>\n",
       "      <td>0.0</td>\n",
       "      <td>0.0</td>\n",
       "      <td>0.0</td>\n",
       "      <td>0.0</td>\n",
       "      <td>0.0</td>\n",
       "      <td>0.0</td>\n",
       "    </tr>\n",
       "    <tr>\n",
       "      <th>1</th>\n",
       "      <td>0.0</td>\n",
       "      <td>0.0</td>\n",
       "      <td>0.0</td>\n",
       "      <td>0.0</td>\n",
       "      <td>0.0</td>\n",
       "      <td>0.0</td>\n",
       "      <td>0.0</td>\n",
       "      <td>0.0</td>\n",
       "      <td>0.0</td>\n",
       "      <td>0.0</td>\n",
       "      <td>...</td>\n",
       "      <td>0.0</td>\n",
       "      <td>0.0</td>\n",
       "      <td>0.0</td>\n",
       "      <td>0.0</td>\n",
       "      <td>0.0</td>\n",
       "      <td>0.0</td>\n",
       "      <td>0.0</td>\n",
       "      <td>0.0</td>\n",
       "      <td>0.0</td>\n",
       "      <td>0.0</td>\n",
       "    </tr>\n",
       "    <tr>\n",
       "      <th>2</th>\n",
       "      <td>0.0</td>\n",
       "      <td>0.0</td>\n",
       "      <td>0.0</td>\n",
       "      <td>0.0</td>\n",
       "      <td>0.0</td>\n",
       "      <td>0.0</td>\n",
       "      <td>0.0</td>\n",
       "      <td>0.0</td>\n",
       "      <td>0.0</td>\n",
       "      <td>0.0</td>\n",
       "      <td>...</td>\n",
       "      <td>0.0</td>\n",
       "      <td>0.0</td>\n",
       "      <td>0.0</td>\n",
       "      <td>0.0</td>\n",
       "      <td>0.0</td>\n",
       "      <td>0.0</td>\n",
       "      <td>0.0</td>\n",
       "      <td>0.0</td>\n",
       "      <td>0.0</td>\n",
       "      <td>0.0</td>\n",
       "    </tr>\n",
       "    <tr>\n",
       "      <th>3</th>\n",
       "      <td>0.0</td>\n",
       "      <td>0.0</td>\n",
       "      <td>0.0</td>\n",
       "      <td>0.0</td>\n",
       "      <td>0.0</td>\n",
       "      <td>0.0</td>\n",
       "      <td>0.0</td>\n",
       "      <td>0.0</td>\n",
       "      <td>0.0</td>\n",
       "      <td>0.0</td>\n",
       "      <td>...</td>\n",
       "      <td>0.0</td>\n",
       "      <td>0.0</td>\n",
       "      <td>0.0</td>\n",
       "      <td>0.0</td>\n",
       "      <td>0.0</td>\n",
       "      <td>0.0</td>\n",
       "      <td>0.0</td>\n",
       "      <td>0.0</td>\n",
       "      <td>0.0</td>\n",
       "      <td>0.0</td>\n",
       "    </tr>\n",
       "    <tr>\n",
       "      <th>4</th>\n",
       "      <td>0.0</td>\n",
       "      <td>0.0</td>\n",
       "      <td>0.0</td>\n",
       "      <td>0.0</td>\n",
       "      <td>0.0</td>\n",
       "      <td>0.0</td>\n",
       "      <td>0.0</td>\n",
       "      <td>0.0</td>\n",
       "      <td>0.0</td>\n",
       "      <td>0.0</td>\n",
       "      <td>...</td>\n",
       "      <td>0.0</td>\n",
       "      <td>0.0</td>\n",
       "      <td>0.0</td>\n",
       "      <td>0.0</td>\n",
       "      <td>0.0</td>\n",
       "      <td>0.0</td>\n",
       "      <td>0.0</td>\n",
       "      <td>0.0</td>\n",
       "      <td>0.0</td>\n",
       "      <td>0.0</td>\n",
       "    </tr>\n",
       "    <tr>\n",
       "      <th>...</th>\n",
       "      <td>...</td>\n",
       "      <td>...</td>\n",
       "      <td>...</td>\n",
       "      <td>...</td>\n",
       "      <td>...</td>\n",
       "      <td>...</td>\n",
       "      <td>...</td>\n",
       "      <td>...</td>\n",
       "      <td>...</td>\n",
       "      <td>...</td>\n",
       "      <td>...</td>\n",
       "      <td>...</td>\n",
       "      <td>...</td>\n",
       "      <td>...</td>\n",
       "      <td>...</td>\n",
       "      <td>...</td>\n",
       "      <td>...</td>\n",
       "      <td>...</td>\n",
       "      <td>...</td>\n",
       "      <td>...</td>\n",
       "      <td>...</td>\n",
       "    </tr>\n",
       "    <tr>\n",
       "      <th>2177</th>\n",
       "      <td>0.0</td>\n",
       "      <td>0.0</td>\n",
       "      <td>0.0</td>\n",
       "      <td>0.0</td>\n",
       "      <td>0.0</td>\n",
       "      <td>0.0</td>\n",
       "      <td>0.0</td>\n",
       "      <td>0.0</td>\n",
       "      <td>0.0</td>\n",
       "      <td>0.0</td>\n",
       "      <td>...</td>\n",
       "      <td>0.0</td>\n",
       "      <td>0.0</td>\n",
       "      <td>0.0</td>\n",
       "      <td>0.0</td>\n",
       "      <td>0.0</td>\n",
       "      <td>0.0</td>\n",
       "      <td>0.0</td>\n",
       "      <td>0.0</td>\n",
       "      <td>0.0</td>\n",
       "      <td>0.0</td>\n",
       "    </tr>\n",
       "    <tr>\n",
       "      <th>2178</th>\n",
       "      <td>0.0</td>\n",
       "      <td>0.0</td>\n",
       "      <td>0.0</td>\n",
       "      <td>0.0</td>\n",
       "      <td>0.0</td>\n",
       "      <td>0.0</td>\n",
       "      <td>0.0</td>\n",
       "      <td>0.0</td>\n",
       "      <td>0.0</td>\n",
       "      <td>0.0</td>\n",
       "      <td>...</td>\n",
       "      <td>0.0</td>\n",
       "      <td>0.0</td>\n",
       "      <td>0.0</td>\n",
       "      <td>0.0</td>\n",
       "      <td>0.0</td>\n",
       "      <td>0.0</td>\n",
       "      <td>0.0</td>\n",
       "      <td>0.0</td>\n",
       "      <td>0.0</td>\n",
       "      <td>0.0</td>\n",
       "    </tr>\n",
       "    <tr>\n",
       "      <th>2179</th>\n",
       "      <td>0.0</td>\n",
       "      <td>0.0</td>\n",
       "      <td>0.0</td>\n",
       "      <td>0.0</td>\n",
       "      <td>0.0</td>\n",
       "      <td>0.0</td>\n",
       "      <td>0.0</td>\n",
       "      <td>0.0</td>\n",
       "      <td>0.0</td>\n",
       "      <td>0.0</td>\n",
       "      <td>...</td>\n",
       "      <td>0.0</td>\n",
       "      <td>0.0</td>\n",
       "      <td>0.0</td>\n",
       "      <td>0.0</td>\n",
       "      <td>0.0</td>\n",
       "      <td>0.0</td>\n",
       "      <td>0.0</td>\n",
       "      <td>7.0</td>\n",
       "      <td>0.0</td>\n",
       "      <td>0.0</td>\n",
       "    </tr>\n",
       "    <tr>\n",
       "      <th>2180</th>\n",
       "      <td>0.0</td>\n",
       "      <td>0.0</td>\n",
       "      <td>0.0</td>\n",
       "      <td>0.0</td>\n",
       "      <td>0.0</td>\n",
       "      <td>0.0</td>\n",
       "      <td>0.0</td>\n",
       "      <td>0.0</td>\n",
       "      <td>0.0</td>\n",
       "      <td>0.0</td>\n",
       "      <td>...</td>\n",
       "      <td>0.0</td>\n",
       "      <td>0.0</td>\n",
       "      <td>0.0</td>\n",
       "      <td>0.0</td>\n",
       "      <td>0.0</td>\n",
       "      <td>0.0</td>\n",
       "      <td>0.0</td>\n",
       "      <td>0.0</td>\n",
       "      <td>0.0</td>\n",
       "      <td>0.0</td>\n",
       "    </tr>\n",
       "    <tr>\n",
       "      <th>2181</th>\n",
       "      <td>0.0</td>\n",
       "      <td>0.0</td>\n",
       "      <td>0.0</td>\n",
       "      <td>0.0</td>\n",
       "      <td>0.0</td>\n",
       "      <td>0.0</td>\n",
       "      <td>0.0</td>\n",
       "      <td>0.0</td>\n",
       "      <td>0.0</td>\n",
       "      <td>0.0</td>\n",
       "      <td>...</td>\n",
       "      <td>0.0</td>\n",
       "      <td>0.0</td>\n",
       "      <td>0.0</td>\n",
       "      <td>0.0</td>\n",
       "      <td>0.0</td>\n",
       "      <td>0.0</td>\n",
       "      <td>0.0</td>\n",
       "      <td>0.0</td>\n",
       "      <td>0.0</td>\n",
       "      <td>0.0</td>\n",
       "    </tr>\n",
       "  </tbody>\n",
       "</table>\n",
       "<p>2182 rows × 9659 columns</p>\n",
       "</div>"
      ],
      "text/plain": [
       "book_title   Jason, Madison &amp   Other Stories;Merril;1985;McClelland &amp  \\\n",
       "0                            0.0                                         0.0   \n",
       "1                            0.0                                         0.0   \n",
       "2                            0.0                                         0.0   \n",
       "3                            0.0                                         0.0   \n",
       "4                            0.0                                         0.0   \n",
       "...                          ...                                         ...   \n",
       "2177                         0.0                                         0.0   \n",
       "2178                         0.0                                         0.0   \n",
       "2179                         0.0                                         0.0   \n",
       "2180                         0.0                                         0.0   \n",
       "2181                         0.0                                         0.0   \n",
       "\n",
       "book_title   Repairing PC Drives &amp  '48  \\\n",
       "0                                 0.0  0.0   \n",
       "1                                 0.0  0.0   \n",
       "2                                 0.0  0.0   \n",
       "3                                 0.0  0.0   \n",
       "4                                 0.0  0.0   \n",
       "...                               ...  ...   \n",
       "2177                              0.0  0.0   \n",
       "2178                              0.0  0.0   \n",
       "2179                              0.0  0.0   \n",
       "2180                              0.0  0.0   \n",
       "2181                              0.0  0.0   \n",
       "\n",
       "book_title  'O Au No Keia: Voices from Hawai'I's Mahu and Transgender Communities  \\\n",
       "0                                                         0.0                       \n",
       "1                                                         0.0                       \n",
       "2                                                         0.0                       \n",
       "3                                                         0.0                       \n",
       "4                                                         0.0                       \n",
       "...                                                       ...                       \n",
       "2177                                                      0.0                       \n",
       "2178                                                      0.0                       \n",
       "2179                                                      0.0                       \n",
       "2180                                                      0.0                       \n",
       "2181                                                      0.0                       \n",
       "\n",
       "book_title  ...AND THE HORSE HE RODE IN ON : THE PEOPLE V. KENNETH STARR  \\\n",
       "0                                                         0.0              \n",
       "1                                                         0.0              \n",
       "2                                                         0.0              \n",
       "3                                                         0.0              \n",
       "4                                                         0.0              \n",
       "...                                                       ...              \n",
       "2177                                                      0.0              \n",
       "2178                                                      0.0              \n",
       "2179                                                      0.0              \n",
       "2180                                                      0.0              \n",
       "2181                                                      0.0              \n",
       "\n",
       "book_title  01-01-00: A Novel of the Millennium  \\\n",
       "0                                           0.0   \n",
       "1                                           0.0   \n",
       "2                                           0.0   \n",
       "3                                           0.0   \n",
       "4                                           0.0   \n",
       "...                                         ...   \n",
       "2177                                        0.0   \n",
       "2178                                        0.0   \n",
       "2179                                        0.0   \n",
       "2180                                        0.0   \n",
       "2181                                        0.0   \n",
       "\n",
       "book_title  1,401 More Things That P*Ss Me Off  10 Commandments Of Dating  \\\n",
       "0                                          0.0                        0.0   \n",
       "1                                          0.0                        0.0   \n",
       "2                                          0.0                        0.0   \n",
       "3                                          0.0                        0.0   \n",
       "4                                          0.0                        0.0   \n",
       "...                                        ...                        ...   \n",
       "2177                                       0.0                        0.0   \n",
       "2178                                       0.0                        0.0   \n",
       "2179                                       0.0                        0.0   \n",
       "2180                                       0.0                        0.0   \n",
       "2181                                       0.0                        0.0   \n",
       "\n",
       "book_title  100 Great Fantasy Short, Short Stories  ...  \\\n",
       "0                                              0.0  ...   \n",
       "1                                              0.0  ...   \n",
       "2                                              0.0  ...   \n",
       "3                                              0.0  ...   \n",
       "4                                              0.0  ...   \n",
       "...                                            ...  ...   \n",
       "2177                                           0.0  ...   \n",
       "2178                                           0.0  ...   \n",
       "2179                                           0.0  ...   \n",
       "2180                                           0.0  ...   \n",
       "2181                                           0.0  ...   \n",
       "\n",
       "book_title  Zora Hurston and the Chinaberry Tree (Reading Rainbow Book)  \\\n",
       "0                                                         0.0             \n",
       "1                                                         0.0             \n",
       "2                                                         0.0             \n",
       "3                                                         0.0             \n",
       "4                                                         0.0             \n",
       "...                                                       ...             \n",
       "2177                                                      0.0             \n",
       "2178                                                      0.0             \n",
       "2179                                                      0.0             \n",
       "2180                                                      0.0             \n",
       "2181                                                      0.0             \n",
       "\n",
       "book_title  \\Even Monkeys Fall from Trees\\ and Other Japanese Proverbs  \\\n",
       "0                                                         0.0            \n",
       "1                                                         0.0            \n",
       "2                                                         0.0            \n",
       "3                                                         0.0            \n",
       "4                                                         0.0            \n",
       "...                                                       ...            \n",
       "2177                                                      0.0            \n",
       "2178                                                      0.0            \n",
       "2179                                                      0.0            \n",
       "2180                                                      0.0            \n",
       "2181                                                      0.0            \n",
       "\n",
       "book_title  \\I Won't Learn from You\\: And Other Thoughts on Creative Maladjustment  \\\n",
       "0                                                         0.0                        \n",
       "1                                                         0.0                        \n",
       "2                                                         0.0                        \n",
       "3                                                         0.0                        \n",
       "4                                                         0.0                        \n",
       "...                                                       ...                        \n",
       "2177                                                      0.0                        \n",
       "2178                                                      0.0                        \n",
       "2179                                                      0.0                        \n",
       "2180                                                      0.0                        \n",
       "2181                                                      0.0                        \n",
       "\n",
       "book_title  \\More More More,\\ Said the Baby  \\O\\ Is for Outlaw  \\\n",
       "0                                       0.0                0.0   \n",
       "1                                       0.0                0.0   \n",
       "2                                       0.0                0.0   \n",
       "3                                       0.0                0.0   \n",
       "4                                       0.0                0.0   \n",
       "...                                     ...                ...   \n",
       "2177                                    0.0                0.0   \n",
       "2178                                    0.0                0.0   \n",
       "2179                                    0.0                0.0   \n",
       "2180                                    0.0                0.0   \n",
       "2181                                    0.0                0.0   \n",
       "\n",
       "book_title  \\Surely You're Joking, Mr. Feynman!\\: Adventures of a Curious Character  \\\n",
       "0                                                         0.0                         \n",
       "1                                                         0.0                         \n",
       "2                                                         0.0                         \n",
       "3                                                         0.0                         \n",
       "4                                                         0.0                         \n",
       "...                                                       ...                         \n",
       "2177                                                      0.0                         \n",
       "2178                                                      0.0                         \n",
       "2179                                                      0.0                         \n",
       "2180                                                      0.0                         \n",
       "2181                                                      0.0                         \n",
       "\n",
       "book_title  \\Well, there's your problem\\: Cartoons  iI Paradiso Degli Orchi  \\\n",
       "0                                              0.0                      0.0   \n",
       "1                                              0.0                      0.0   \n",
       "2                                              0.0                      0.0   \n",
       "3                                              0.0                      0.0   \n",
       "4                                              0.0                      0.0   \n",
       "...                                            ...                      ...   \n",
       "2177                                           0.0                      0.0   \n",
       "2178                                           0.0                      0.0   \n",
       "2179                                           0.0                      7.0   \n",
       "2180                                           0.0                      0.0   \n",
       "2181                                           0.0                      0.0   \n",
       "\n",
       "book_title  stardust  �?�?bermorgen.  \n",
       "0                0.0             0.0  \n",
       "1                0.0             0.0  \n",
       "2                0.0             0.0  \n",
       "3                0.0             0.0  \n",
       "4                0.0             0.0  \n",
       "...              ...             ...  \n",
       "2177             0.0             0.0  \n",
       "2178             0.0             0.0  \n",
       "2179             0.0             0.0  \n",
       "2180             0.0             0.0  \n",
       "2181             0.0             0.0  \n",
       "\n",
       "[2182 rows x 9659 columns]"
      ]
     },
     "execution_count": 110,
     "metadata": {},
     "output_type": "execute_result"
    }
   ],
   "source": [
    "book_df.fillna(0, inplace=True)\n",
    "book_df"
   ]
  },
  {
   "cell_type": "code",
   "execution_count": 111,
   "id": "thermal-terrain",
   "metadata": {},
   "outputs": [
    {
     "name": "stdout",
     "output_type": "stream",
     "text": [
      "7.5663\n"
     ]
    }
   ],
   "source": [
    "C = b['rating'].mean()\n",
    "print(C)"
   ]
  },
  {
   "cell_type": "code",
   "execution_count": 112,
   "id": "expanded-system",
   "metadata": {},
   "outputs": [
    {
     "name": "stdout",
     "output_type": "stream",
     "text": [
      "10.0\n"
     ]
    }
   ],
   "source": [
    "# Calculate the minimum number of votes required to be in the chart, m\n",
    "m = b['rating'].quantile(0.90)\n",
    "print(m)"
   ]
  },
  {
   "cell_type": "code",
   "execution_count": 113,
   "id": "maritime-domestic",
   "metadata": {},
   "outputs": [
    {
     "data": {
      "text/plain": [
       "(1732, 4)"
      ]
     },
     "execution_count": 113,
     "metadata": {},
     "output_type": "execute_result"
    }
   ],
   "source": [
    "# Filter out all qualified Books into a new DataFrame\n",
    "q_Books = book.copy().loc[book['rating'] >= m]\n",
    "q_Books.shape"
   ]
  },
  {
   "cell_type": "markdown",
   "id": "stock-thriller",
   "metadata": {},
   "source": [
    "# Calculating Cosine Similarity between Users"
   ]
  },
  {
   "cell_type": "code",
   "execution_count": 114,
   "id": "interstate-grill",
   "metadata": {},
   "outputs": [],
   "source": [
    "\n",
    "from sklearn.metrics import pairwise_distances\n",
    "from scipy.spatial.distance import cosine, correlation"
   ]
  },
  {
   "cell_type": "code",
   "execution_count": 115,
   "id": "excellent-identifier",
   "metadata": {},
   "outputs": [
    {
     "data": {
      "text/plain": [
       "(2182, 2182)"
      ]
     },
     "execution_count": 115,
     "metadata": {},
     "output_type": "execute_result"
    }
   ],
   "source": [
    "uc_sim = 1 - pairwise_distances( book_df.values,metric='cosine')\n",
    "uc_sim.shape"
   ]
  },
  {
   "cell_type": "code",
   "execution_count": 116,
   "id": "alert-gibraltar",
   "metadata": {},
   "outputs": [
    {
     "data": {
      "text/plain": [
       "array([0., 1., 0., ..., 0., 0., 0.])"
      ]
     },
     "execution_count": 116,
     "metadata": {},
     "output_type": "execute_result"
    }
   ],
   "source": [
    "uc_sim[1]"
   ]
  },
  {
   "cell_type": "code",
   "execution_count": 117,
   "id": "indian-rehabilitation",
   "metadata": {},
   "outputs": [],
   "source": [
    "\n",
    "#Store the results in a dataframe\n",
    "uc_sim_df = pd.DataFrame(uc_sim)\n",
    "uc_sim_df.index = book.userId.unique()\n",
    "uc_sim_df.columns = book.userId.unique()"
   ]
  },
  {
   "cell_type": "code",
   "execution_count": 118,
   "id": "motivated-destination",
   "metadata": {},
   "outputs": [
    {
     "data": {
      "text/html": [
       "<div>\n",
       "<style scoped>\n",
       "    .dataframe tbody tr th:only-of-type {\n",
       "        vertical-align: middle;\n",
       "    }\n",
       "\n",
       "    .dataframe tbody tr th {\n",
       "        vertical-align: top;\n",
       "    }\n",
       "\n",
       "    .dataframe thead th {\n",
       "        text-align: right;\n",
       "    }\n",
       "</style>\n",
       "<table border=\"1\" class=\"dataframe\">\n",
       "  <thead>\n",
       "    <tr style=\"text-align: right;\">\n",
       "      <th></th>\n",
       "      <th>276726</th>\n",
       "      <th>276729</th>\n",
       "      <th>276736</th>\n",
       "      <th>276737</th>\n",
       "      <th>276744</th>\n",
       "      <th>276745</th>\n",
       "      <th>276747</th>\n",
       "      <th>276748</th>\n",
       "      <th>276751</th>\n",
       "      <th>276754</th>\n",
       "    </tr>\n",
       "  </thead>\n",
       "  <tbody>\n",
       "    <tr>\n",
       "      <th>276726</th>\n",
       "      <td>1.0</td>\n",
       "      <td>0.0</td>\n",
       "      <td>0.0</td>\n",
       "      <td>0.0</td>\n",
       "      <td>0.0</td>\n",
       "      <td>0.0</td>\n",
       "      <td>0.0</td>\n",
       "      <td>0.0</td>\n",
       "      <td>0.0</td>\n",
       "      <td>0.0</td>\n",
       "    </tr>\n",
       "    <tr>\n",
       "      <th>276729</th>\n",
       "      <td>0.0</td>\n",
       "      <td>1.0</td>\n",
       "      <td>0.0</td>\n",
       "      <td>0.0</td>\n",
       "      <td>0.0</td>\n",
       "      <td>0.0</td>\n",
       "      <td>0.0</td>\n",
       "      <td>0.0</td>\n",
       "      <td>0.0</td>\n",
       "      <td>0.0</td>\n",
       "    </tr>\n",
       "    <tr>\n",
       "      <th>276736</th>\n",
       "      <td>0.0</td>\n",
       "      <td>0.0</td>\n",
       "      <td>1.0</td>\n",
       "      <td>0.0</td>\n",
       "      <td>0.0</td>\n",
       "      <td>0.0</td>\n",
       "      <td>0.0</td>\n",
       "      <td>0.0</td>\n",
       "      <td>0.0</td>\n",
       "      <td>0.0</td>\n",
       "    </tr>\n",
       "    <tr>\n",
       "      <th>276737</th>\n",
       "      <td>0.0</td>\n",
       "      <td>0.0</td>\n",
       "      <td>0.0</td>\n",
       "      <td>1.0</td>\n",
       "      <td>0.0</td>\n",
       "      <td>0.0</td>\n",
       "      <td>0.0</td>\n",
       "      <td>0.0</td>\n",
       "      <td>0.0</td>\n",
       "      <td>0.0</td>\n",
       "    </tr>\n",
       "    <tr>\n",
       "      <th>276744</th>\n",
       "      <td>0.0</td>\n",
       "      <td>0.0</td>\n",
       "      <td>0.0</td>\n",
       "      <td>0.0</td>\n",
       "      <td>1.0</td>\n",
       "      <td>0.0</td>\n",
       "      <td>0.0</td>\n",
       "      <td>0.0</td>\n",
       "      <td>0.0</td>\n",
       "      <td>0.0</td>\n",
       "    </tr>\n",
       "    <tr>\n",
       "      <th>276745</th>\n",
       "      <td>0.0</td>\n",
       "      <td>0.0</td>\n",
       "      <td>0.0</td>\n",
       "      <td>0.0</td>\n",
       "      <td>0.0</td>\n",
       "      <td>1.0</td>\n",
       "      <td>0.0</td>\n",
       "      <td>0.0</td>\n",
       "      <td>0.0</td>\n",
       "      <td>0.0</td>\n",
       "    </tr>\n",
       "    <tr>\n",
       "      <th>276747</th>\n",
       "      <td>0.0</td>\n",
       "      <td>0.0</td>\n",
       "      <td>0.0</td>\n",
       "      <td>0.0</td>\n",
       "      <td>0.0</td>\n",
       "      <td>0.0</td>\n",
       "      <td>1.0</td>\n",
       "      <td>0.0</td>\n",
       "      <td>0.0</td>\n",
       "      <td>0.0</td>\n",
       "    </tr>\n",
       "    <tr>\n",
       "      <th>276748</th>\n",
       "      <td>0.0</td>\n",
       "      <td>0.0</td>\n",
       "      <td>0.0</td>\n",
       "      <td>0.0</td>\n",
       "      <td>0.0</td>\n",
       "      <td>0.0</td>\n",
       "      <td>0.0</td>\n",
       "      <td>1.0</td>\n",
       "      <td>0.0</td>\n",
       "      <td>0.0</td>\n",
       "    </tr>\n",
       "    <tr>\n",
       "      <th>276751</th>\n",
       "      <td>0.0</td>\n",
       "      <td>0.0</td>\n",
       "      <td>0.0</td>\n",
       "      <td>0.0</td>\n",
       "      <td>0.0</td>\n",
       "      <td>0.0</td>\n",
       "      <td>0.0</td>\n",
       "      <td>0.0</td>\n",
       "      <td>1.0</td>\n",
       "      <td>0.0</td>\n",
       "    </tr>\n",
       "    <tr>\n",
       "      <th>276754</th>\n",
       "      <td>0.0</td>\n",
       "      <td>0.0</td>\n",
       "      <td>0.0</td>\n",
       "      <td>0.0</td>\n",
       "      <td>0.0</td>\n",
       "      <td>0.0</td>\n",
       "      <td>0.0</td>\n",
       "      <td>0.0</td>\n",
       "      <td>0.0</td>\n",
       "      <td>1.0</td>\n",
       "    </tr>\n",
       "  </tbody>\n",
       "</table>\n",
       "</div>"
      ],
      "text/plain": [
       "        276726  276729  276736  276737  276744  276745  276747  276748  \\\n",
       "276726     1.0     0.0     0.0     0.0     0.0     0.0     0.0     0.0   \n",
       "276729     0.0     1.0     0.0     0.0     0.0     0.0     0.0     0.0   \n",
       "276736     0.0     0.0     1.0     0.0     0.0     0.0     0.0     0.0   \n",
       "276737     0.0     0.0     0.0     1.0     0.0     0.0     0.0     0.0   \n",
       "276744     0.0     0.0     0.0     0.0     1.0     0.0     0.0     0.0   \n",
       "276745     0.0     0.0     0.0     0.0     0.0     1.0     0.0     0.0   \n",
       "276747     0.0     0.0     0.0     0.0     0.0     0.0     1.0     0.0   \n",
       "276748     0.0     0.0     0.0     0.0     0.0     0.0     0.0     1.0   \n",
       "276751     0.0     0.0     0.0     0.0     0.0     0.0     0.0     0.0   \n",
       "276754     0.0     0.0     0.0     0.0     0.0     0.0     0.0     0.0   \n",
       "\n",
       "        276751  276754  \n",
       "276726     0.0     0.0  \n",
       "276729     0.0     0.0  \n",
       "276736     0.0     0.0  \n",
       "276737     0.0     0.0  \n",
       "276744     0.0     0.0  \n",
       "276745     0.0     0.0  \n",
       "276747     0.0     0.0  \n",
       "276748     0.0     0.0  \n",
       "276751     1.0     0.0  \n",
       "276754     0.0     1.0  "
      ]
     },
     "execution_count": 118,
     "metadata": {},
     "output_type": "execute_result"
    }
   ],
   "source": [
    "uc_sim_df.iloc[0:10, 0:10]"
   ]
  },
  {
   "cell_type": "code",
   "execution_count": 119,
   "id": "modified-final",
   "metadata": {},
   "outputs": [
    {
     "data": {
      "text/plain": [
       "276726    276726\n",
       "276729    276729\n",
       "276736    276736\n",
       "276737    276737\n",
       "276744    276744\n",
       "           ...  \n",
       "277139    277139\n",
       "277143    277143\n",
       "277157    277157\n",
       "277159    277159\n",
       "277165    277165\n",
       "Length: 125, dtype: int64"
      ]
     },
     "execution_count": 119,
     "metadata": {},
     "output_type": "execute_result"
    }
   ],
   "source": [
    "uc_sim_df.idxmax(axis=1)[0:125]"
   ]
  },
  {
   "cell_type": "code",
   "execution_count": 120,
   "id": "humanitarian-citizenship",
   "metadata": {},
   "outputs": [
    {
     "data": {
      "text/html": [
       "<div>\n",
       "<style scoped>\n",
       "    .dataframe tbody tr th:only-of-type {\n",
       "        vertical-align: middle;\n",
       "    }\n",
       "\n",
       "    .dataframe tbody tr th {\n",
       "        vertical-align: top;\n",
       "    }\n",
       "\n",
       "    .dataframe thead th {\n",
       "        text-align: right;\n",
       "    }\n",
       "</style>\n",
       "<table border=\"1\" class=\"dataframe\">\n",
       "  <thead>\n",
       "    <tr style=\"text-align: right;\">\n",
       "      <th></th>\n",
       "      <th>ab</th>\n",
       "      <th>userId</th>\n",
       "      <th>book_title</th>\n",
       "      <th>rating</th>\n",
       "    </tr>\n",
       "  </thead>\n",
       "  <tbody>\n",
       "    <tr>\n",
       "      <th>0</th>\n",
       "      <td>1</td>\n",
       "      <td>276726</td>\n",
       "      <td>Classical Mythology</td>\n",
       "      <td>5</td>\n",
       "    </tr>\n",
       "    <tr>\n",
       "      <th>2413</th>\n",
       "      <td>2414</td>\n",
       "      <td>17</td>\n",
       "      <td>Conversations With Dogbert: A Dilbert Book</td>\n",
       "      <td>7</td>\n",
       "    </tr>\n",
       "    <tr>\n",
       "      <th>2414</th>\n",
       "      <td>2415</td>\n",
       "      <td>17</td>\n",
       "      <td>The Dilbert Bunch: A Dilbert Book (Main Street...</td>\n",
       "      <td>5</td>\n",
       "    </tr>\n",
       "    <tr>\n",
       "      <th>2415</th>\n",
       "      <td>2416</td>\n",
       "      <td>17</td>\n",
       "      <td>You Don't Need Experience if You've Got Attitude</td>\n",
       "      <td>6</td>\n",
       "    </tr>\n",
       "    <tr>\n",
       "      <th>2416</th>\n",
       "      <td>2417</td>\n",
       "      <td>17</td>\n",
       "      <td>The Boss: Nameless, Blameless and Shameless (A...</td>\n",
       "      <td>3</td>\n",
       "    </tr>\n",
       "  </tbody>\n",
       "</table>\n",
       "</div>"
      ],
      "text/plain": [
       "        ab  userId                                         book_title  rating\n",
       "0        1  276726                                Classical Mythology       5\n",
       "2413  2414      17         Conversations With Dogbert: A Dilbert Book       7\n",
       "2414  2415      17  The Dilbert Bunch: A Dilbert Book (Main Street...       5\n",
       "2415  2416      17   You Don't Need Experience if You've Got Attitude       6\n",
       "2416  2417      17  The Boss: Nameless, Blameless and Shameless (A...       3"
      ]
     },
     "execution_count": 120,
     "metadata": {},
     "output_type": "execute_result"
    }
   ],
   "source": [
    "u=book[(book['userId']==276726) | (book['userId']==17)]\n",
    "u"
   ]
  },
  {
   "cell_type": "code",
   "execution_count": 121,
   "id": "proper-consolidation",
   "metadata": {},
   "outputs": [
    {
     "data": {
      "text/html": [
       "<div>\n",
       "<style scoped>\n",
       "    .dataframe tbody tr th:only-of-type {\n",
       "        vertical-align: middle;\n",
       "    }\n",
       "\n",
       "    .dataframe tbody tr th {\n",
       "        vertical-align: top;\n",
       "    }\n",
       "\n",
       "    .dataframe thead th {\n",
       "        text-align: right;\n",
       "    }\n",
       "</style>\n",
       "<table border=\"1\" class=\"dataframe\">\n",
       "  <thead>\n",
       "    <tr style=\"text-align: right;\">\n",
       "      <th></th>\n",
       "      <th>userId</th>\n",
       "      <th>book_title</th>\n",
       "      <th>rating</th>\n",
       "    </tr>\n",
       "  </thead>\n",
       "  <tbody>\n",
       "    <tr>\n",
       "      <th>0</th>\n",
       "      <td>276726</td>\n",
       "      <td>Classical Mythology</td>\n",
       "      <td>5</td>\n",
       "    </tr>\n",
       "  </tbody>\n",
       "</table>\n",
       "</div>"
      ],
      "text/plain": [
       "   userId           book_title  rating\n",
       "0  276726  Classical Mythology       5"
      ]
     },
     "execution_count": 121,
     "metadata": {},
     "output_type": "execute_result"
    }
   ],
   "source": [
    "user_1=b[(b['userId']==276726)] \n",
    "user_1"
   ]
  },
  {
   "cell_type": "code",
   "execution_count": 122,
   "id": "played-amateur",
   "metadata": {},
   "outputs": [
    {
     "data": {
      "text/html": [
       "<div>\n",
       "<style scoped>\n",
       "    .dataframe tbody tr th:only-of-type {\n",
       "        vertical-align: middle;\n",
       "    }\n",
       "\n",
       "    .dataframe tbody tr th {\n",
       "        vertical-align: top;\n",
       "    }\n",
       "\n",
       "    .dataframe thead th {\n",
       "        text-align: right;\n",
       "    }\n",
       "</style>\n",
       "<table border=\"1\" class=\"dataframe\">\n",
       "  <thead>\n",
       "    <tr style=\"text-align: right;\">\n",
       "      <th></th>\n",
       "      <th>userId</th>\n",
       "      <th>book_title</th>\n",
       "      <th>rating</th>\n",
       "    </tr>\n",
       "  </thead>\n",
       "  <tbody>\n",
       "    <tr>\n",
       "      <th>2413</th>\n",
       "      <td>17</td>\n",
       "      <td>Conversations With Dogbert: A Dilbert Book</td>\n",
       "      <td>7</td>\n",
       "    </tr>\n",
       "    <tr>\n",
       "      <th>2414</th>\n",
       "      <td>17</td>\n",
       "      <td>The Dilbert Bunch: A Dilbert Book (Main Street...</td>\n",
       "      <td>5</td>\n",
       "    </tr>\n",
       "    <tr>\n",
       "      <th>2415</th>\n",
       "      <td>17</td>\n",
       "      <td>You Don't Need Experience if You've Got Attitude</td>\n",
       "      <td>6</td>\n",
       "    </tr>\n",
       "    <tr>\n",
       "      <th>2416</th>\n",
       "      <td>17</td>\n",
       "      <td>The Boss: Nameless, Blameless and Shameless (A...</td>\n",
       "      <td>3</td>\n",
       "    </tr>\n",
       "  </tbody>\n",
       "</table>\n",
       "</div>"
      ],
      "text/plain": [
       "      userId                                         book_title  rating\n",
       "2413      17         Conversations With Dogbert: A Dilbert Book       7\n",
       "2414      17  The Dilbert Bunch: A Dilbert Book (Main Street...       5\n",
       "2415      17   You Don't Need Experience if You've Got Attitude       6\n",
       "2416      17  The Boss: Nameless, Blameless and Shameless (A...       3"
      ]
     },
     "execution_count": 122,
     "metadata": {},
     "output_type": "execute_result"
    }
   ],
   "source": [
    "user_2=b[(b['userId']==17)] \n",
    "user_2"
   ]
  },
  {
   "cell_type": "code",
   "execution_count": 123,
   "id": "concrete-northeast",
   "metadata": {},
   "outputs": [],
   "source": [
    "indices = pd.Series(book.index, index=book['book_title']).drop_duplicates()"
   ]
  },
  {
   "cell_type": "code",
   "execution_count": 124,
   "id": "verbal-motel",
   "metadata": {},
   "outputs": [
    {
     "data": {
      "text/plain": [
       "book_title\n",
       "Classical Mythology                                                                                   0\n",
       "Clara Callan                                                                                          1\n",
       "Decision in Normandy                                                                                  2\n",
       "Flu: The Story of the Great Influenza Pandemic of 1918 and the Search for the Virus That Caused It    3\n",
       "The Mummies of Urumchi                                                                                4\n",
       "The Kitchen God's Wife                                                                                5\n",
       "What If?: The World's Foremost Military Historians Imagine What Might Have Been                       6\n",
       "PLEADING GUILTY                                                                                       7\n",
       "Under the Black Flag: The Romance and the Reality of Life Among the Pirates                           8\n",
       "Where You'll Find Me: And Other Stories                                                               9\n",
       "dtype: int64"
      ]
     },
     "execution_count": 124,
     "metadata": {},
     "output_type": "execute_result"
    }
   ],
   "source": [
    "indices[:10]"
   ]
  },
  {
   "cell_type": "code",
   "execution_count": 127,
   "id": "polyphonic-burst",
   "metadata": {},
   "outputs": [
    {
     "data": {
      "text/html": [
       "<div>\n",
       "<style scoped>\n",
       "    .dataframe tbody tr th:only-of-type {\n",
       "        vertical-align: middle;\n",
       "    }\n",
       "\n",
       "    .dataframe tbody tr th {\n",
       "        vertical-align: top;\n",
       "    }\n",
       "\n",
       "    .dataframe thead th {\n",
       "        text-align: right;\n",
       "    }\n",
       "</style>\n",
       "<table border=\"1\" class=\"dataframe\">\n",
       "  <thead>\n",
       "    <tr style=\"text-align: right;\">\n",
       "      <th></th>\n",
       "      <th>userId_x</th>\n",
       "      <th>book_title_x</th>\n",
       "      <th>rating</th>\n",
       "      <th>userId_y</th>\n",
       "      <th>book_title_y</th>\n",
       "    </tr>\n",
       "  </thead>\n",
       "  <tbody>\n",
       "    <tr>\n",
       "      <th>0</th>\n",
       "      <td>276726.0</td>\n",
       "      <td>Classical Mythology</td>\n",
       "      <td>5</td>\n",
       "      <td>17</td>\n",
       "      <td>The Dilbert Bunch: A Dilbert Book (Main Street...</td>\n",
       "    </tr>\n",
       "    <tr>\n",
       "      <th>1</th>\n",
       "      <td>NaN</td>\n",
       "      <td>NaN</td>\n",
       "      <td>7</td>\n",
       "      <td>17</td>\n",
       "      <td>Conversations With Dogbert: A Dilbert Book</td>\n",
       "    </tr>\n",
       "    <tr>\n",
       "      <th>2</th>\n",
       "      <td>NaN</td>\n",
       "      <td>NaN</td>\n",
       "      <td>6</td>\n",
       "      <td>17</td>\n",
       "      <td>You Don't Need Experience if You've Got Attitude</td>\n",
       "    </tr>\n",
       "    <tr>\n",
       "      <th>3</th>\n",
       "      <td>NaN</td>\n",
       "      <td>NaN</td>\n",
       "      <td>3</td>\n",
       "      <td>17</td>\n",
       "      <td>The Boss: Nameless, Blameless and Shameless (A...</td>\n",
       "    </tr>\n",
       "  </tbody>\n",
       "</table>\n",
       "</div>"
      ],
      "text/plain": [
       "   userId_x         book_title_x  rating  userId_y  \\\n",
       "0  276726.0  Classical Mythology       5        17   \n",
       "1       NaN                  NaN       7        17   \n",
       "2       NaN                  NaN       6        17   \n",
       "3       NaN                  NaN       3        17   \n",
       "\n",
       "                                        book_title_y  \n",
       "0  The Dilbert Bunch: A Dilbert Book (Main Street...  \n",
       "1         Conversations With Dogbert: A Dilbert Book  \n",
       "2   You Don't Need Experience if You've Got Attitude  \n",
       "3  The Boss: Nameless, Blameless and Shameless (A...  "
      ]
     },
     "execution_count": 127,
     "metadata": {},
     "output_type": "execute_result"
    }
   ],
   "source": [
    "pd.merge(user_1,user_2,on='rating',how='outer')"
   ]
  },
  {
   "cell_type": "code",
   "execution_count": 128,
   "id": "lined-layout",
   "metadata": {},
   "outputs": [
    {
     "name": "stdout",
     "output_type": "stream",
     "text": [
      "[0       0.0\n",
      "1       0.0\n",
      "2       0.0\n",
      "3       0.0\n",
      "4       0.0\n",
      "       ... \n",
      "2177    0.0\n",
      "2178    0.0\n",
      "2179    0.0\n",
      "2180    0.0\n",
      "2181    0.0\n",
      "Name: You Don't Need Experience if You've Got Attitude, Length: 2182, dtype: float64]\n"
     ]
    }
   ],
   "source": [
    "book_user_rating = book_df[\"You Don't Need Experience if You've Got Attitude\"]  \n",
    "print([book_user_rating])"
   ]
  },
  {
   "cell_type": "code",
   "execution_count": 130,
   "id": "alert-interest",
   "metadata": {},
   "outputs": [],
   "source": [
    "#Finding the correlation with different movies\n",
    "similar_to_book = book_df.corrwith(book_user_rating) "
   ]
  },
  {
   "cell_type": "code",
   "execution_count": 129,
   "id": "lasting-clinic",
   "metadata": {},
   "outputs": [
    {
     "data": {
      "text/html": [
       "<div>\n",
       "<style scoped>\n",
       "    .dataframe tbody tr th:only-of-type {\n",
       "        vertical-align: middle;\n",
       "    }\n",
       "\n",
       "    .dataframe tbody tr th {\n",
       "        vertical-align: top;\n",
       "    }\n",
       "\n",
       "    .dataframe thead th {\n",
       "        text-align: right;\n",
       "    }\n",
       "</style>\n",
       "<table border=\"1\" class=\"dataframe\">\n",
       "  <thead>\n",
       "    <tr style=\"text-align: right;\">\n",
       "      <th></th>\n",
       "      <th>Correlation</th>\n",
       "    </tr>\n",
       "    <tr>\n",
       "      <th>book</th>\n",
       "      <th></th>\n",
       "    </tr>\n",
       "  </thead>\n",
       "  <tbody>\n",
       "    <tr>\n",
       "      <th>Jason, Madison &amp;amp</th>\n",
       "      <td>-0.000459</td>\n",
       "    </tr>\n",
       "    <tr>\n",
       "      <th>Other Stories;Merril;1985;McClelland &amp;amp</th>\n",
       "      <td>-0.000459</td>\n",
       "    </tr>\n",
       "    <tr>\n",
       "      <th>Repairing PC Drives &amp;amp</th>\n",
       "      <td>-0.000459</td>\n",
       "    </tr>\n",
       "    <tr>\n",
       "      <th>'48</th>\n",
       "      <td>-0.000459</td>\n",
       "    </tr>\n",
       "    <tr>\n",
       "      <th>'O Au No Keia: Voices from Hawai'I's Mahu and Transgender Communities</th>\n",
       "      <td>-0.000459</td>\n",
       "    </tr>\n",
       "  </tbody>\n",
       "</table>\n",
       "</div>"
      ],
      "text/plain": [
       "                                                    Correlation\n",
       "book                                                           \n",
       " Jason, Madison &amp                                  -0.000459\n",
       " Other Stories;Merril;1985;McClelland &amp            -0.000459\n",
       " Repairing PC Drives &amp                             -0.000459\n",
       "'48                                                   -0.000459\n",
       "'O Au No Keia: Voices from Hawai'I's Mahu and T...    -0.000459"
      ]
     },
     "execution_count": 129,
     "metadata": {},
     "output_type": "execute_result"
    }
   ],
   "source": [
    "corr_book = pd.DataFrame(similar_to_book, columns=['Correlation'])\n",
    "corr_book.dropna(inplace=True)\n",
    "corr_book.head()"
   ]
  },
  {
   "cell_type": "code",
   "execution_count": 131,
   "id": "possible-grain",
   "metadata": {},
   "outputs": [
    {
     "data": {
      "text/html": [
       "<div>\n",
       "<style scoped>\n",
       "    .dataframe tbody tr th:only-of-type {\n",
       "        vertical-align: middle;\n",
       "    }\n",
       "\n",
       "    .dataframe tbody tr th {\n",
       "        vertical-align: top;\n",
       "    }\n",
       "\n",
       "    .dataframe thead th {\n",
       "        text-align: right;\n",
       "    }\n",
       "</style>\n",
       "<table border=\"1\" class=\"dataframe\">\n",
       "  <thead>\n",
       "    <tr style=\"text-align: right;\">\n",
       "      <th></th>\n",
       "      <th>Correlation</th>\n",
       "    </tr>\n",
       "    <tr>\n",
       "      <th>book</th>\n",
       "      <th></th>\n",
       "    </tr>\n",
       "  </thead>\n",
       "  <tbody>\n",
       "    <tr>\n",
       "      <th>Conversations With Dogbert: A Dilbert Book</th>\n",
       "      <td>1.0</td>\n",
       "    </tr>\n",
       "    <tr>\n",
       "      <th>The Boss: Nameless, Blameless and Shameless (Adams, Scott, Dilbert Book,)</th>\n",
       "      <td>1.0</td>\n",
       "    </tr>\n",
       "    <tr>\n",
       "      <th>The Dilbert Bunch: A Dilbert Book (Main Street Editions)</th>\n",
       "      <td>1.0</td>\n",
       "    </tr>\n",
       "    <tr>\n",
       "      <th>You Don't Need Experience if You've Got Attitude</th>\n",
       "      <td>1.0</td>\n",
       "    </tr>\n",
       "  </tbody>\n",
       "</table>\n",
       "</div>"
      ],
      "text/plain": [
       "                                                    Correlation\n",
       "book                                                           \n",
       "Conversations With Dogbert: A Dilbert Book                  1.0\n",
       "The Boss: Nameless, Blameless and Shameless (Ad...          1.0\n",
       "The Dilbert Bunch: A Dilbert Book (Main Street ...          1.0\n",
       "You Don't Need Experience if You've Got Attitude            1.0"
      ]
     },
     "execution_count": 131,
     "metadata": {},
     "output_type": "execute_result"
    }
   ],
   "source": [
    "corr_book[corr_book['Correlation'] > 0].sort_values(by='Correlation', ascending=False).head(10)  "
   ]
  },
  {
   "cell_type": "code",
   "execution_count": 135,
   "id": "characteristic-basketball",
   "metadata": {},
   "outputs": [],
   "source": [
    "ratings_mean_count = pd.DataFrame(b.groupby('book_title')['rating'].mean())\n",
    "ratings_mean_count['rating_counts'] = pd.DataFrame(b.groupby('book_title')['rating'].count())"
   ]
  },
  {
   "cell_type": "code",
   "execution_count": 136,
   "id": "coral-capitol",
   "metadata": {},
   "outputs": [
    {
     "data": {
      "text/plain": [
       "<AxesSubplot:>"
      ]
     },
     "execution_count": 136,
     "metadata": {},
     "output_type": "execute_result"
    },
    {
     "data": {
      "image/png": "[encoded data removed]",
      "text/plain": [
       "<Figure size 576x432 with 1 Axes>"
      ]
     },
     "metadata": {
      "needs_background": "light"
     },
     "output_type": "display_data"
    }
   ],
   "source": [
    "import matplotlib.pyplot as plt\n",
    "import seaborn as sns\n",
    "sns.set_style('dark')\n",
    "%matplotlib inline\n",
    "\n",
    "plt.figure(figsize=(8,6))\n",
    "plt.rcParams['patch.force_edgecolor'] = True\n",
    "ratings_mean_count['rating_counts'].hist(bins=10)"
   ]
  },
  {
   "cell_type": "code",
   "execution_count": 137,
   "id": "complicated-columbus",
   "metadata": {},
   "outputs": [
    {
     "data": {
      "text/plain": [
       "<AxesSubplot:>"
      ]
     },
     "execution_count": 137,
     "metadata": {},
     "output_type": "execute_result"
    },
    {
     "data": {
      "image/png": "[encoded data removed]",
      "text/plain": [
       "<Figure size 576x432 with 1 Axes>"
      ]
     },
     "metadata": {
      "needs_background": "light"
     },
     "output_type": "display_data"
    }
   ],
   "source": [
    "plt.figure(figsize=(8,6))\n",
    "plt.rcParams['patch.force_edgecolor'] = True\n",
    "ratings_mean_count['rating'].hist(bins=10)"
   ]
  },
  {
   "cell_type": "code",
   "execution_count": 138,
   "id": "vocal-arabic",
   "metadata": {},
   "outputs": [
    {
     "data": {
      "text/plain": [
       "<seaborn.axisgrid.JointGrid at 0x106bcaf7310>"
      ]
     },
     "execution_count": 138,
     "metadata": {},
     "output_type": "execute_result"
    },
    {
     "data": {
      "text/plain": [
       "<Figure size 576x432 with 0 Axes>"
      ]
     },
     "metadata": {},
     "output_type": "display_data"
    },
    {
     "data": {
      "image/png": "[encoded data removed]",
      "text/plain": [
       "<Figure size 432x432 with 3 Axes>"
      ]
     },
     "metadata": {
      "needs_background": "light"
     },
     "output_type": "display_data"
    }
   ],
   "source": [
    "plt.figure(figsize=(8,6))\n",
    "plt.rcParams['patch.force_edgecolor'] = True\n",
    "sns.jointplot(x='rating', y='rating_counts', data=ratings_mean_count, alpha=0.4)"
   ]
  },
  {
   "cell_type": "markdown",
   "id": "found-cambodia",
   "metadata": {},
   "source": [
    "# conclusion"
   ]
  },
  {
   "cell_type": "markdown",
   "id": "important-relationship",
   "metadata": {},
   "source": [
    "From the output you can see that the Books that have high correlation with  are not very well known. \n",
    "This shows that correlation alone is not a good metric for similarity because there can be a user who wished\n",
    "to take those Books and only other books and rated them same."
   ]
  },
  {
   "cell_type": "code",
   "execution_count": null,
   "id": "exotic-setting",
   "metadata": {},
   "outputs": [],
   "source": []
  },
  {
   "cell_type": "code",
   "execution_count": null,
   "id": "plastic-ladder",
   "metadata": {},
   "outputs": [],
   "source": []
  },
  {
   "cell_type": "code",
   "execution_count": null,
   "id": "dominant-looking",
   "metadata": {},
   "outputs": [],
   "source": []
  },
  {
   "cell_type": "code",
   "execution_count": null,
   "id": "governing-piece",
   "metadata": {},
   "outputs": [],
   "source": []
  },
  {
   "cell_type": "code",
   "execution_count": null,
   "id": "practical-excess",
   "metadata": {},
   "outputs": [],
   "source": []
  },
  {
   "cell_type": "code",
   "execution_count": null,
   "id": "single-practitioner",
   "metadata": {},
   "outputs": [],
   "source": []
  },
  {
   "cell_type": "code",
   "execution_count": null,
   "id": "controlling-glass",
   "metadata": {},
   "outputs": [],
   "source": []
  },
  {
   "cell_type": "code",
   "execution_count": null,
   "id": "daily-objective",
   "metadata": {},
   "outputs": [],
   "source": []
  },
  {
   "cell_type": "code",
   "execution_count": null,
   "id": "express-aaron",
   "metadata": {},
   "outputs": [],
   "source": []
  },
  {
   "cell_type": "code",
   "execution_count": null,
   "id": "separated-clinton",
   "metadata": {},
   "outputs": [],
   "source": []
  },
  {
   "cell_type": "code",
   "execution_count": null,
   "id": "empirical-spanking",
   "metadata": {},
   "outputs": [],
   "source": []
  },
  {
   "cell_type": "code",
   "execution_count": null,
   "id": "daily-bidder",
   "metadata": {},
   "outputs": [],
   "source": []
  },
  {
   "cell_type": "code",
   "execution_count": null,
   "id": "defined-adrian",
   "metadata": {},
   "outputs": [],
   "source": []
  },
  {
   "cell_type": "code",
   "execution_count": null,
   "id": "great-venice",
   "metadata": {},
   "outputs": [],
   "source": []
  },
  {
   "cell_type": "code",
   "execution_count": null,
   "id": "sufficient-least",
   "metadata": {},
   "outputs": [],
   "source": []
  },
  {
   "cell_type": "code",
   "execution_count": null,
   "id": "shaped-cassette",
   "metadata": {},
   "outputs": [],
   "source": []
  },
  {
   "cell_type": "code",
   "execution_count": null,
   "id": "instructional-advance",
   "metadata": {},
   "outputs": [],
   "source": []
  },
  {
   "cell_type": "code",
   "execution_count": null,
   "id": "tutorial-wiring",
   "metadata": {},
   "outputs": [],
   "source": []
  },
  {
   "cell_type": "code",
   "execution_count": null,
   "id": "accompanied-valve",
   "metadata": {},
   "outputs": [],
   "source": []
  },
  {
   "cell_type": "code",
   "execution_count": null,
   "id": "convenient-antibody",
   "metadata": {},
   "outputs": [],
   "source": []
  },
  {
   "cell_type": "code",
   "execution_count": null,
   "id": "aggregate-basement",
   "metadata": {},
   "outputs": [],
   "source": []
  }
 ],
 "metadata": {
  "kernelspec": {
   "display_name": "Python 3",
   "language": "python",
   "name": "python3"
  },
  "language_info": {
   "codemirror_mode": {
    "name": "ipython",
    "version": 3
   },
   "file_extension": ".py",
   "mimetype": "text/x-python",
   "name": "python",
   "nbconvert_exporter": "python",
   "pygments_lexer": "ipython3",
   "version": "3.8.5"
  }
 },
 "nbformat": 4,
 "nbformat_minor": 5
}
